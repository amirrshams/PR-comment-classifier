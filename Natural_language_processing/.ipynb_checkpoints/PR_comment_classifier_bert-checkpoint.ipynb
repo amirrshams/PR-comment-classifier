{
 "cells": [
  {
   "attachments": {},
   "cell_type": "markdown",
   "metadata": {
    "id": "QJ3fZ4A-ViqN"
   },
   "source": [
    "In this body of work, i will try to categorize about 400k non-merged pull requests.\n",
    "First, we need to import the libraries."
   ]
  },
  {
   "cell_type": "code",
   "execution_count": 1,
   "metadata": {
    "colab": {
     "base_uri": "https://localhost:8080/"
    },
    "executionInfo": {
     "elapsed": 28990,
     "status": "ok",
     "timestamp": 1684860855240,
     "user": {
      "displayName": "Amirreza Shams",
      "userId": "00511874694037836480"
     },
     "user_tz": 240
    },
    "id": "J5Wg8L_GV_Ni",
    "outputId": "284c666a-f626-4a79-e045-07098df86ee6"
   },
   "outputs": [
    {
     "name": "stdout",
     "output_type": "stream",
     "text": [
      "Looking in links: /cvmfs/soft.computecanada.ca/custom/python/wheelhouse/gentoo/avx2, /cvmfs/soft.computecanada.ca/custom/python/wheelhouse/gentoo/generic, /cvmfs/soft.computecanada.ca/custom/python/wheelhouse/generic\n",
      "Requirement already satisfied: transformers in /project/6033386/a2shamso/venv/lib/python3.10/site-packages (4.31.0+computecanada)\n",
      "Requirement already satisfied: packaging>=20.0 in /project/6033386/a2shamso/venv/lib/python3.10/site-packages (from transformers) (23.1+computecanada)\n",
      "Requirement already satisfied: filelock in /project/6033386/a2shamso/venv/lib/python3.10/site-packages (from transformers) (3.12.2)\n",
      "Requirement already satisfied: regex!=2019.12.17 in /project/6033386/a2shamso/venv/lib/python3.10/site-packages (from transformers) (2022.10.31+computecanada)\n",
      "Requirement already satisfied: requests in /project/6033386/a2shamso/venv/lib/python3.10/site-packages (from transformers) (2.31.0)\n",
      "Requirement already satisfied: pyyaml>=5.1 in /project/6033386/a2shamso/venv/lib/python3.10/site-packages (from transformers) (6.0+computecanada)\n",
      "Requirement already satisfied: tqdm>=4.27 in /project/6033386/a2shamso/venv/lib/python3.10/site-packages (from transformers) (4.65.0+computecanada)\n",
      "Requirement already satisfied: huggingface-hub<1.0,>=0.14.1 in /project/6033386/a2shamso/venv/lib/python3.10/site-packages (from transformers) (0.16.4+computecanada)\n",
      "Requirement already satisfied: numpy>=1.17 in /project/6033386/a2shamso/venv/lib/python3.10/site-packages (from transformers) (1.24.2+computecanada)\n",
      "Requirement already satisfied: safetensors>=0.3.1 in /project/6033386/a2shamso/venv/lib/python3.10/site-packages (from transformers) (0.3.1+computecanada)\n",
      "Requirement already satisfied: tokenizers!=0.11.3,<0.14,>=0.11.1 in /project/6033386/a2shamso/venv/lib/python3.10/site-packages (from transformers) (0.13.3+computecanada)\n",
      "Requirement already satisfied: typing-extensions>=3.7.4.3 in /project/6033386/a2shamso/venv/lib/python3.10/site-packages (from huggingface-hub<1.0,>=0.14.1->transformers) (4.7.1+computecanada)\n",
      "Requirement already satisfied: fsspec in /project/6033386/a2shamso/venv/lib/python3.10/site-packages (from huggingface-hub<1.0,>=0.14.1->transformers) (2023.6.0+computecanada)\n",
      "Requirement already satisfied: idna<4,>=2.5 in /project/6033386/a2shamso/venv/lib/python3.10/site-packages (from requests->transformers) (3.4+computecanada)\n",
      "Requirement already satisfied: charset-normalizer<4,>=2 in /project/6033386/a2shamso/venv/lib/python3.10/site-packages (from requests->transformers) (3.2.0)\n",
      "Requirement already satisfied: urllib3<3,>=1.21.1 in /project/6033386/a2shamso/venv/lib/python3.10/site-packages (from requests->transformers) (2.0.4)\n",
      "Requirement already satisfied: certifi>=2017.4.17 in /project/6033386/a2shamso/venv/lib/python3.10/site-packages (from requests->transformers) (2023.7.22)\n"
     ]
    }
   ],
   "source": [
    "!pip install transformers"
   ]
  },
  {
   "cell_type": "code",
   "execution_count": 2,
   "metadata": {
    "executionInfo": {
     "elapsed": 15636,
     "status": "ok",
     "timestamp": 1684860877267,
     "user": {
      "displayName": "Amirreza Shams",
      "userId": "00511874694037836480"
     },
     "user_tz": 240
    },
    "id": "khhoSU0BViqO"
   },
   "outputs": [],
   "source": [
    "from transformers import AutoTokenizer, AutoModelForMaskedLM, BertTokenizer, BertModel, AdamW, get_linear_schedule_with_warmup, BertForSequenceClassification, BertConfig\n",
    "import pandas as pd\n",
    "import os\n",
    "os.environ['TORCH_USE_CUDA_DSA'] = '1'\n",
    "import torch\n",
    "import torch.nn as nn\n",
    "from torch.nn import BCEWithLogitsLoss, CrossEntropyLoss\n",
    "from torch.utils.data import Dataset, DataLoader, random_split\n",
    "import numpy as np\n",
    "from torch.optim import Adam\n",
    "os.environ['CUDA_LAUNCH_BLOCKING'] = '1'\n",
    "\n",
    "from sklearn.model_selection import train_test_split\n",
    "from sklearn.metrics import classification_report, multilabel_confusion_matrix\n",
    "from sklearn.preprocessing import LabelEncoder\n",
    "\n",
    "import re\n",
    "import ast\n",
    "pd.set_option('display.max_columns', None)\n",
    "import matplotlib.pyplot as plt\n",
    "import seaborn as sns\n",
    "\n",
    "# import pytorch_lightning as pl\n",
    "# from torchmetrics.functional import accuracy, f1_score, auroc\n",
    "# from pytorch_lightning.callbacks import ModelCheckpoint, EarlyStopping\n",
    "# from pytorch_lightning.loggers import TensorBoardLogger\n",
    "from sklearn.metrics import accuracy_score, precision_score, recall_score, f1_score, confusion_matrix\n",
    "\n",
    "\n",
    "from tqdm.auto import tqdm\n"
   ]
  },
  {
   "cell_type": "code",
   "execution_count": 12,
   "metadata": {
    "executionInfo": {
     "elapsed": 120,
     "status": "ok",
     "timestamp": 1684860902613,
     "user": {
      "displayName": "Amirreza Shams",
      "userId": "00511874694037836480"
     },
     "user_tz": 240
    },
    "id": "qpX-2kcbViqP"
   },
   "outputs": [],
   "source": [
    "#reading the data\n",
    "# df = pd.read_csv('/Users/amirrshams/Library/CloudStorage/OneDrive-UniversityofWaterloo/Thesis/Dataset/Dataset/Non_Merged/Sample/Sample_2_500_manual.csv')\n",
    "df = pd.read_csv('/home/a2shamso/projects/def-m2nagapp/a2shamso/pr_classification/dataset/Sample_5000_manual.csv')"
   ]
  },
  {
   "cell_type": "code",
   "execution_count": 5,
   "metadata": {
    "colab": {
     "base_uri": "https://localhost:8080/",
     "height": 548
    },
    "executionInfo": {
     "elapsed": 127,
     "status": "ok",
     "timestamp": 1684860904950,
     "user": {
      "displayName": "Amirreza Shams",
      "userId": "00511874694037836480"
     },
     "user_tz": 240
    },
    "id": "R6pWvR8oViqP",
    "outputId": "2a46dbb4-7d49-4650-b355-e43ef05f58f0"
   },
   "outputs": [
    {
     "data": {
      "text/html": [
       "<div>\n",
       "<style scoped>\n",
       "    .dataframe tbody tr th:only-of-type {\n",
       "        vertical-align: middle;\n",
       "    }\n",
       "\n",
       "    .dataframe tbody tr th {\n",
       "        vertical-align: top;\n",
       "    }\n",
       "\n",
       "    .dataframe thead th {\n",
       "        text-align: right;\n",
       "    }\n",
       "</style>\n",
       "<table border=\"1\" class=\"dataframe\">\n",
       "  <thead>\n",
       "    <tr style=\"text-align: right;\">\n",
       "      <th></th>\n",
       "      <th>Unnamed: 0</th>\n",
       "      <th>repo_id</th>\n",
       "      <th>status</th>\n",
       "      <th>pr_id</th>\n",
       "      <th>pullreq_id</th>\n",
       "      <th>api_url</th>\n",
       "      <th>url</th>\n",
       "      <th>pr_url</th>\n",
       "      <th>pr_api_url</th>\n",
       "      <th>author_id</th>\n",
       "      <th>author_desc_body</th>\n",
       "      <th>closer_id</th>\n",
       "      <th>comments_counts</th>\n",
       "      <th>comments</th>\n",
       "      <th>commit_counts</th>\n",
       "      <th>code_changes_counts</th>\n",
       "      <th>created_at</th>\n",
       "      <th>closed_at</th>\n",
       "      <th>author_country</th>\n",
       "      <th>closer_country</th>\n",
       "      <th>author_continent</th>\n",
       "      <th>same_country</th>\n",
       "      <th>author_eth</th>\n",
       "      <th>closer_eth</th>\n",
       "      <th>same_eth</th>\n",
       "      <th>prs_white</th>\n",
       "      <th>prs_api</th>\n",
       "      <th>prs_black</th>\n",
       "      <th>prs_hispanic</th>\n",
       "      <th>pri_white</th>\n",
       "      <th>pri_black</th>\n",
       "      <th>pri_api</th>\n",
       "      <th>pri_hispanic</th>\n",
       "      <th>prs_eth_8</th>\n",
       "      <th>prs_eth_7</th>\n",
       "      <th>prs_eth_9</th>\n",
       "      <th>prs_eth_diff</th>\n",
       "      <th>prs_eth_diff_2</th>\n",
       "      <th>manual_analysis</th>\n",
       "    </tr>\n",
       "  </thead>\n",
       "  <tbody>\n",
       "    <tr>\n",
       "      <th>0</th>\n",
       "      <td>2250</td>\n",
       "      <td>6</td>\n",
       "      <td>not-merged</td>\n",
       "      <td>2697422</td>\n",
       "      <td>4651</td>\n",
       "      <td>https://api.github.com/repos/cocos2d/cocos2d-x</td>\n",
       "      <td>https://github.com/cocos2d/cocos2d-x</td>\n",
       "      <td>https://github.com/cocos2d/cocos2d-x/pull/4651</td>\n",
       "      <td>https://api.github.com/repos/cocos2d/cocos2d-x...</td>\n",
       "      <td>CocosRobot</td>\n",
       "      <td>\\N</td>\n",
       "      <td>NaN</td>\n",
       "      <td>0</td>\n",
       "      <td>[]</td>\n",
       "      <td>1</td>\n",
       "      <td>1</td>\n",
       "      <td>2013-12-25T04:04:41Z</td>\n",
       "      <td>2013-12-25T05:41:54Z</td>\n",
       "      <td>\\N</td>\n",
       "      <td>\\N</td>\n",
       "      <td>\\N</td>\n",
       "      <td>0</td>\n",
       "      <td>Unknown</td>\n",
       "      <td>API</td>\n",
       "      <td>0</td>\n",
       "      <td>0.889200</td>\n",
       "      <td>0.008001</td>\n",
       "      <td>0.088110</td>\n",
       "      <td>0.014689</td>\n",
       "      <td>0.059421</td>\n",
       "      <td>0.003402</td>\n",
       "      <td>0.933594</td>\n",
       "      <td>0.001673</td>\n",
       "      <td>Unknown</td>\n",
       "      <td>White</td>\n",
       "      <td>Unknown</td>\n",
       "      <td>White</td>\n",
       "      <td>White</td>\n",
       "      <td>No reason</td>\n",
       "    </tr>\n",
       "    <tr>\n",
       "      <th>1</th>\n",
       "      <td>5916</td>\n",
       "      <td>6</td>\n",
       "      <td>not-merged</td>\n",
       "      <td>7456135</td>\n",
       "      <td>11761</td>\n",
       "      <td>https://api.github.com/repos/cocos2d/cocos2d-x</td>\n",
       "      <td>https://github.com/cocos2d/cocos2d-x</td>\n",
       "      <td>https://github.com/cocos2d/cocos2d-x/pull/11761</td>\n",
       "      <td>https://api.github.com/repos/cocos2d/cocos2d-x...</td>\n",
       "      <td>CocosRobot</td>\n",
       "      <td>\\N</td>\n",
       "      <td>NaN</td>\n",
       "      <td>0</td>\n",
       "      <td>[]</td>\n",
       "      <td>1</td>\n",
       "      <td>9</td>\n",
       "      <td>2015-05-08T09:07:16Z</td>\n",
       "      <td>2015-05-11T01:53:15Z</td>\n",
       "      <td>\\N</td>\n",
       "      <td>china</td>\n",
       "      <td>\\N</td>\n",
       "      <td>0</td>\n",
       "      <td>Unknown</td>\n",
       "      <td>Unknown</td>\n",
       "      <td>0</td>\n",
       "      <td>0.889200</td>\n",
       "      <td>0.008001</td>\n",
       "      <td>0.088110</td>\n",
       "      <td>0.014689</td>\n",
       "      <td>0.569895</td>\n",
       "      <td>0.032570</td>\n",
       "      <td>0.367695</td>\n",
       "      <td>0.028239</td>\n",
       "      <td>Unknown</td>\n",
       "      <td>White</td>\n",
       "      <td>Unknown</td>\n",
       "      <td>White</td>\n",
       "      <td>White</td>\n",
       "      <td>No reason</td>\n",
       "    </tr>\n",
       "    <tr>\n",
       "      <th>2</th>\n",
       "      <td>17935</td>\n",
       "      <td>183</td>\n",
       "      <td>not-merged</td>\n",
       "      <td>645270</td>\n",
       "      <td>2808</td>\n",
       "      <td>https://api.github.com/repos/zendframework/zen...</td>\n",
       "      <td>https://github.com/zendframework/zendframework</td>\n",
       "      <td>https://github.com/zendframework/zendframework...</td>\n",
       "      <td>https://api.github.com/repos/zendframework/zen...</td>\n",
       "      <td>blanchonvincent</td>\n",
       "      <td>Usage with static instead of self\\n</td>\n",
       "      <td>NaN</td>\n",
       "      <td>0</td>\n",
       "      <td>[]</td>\n",
       "      <td>1</td>\n",
       "      <td>1</td>\n",
       "      <td>2012-10-19T19:34:23Z</td>\n",
       "      <td>2012-10-30T19:46:43Z</td>\n",
       "      <td>france</td>\n",
       "      <td>united states</td>\n",
       "      <td>Europe</td>\n",
       "      <td>0</td>\n",
       "      <td>White</td>\n",
       "      <td>White</td>\n",
       "      <td>1</td>\n",
       "      <td>0.982306</td>\n",
       "      <td>0.003467</td>\n",
       "      <td>0.010741</td>\n",
       "      <td>0.002705</td>\n",
       "      <td>0.930962</td>\n",
       "      <td>0.031869</td>\n",
       "      <td>0.009878</td>\n",
       "      <td>0.025256</td>\n",
       "      <td>White</td>\n",
       "      <td>White</td>\n",
       "      <td>White</td>\n",
       "      <td>White</td>\n",
       "      <td>White</td>\n",
       "      <td>No reason</td>\n",
       "    </tr>\n",
       "    <tr>\n",
       "      <th>3</th>\n",
       "      <td>19620</td>\n",
       "      <td>183</td>\n",
       "      <td>not-merged</td>\n",
       "      <td>2203867</td>\n",
       "      <td>5219</td>\n",
       "      <td>https://api.github.com/repos/zendframework/zen...</td>\n",
       "      <td>https://github.com/zendframework/zendframework</td>\n",
       "      <td>https://github.com/zendframework/zendframework...</td>\n",
       "      <td>https://api.github.com/repos/zendframework/zen...</td>\n",
       "      <td>samsonasik</td>\n",
       "      <td>\\N</td>\n",
       "      <td>NaN</td>\n",
       "      <td>3</td>\n",
       "      <td>['Woah, ancient links spotting :O\\n', '@Ocrami...</td>\n",
       "      <td>1</td>\n",
       "      <td>1</td>\n",
       "      <td>2013-10-03T19:34:04Z</td>\n",
       "      <td>2013-10-03T19:48:05Z</td>\n",
       "      <td>indonesia</td>\n",
       "      <td>spain</td>\n",
       "      <td>Asia</td>\n",
       "      <td>0</td>\n",
       "      <td>API</td>\n",
       "      <td>White</td>\n",
       "      <td>0</td>\n",
       "      <td>0.024666</td>\n",
       "      <td>0.975110</td>\n",
       "      <td>0.000109</td>\n",
       "      <td>0.000099</td>\n",
       "      <td>0.996368</td>\n",
       "      <td>0.002142</td>\n",
       "      <td>0.000852</td>\n",
       "      <td>0.000634</td>\n",
       "      <td>API</td>\n",
       "      <td>API</td>\n",
       "      <td>API</td>\n",
       "      <td>API</td>\n",
       "      <td>API</td>\n",
       "      <td>No reason</td>\n",
       "    </tr>\n",
       "    <tr>\n",
       "      <th>4</th>\n",
       "      <td>27952</td>\n",
       "      <td>340</td>\n",
       "      <td>not-merged</td>\n",
       "      <td>23622497</td>\n",
       "      <td>6647</td>\n",
       "      <td>https://api.github.com/repos/netty/netty</td>\n",
       "      <td>https://github.com/netty/netty</td>\n",
       "      <td>https://github.com/netty/netty/pull/6647</td>\n",
       "      <td>https://api.github.com/repos/netty/netty/pulls...</td>\n",
       "      <td>fenik17</td>\n",
       "      <td>Motivation:\\r\\n\\r\\n1. The use of the `Internet...</td>\n",
       "      <td>NaN</td>\n",
       "      <td>1</td>\n",
       "      <td>['Cherry-picked into 4.1 (970d310ec9ae3d0581ad...</td>\n",
       "      <td>1</td>\n",
       "      <td>3</td>\n",
       "      <td>2017-04-19T18:56:34Z</td>\n",
       "      <td>2017-04-20T03:23:50Z</td>\n",
       "      <td>russia</td>\n",
       "      <td>germany</td>\n",
       "      <td>Asia</td>\n",
       "      <td>0</td>\n",
       "      <td>White</td>\n",
       "      <td>White</td>\n",
       "      <td>1</td>\n",
       "      <td>0.990941</td>\n",
       "      <td>0.000334</td>\n",
       "      <td>0.000025</td>\n",
       "      <td>0.008697</td>\n",
       "      <td>0.992539</td>\n",
       "      <td>0.000581</td>\n",
       "      <td>0.003632</td>\n",
       "      <td>0.002701</td>\n",
       "      <td>White</td>\n",
       "      <td>White</td>\n",
       "      <td>White</td>\n",
       "      <td>White</td>\n",
       "      <td>White</td>\n",
       "      <td>Successful</td>\n",
       "    </tr>\n",
       "  </tbody>\n",
       "</table>\n",
       "</div>"
      ],
      "text/plain": [
       "   Unnamed: 0  repo_id      status     pr_id  pullreq_id   \n",
       "0        2250        6  not-merged   2697422        4651  \\\n",
       "1        5916        6  not-merged   7456135       11761   \n",
       "2       17935      183  not-merged    645270        2808   \n",
       "3       19620      183  not-merged   2203867        5219   \n",
       "4       27952      340  not-merged  23622497        6647   \n",
       "\n",
       "                                             api_url   \n",
       "0     https://api.github.com/repos/cocos2d/cocos2d-x  \\\n",
       "1     https://api.github.com/repos/cocos2d/cocos2d-x   \n",
       "2  https://api.github.com/repos/zendframework/zen...   \n",
       "3  https://api.github.com/repos/zendframework/zen...   \n",
       "4           https://api.github.com/repos/netty/netty   \n",
       "\n",
       "                                              url   \n",
       "0            https://github.com/cocos2d/cocos2d-x  \\\n",
       "1            https://github.com/cocos2d/cocos2d-x   \n",
       "2  https://github.com/zendframework/zendframework   \n",
       "3  https://github.com/zendframework/zendframework   \n",
       "4                  https://github.com/netty/netty   \n",
       "\n",
       "                                              pr_url   \n",
       "0     https://github.com/cocos2d/cocos2d-x/pull/4651  \\\n",
       "1    https://github.com/cocos2d/cocos2d-x/pull/11761   \n",
       "2  https://github.com/zendframework/zendframework...   \n",
       "3  https://github.com/zendframework/zendframework...   \n",
       "4           https://github.com/netty/netty/pull/6647   \n",
       "\n",
       "                                          pr_api_url        author_id   \n",
       "0  https://api.github.com/repos/cocos2d/cocos2d-x...       CocosRobot  \\\n",
       "1  https://api.github.com/repos/cocos2d/cocos2d-x...       CocosRobot   \n",
       "2  https://api.github.com/repos/zendframework/zen...  blanchonvincent   \n",
       "3  https://api.github.com/repos/zendframework/zen...       samsonasik   \n",
       "4  https://api.github.com/repos/netty/netty/pulls...          fenik17   \n",
       "\n",
       "                                    author_desc_body  closer_id   \n",
       "0                                                 \\N        NaN  \\\n",
       "1                                                 \\N        NaN   \n",
       "2                Usage with static instead of self\\n        NaN   \n",
       "3                                                 \\N        NaN   \n",
       "4  Motivation:\\r\\n\\r\\n1. The use of the `Internet...        NaN   \n",
       "\n",
       "   comments_counts                                           comments   \n",
       "0                0                                                 []  \\\n",
       "1                0                                                 []   \n",
       "2                0                                                 []   \n",
       "3                3  ['Woah, ancient links spotting :O\\n', '@Ocrami...   \n",
       "4                1  ['Cherry-picked into 4.1 (970d310ec9ae3d0581ad...   \n",
       "\n",
       "   commit_counts  code_changes_counts            created_at   \n",
       "0              1                    1  2013-12-25T04:04:41Z  \\\n",
       "1              1                    9  2015-05-08T09:07:16Z   \n",
       "2              1                    1  2012-10-19T19:34:23Z   \n",
       "3              1                    1  2013-10-03T19:34:04Z   \n",
       "4              1                    3  2017-04-19T18:56:34Z   \n",
       "\n",
       "              closed_at author_country closer_country author_continent   \n",
       "0  2013-12-25T05:41:54Z             \\N             \\N               \\N  \\\n",
       "1  2015-05-11T01:53:15Z             \\N          china               \\N   \n",
       "2  2012-10-30T19:46:43Z         france  united states           Europe   \n",
       "3  2013-10-03T19:48:05Z      indonesia          spain             Asia   \n",
       "4  2017-04-20T03:23:50Z         russia        germany             Asia   \n",
       "\n",
       "   same_country author_eth closer_eth  same_eth  prs_white   prs_api   \n",
       "0             0    Unknown        API         0   0.889200  0.008001  \\\n",
       "1             0    Unknown    Unknown         0   0.889200  0.008001   \n",
       "2             0      White      White         1   0.982306  0.003467   \n",
       "3             0        API      White         0   0.024666  0.975110   \n",
       "4             0      White      White         1   0.990941  0.000334   \n",
       "\n",
       "   prs_black  prs_hispanic  pri_white  pri_black   pri_api  pri_hispanic   \n",
       "0   0.088110      0.014689   0.059421   0.003402  0.933594      0.001673  \\\n",
       "1   0.088110      0.014689   0.569895   0.032570  0.367695      0.028239   \n",
       "2   0.010741      0.002705   0.930962   0.031869  0.009878      0.025256   \n",
       "3   0.000109      0.000099   0.996368   0.002142  0.000852      0.000634   \n",
       "4   0.000025      0.008697   0.992539   0.000581  0.003632      0.002701   \n",
       "\n",
       "  prs_eth_8 prs_eth_7 prs_eth_9 prs_eth_diff prs_eth_diff_2 manual_analysis  \n",
       "0   Unknown     White   Unknown        White          White       No reason  \n",
       "1   Unknown     White   Unknown        White          White       No reason  \n",
       "2     White     White     White        White          White       No reason  \n",
       "3       API       API       API          API            API       No reason  \n",
       "4     White     White     White        White          White      Successful  "
      ]
     },
     "execution_count": 5,
     "metadata": {},
     "output_type": "execute_result"
    }
   ],
   "source": [
    "df.head()"
   ]
  },
  {
   "cell_type": "code",
   "execution_count": 13,
   "metadata": {
    "executionInfo": {
     "elapsed": 254,
     "status": "ok",
     "timestamp": 1684860908448,
     "user": {
      "displayName": "Amirreza Shams",
      "userId": "00511874694037836480"
     },
     "user_tz": 240
    },
    "id": "R9Xs2m0HViqP"
   },
   "outputs": [],
   "source": [
    "#drop some of the columns\n",
    "df = df.drop(['api_url','pullreq_id', ' url', 'pr_id','status', 'repo_id', 'Unnamed: 0', 'repo_id', 'comments_counts', 'pr_url', 'pr_api_url', 'author_id', 'author_desc_body', 'closer_id','commit_counts', 'code_changes_counts', 'created_at', 'closed_at', 'author_country', 'author_continent', 'same_country', 'author_eth', 'closer_eth','closer_country', 'same_eth', 'prs_white', 'prs_black', 'prs_api', 'prs_hispanic', 'pri_white', 'pri_black', 'pri_api', 'pri_hispanic', 'prs_eth_7', 'prs_eth_8', 'prs_eth_9', 'prs_eth_diff', 'prs_eth_diff_2'], axis=1)"
   ]
  },
  {
   "cell_type": "code",
   "execution_count": 14,
   "metadata": {
    "colab": {
     "base_uri": "https://localhost:8080/",
     "height": 206
    },
    "executionInfo": {
     "elapsed": 186,
     "status": "ok",
     "timestamp": 1684860909406,
     "user": {
      "displayName": "Amirreza Shams",
      "userId": "00511874694037836480"
     },
     "user_tz": 240
    },
    "id": "R7qX7xC1ViqP",
    "outputId": "5e4bad6c-0511-4c66-bb40-79d5970ceefa"
   },
   "outputs": [
    {
     "data": {
      "text/html": [
       "<div>\n",
       "<style scoped>\n",
       "    .dataframe tbody tr th:only-of-type {\n",
       "        vertical-align: middle;\n",
       "    }\n",
       "\n",
       "    .dataframe tbody tr th {\n",
       "        vertical-align: top;\n",
       "    }\n",
       "\n",
       "    .dataframe thead th {\n",
       "        text-align: right;\n",
       "    }\n",
       "</style>\n",
       "<table border=\"1\" class=\"dataframe\">\n",
       "  <thead>\n",
       "    <tr style=\"text-align: right;\">\n",
       "      <th></th>\n",
       "      <th>comments</th>\n",
       "      <th>manual_analysis</th>\n",
       "    </tr>\n",
       "  </thead>\n",
       "  <tbody>\n",
       "    <tr>\n",
       "      <th>0</th>\n",
       "      <td>[]</td>\n",
       "      <td>No reason</td>\n",
       "    </tr>\n",
       "    <tr>\n",
       "      <th>1</th>\n",
       "      <td>[]</td>\n",
       "      <td>No reason</td>\n",
       "    </tr>\n",
       "    <tr>\n",
       "      <th>2</th>\n",
       "      <td>[]</td>\n",
       "      <td>No reason</td>\n",
       "    </tr>\n",
       "    <tr>\n",
       "      <th>3</th>\n",
       "      <td>['Woah, ancient links spotting :O\\n', '@Ocrami...</td>\n",
       "      <td>No reason</td>\n",
       "    </tr>\n",
       "    <tr>\n",
       "      <th>4</th>\n",
       "      <td>['Cherry-picked into 4.1 (970d310ec9ae3d0581ad...</td>\n",
       "      <td>Successful</td>\n",
       "    </tr>\n",
       "  </tbody>\n",
       "</table>\n",
       "</div>"
      ],
      "text/plain": [
       "                                            comments manual_analysis\n",
       "0                                                 []       No reason\n",
       "1                                                 []       No reason\n",
       "2                                                 []       No reason\n",
       "3  ['Woah, ancient links spotting :O\\n', '@Ocrami...       No reason\n",
       "4  ['Cherry-picked into 4.1 (970d310ec9ae3d0581ad...      Successful"
      ]
     },
     "execution_count": 14,
     "metadata": {},
     "output_type": "execute_result"
    }
   ],
   "source": [
    "df.head()"
   ]
  },
  {
   "cell_type": "code",
   "execution_count": 7,
   "metadata": {
    "colab": {
     "base_uri": "https://localhost:8080/",
     "height": 554
    },
    "executionInfo": {
     "elapsed": 288,
     "status": "ok",
     "timestamp": 1684860913185,
     "user": {
      "displayName": "Amirreza Shams",
      "userId": "00511874694037836480"
     },
     "user_tz": 240
    },
    "id": "Btbbtjq1eM7z",
    "outputId": "f5e095b5-60de-4a34-b7ad-c579c2be5cb4"
   },
   "outputs": [
    {
     "data": {
      "text/plain": [
       "<Axes: xlabel='manual_analysis'>"
      ]
     },
     "execution_count": 7,
     "metadata": {},
     "output_type": "execute_result"
    },
    {
     "data": {
      "image/png": "[encoded data removed]",
      "text/plain": [
       "<Figure size 640x480 with 1 Axes>"
      ]
     },
     "metadata": {},
     "output_type": "display_data"
    }
   ],
   "source": [
    "df.groupby(['manual_analysis']).size().plot.bar()"
   ]
  },
  {
   "cell_type": "code",
   "execution_count": null,
   "metadata": {
    "colab": {
     "base_uri": "https://localhost:8080/",
     "height": 533
    },
    "executionInfo": {
     "elapsed": 426,
     "status": "ok",
     "timestamp": 1684253865992,
     "user": {
      "displayName": "Amirreza Shams",
      "userId": "00511874694037836480"
     },
     "user_tz": 240
    },
    "id": "T0KwJyxWViqQ",
    "outputId": "e34d8112-d813-4363-fa7f-218ba898ec53"
   },
   "outputs": [
    {
     "data": {
      "text/plain": [
       "<Axes: >"
      ]
     },
     "execution_count": 10,
     "metadata": {},
     "output_type": "execute_result"
    },
    {
     "data": {
      "image/png": "[encoded data removed]",
      "text/plain": [
       "<Figure size 640x480 with 1 Axes>"
      ]
     },
     "metadata": {},
     "output_type": "display_data"
    }
   ],
   "source": [
    "labels = df['manual_analysis']\n",
    "labels.value_counts().plot(kind='bar')"
   ]
  },
  {
   "cell_type": "code",
   "execution_count": null,
   "metadata": {
    "id": "52LgIy-_hZEG"
   },
   "outputs": [],
   "source": []
  },
  {
   "attachments": {},
   "cell_type": "markdown",
   "metadata": {
    "id": "GYt1L2XWViqQ"
   },
   "source": [
    "### cleaning the comments texts"
   ]
  },
  {
   "cell_type": "code",
   "execution_count": 8,
   "metadata": {
    "executionInfo": {
     "elapsed": 144,
     "status": "ok",
     "timestamp": 1684860915837,
     "user": {
      "displayName": "Amirreza Shams",
      "userId": "00511874694037836480"
     },
     "user_tz": 240
    },
    "id": "4kd5Sd1rViqQ"
   },
   "outputs": [],
   "source": [
    "def text_preprocess(text):\n",
    "    text = re.sub(r'@[A-Za-z0-9]+','',text) #remove @mentions\n",
    "    text = re.sub(r'#','',text) #remove # symbol\n",
    "    text = re.sub(r'https?:\\/\\/\\S+','',text) #remove the hyper link\n",
    "    text = re.sub(r'\\n','',text) #remove \\n\n",
    "    text = re.sub(r'www\\S+', '', text) #remove www\n",
    "    return text\n",
    "df['comments'] = df['comments'].apply(lambda x: ast.literal_eval(x))\n",
    "df['comments'] = df['comments'].apply(lambda x: [text_preprocess(t) for t in x])\n",
    "df['comments'] = df['comments'].apply(lambda x: ' '.join(x))\n",
    "df['comments'] = df['comments'].apply(lambda x: x if len(x) > 0 else '[No comments]')"
   ]
  },
  {
   "cell_type": "code",
   "execution_count": 9,
   "metadata": {
    "colab": {
     "base_uri": "https://localhost:8080/",
     "height": 36
    },
    "executionInfo": {
     "elapsed": 4,
     "status": "ok",
     "timestamp": 1684860917282,
     "user": {
      "displayName": "Amirreza Shams",
      "userId": "00511874694037836480"
     },
     "user_tz": 240
    },
    "id": "Q8EN75-CWsPA",
    "outputId": "553c7740-5a00-47fa-de08-976f293b07bd"
   },
   "outputs": [
    {
     "data": {
      "application/vnd.google.colaboratory.intrinsic+json": {
       "type": "string"
      },
      "text/plain": [
       "\" why did you add the original tab? other than this this PR is :+1:   just touched that file to remove the else, if  don't want it, I reverted all changes to that file so the diff is clean\""
      ]
     },
     "execution_count": 9,
     "metadata": {},
     "output_type": "execute_result"
    }
   ],
   "source": [
    "df['comments'][0]"
   ]
  },
  {
   "attachments": {},
   "cell_type": "markdown",
   "metadata": {
    "id": "SvnyvSy7ViqR"
   },
   "source": [
    "## Example\n"
   ]
  },
  {
   "cell_type": "code",
   "execution_count": null,
   "metadata": {
    "colab": {
     "base_uri": "https://localhost:8080/"
    },
    "executionInfo": {
     "elapsed": 364,
     "status": "ok",
     "timestamp": 1684441004265,
     "user": {
      "displayName": "Amirreza Shams",
      "userId": "00511874694037836480"
     },
     "user_tz": 240
    },
    "id": "InBEMAkNenbM",
    "outputId": "38f3b8a3-89ca-4881-8991-56f4ea212c12"
   },
   "outputs": [
    {
     "name": "stdout",
     "output_type": "stream",
     "text": [
      "tensor([[  101,  1725,  1225,  1128,  5194,  1103,  1560, 27629,  1830,   136,\n",
      "          1168,  1190,  1142,  1142, 11629,  1110,   131,   116,   122,   131,\n",
      "          1198,  4270,  1115,  4956,  1106,  5782,  1103,  1950,   117,  1191,\n",
      "          1274,   112,   189,  1328,  1122,   117,   146, 17464,  1155,  2607,\n",
      "          1106,  1115,  4956,  1177,  1103,  4267,  3101,  1110,  4044,   102]])\n",
      "tensor([[0, 0, 0, 0, 0, 0, 0, 0, 0, 0, 0, 0, 0, 0, 0, 0, 0, 0, 0, 0, 0, 0, 0, 0,\n",
      "         0, 0, 0, 0, 0, 0, 0, 0, 0, 0, 0, 0, 0, 0, 0, 0, 0, 0, 0, 0, 0, 0, 0, 0,\n",
      "         0, 0]])\n",
      "tensor([[1, 1, 1, 1, 1, 1, 1, 1, 1, 1, 1, 1, 1, 1, 1, 1, 1, 1, 1, 1, 1, 1, 1, 1,\n",
      "         1, 1, 1, 1, 1, 1, 1, 1, 1, 1, 1, 1, 1, 1, 1, 1, 1, 1, 1, 1, 1, 1, 1, 1,\n",
      "         1, 1]])\n"
     ]
    }
   ],
   "source": [
    "#example\n",
    "tokenizer = BertTokenizer.from_pretrained('bert-base-cased')\n",
    "\n",
    "example_text = \"why did you add the original tab? other than this this PR is :+1:   just touched that file to remove the else, if  don't want it, I reverted all changes to that file so the diff is clean\"\n",
    "\n",
    "bert_input = tokenizer(example_text, padding = 'max_length', max_length = 50, truncation = True, return_tensors = \"pt\")\n",
    "print(bert_input['input_ids'])\n",
    "print(bert_input['token_type_ids'])\n",
    "print(bert_input['attention_mask'])"
   ]
  },
  {
   "cell_type": "code",
   "execution_count": null,
   "metadata": {
    "colab": {
     "base_uri": "https://localhost:8080/"
    },
    "executionInfo": {
     "elapsed": 3,
     "status": "ok",
     "timestamp": 1684441141625,
     "user": {
      "displayName": "Amirreza Shams",
      "userId": "00511874694037836480"
     },
     "user_tz": 240
    },
    "id": "LqXr5oDTg4_j",
    "outputId": "5c9edc2e-ebaf-4b97-fd7d-749a133dd9c7"
   },
   "outputs": [
    {
     "name": "stdout",
     "output_type": "stream",
     "text": [
      "[CLS] why did you add the original tab? other than this this PR is : + 1 : just touched that file to remove the else, if don't want it, I reverted all changes to that file so the diff is clean [SEP]\n"
     ]
    }
   ],
   "source": [
    "print(tokenizer.decode(bert_input.input_ids[0]))"
   ]
  },
  {
   "cell_type": "code",
   "execution_count": null,
   "metadata": {
    "id": "FS84gI7_ViqR"
   },
   "outputs": [],
   "source": [
    "tokenizer = BertTokenizer.from_pretrained('bert-base-uncased')\n",
    "tokens = tokenizer.batch_encode_plus(\n",
    "    df['comments'],\n",
    "    max_length = 512,\n",
    "    padding = 'max_length',\n",
    "    return_attention_mask = True,\n",
    "    return_token_type_ids = False,\n",
    "    truncation=True,\n",
    "    return_tensors = 'pt'\n",
    ")\n",
    "\n",
    "input_ids = tokens['input_ids']\n",
    "attention_mask = tokens['attention_mask']\n",
    "\n",
    "\n"
   ]
  },
  {
   "cell_type": "code",
   "execution_count": null,
   "metadata": {
    "id": "QM4k7p0bViqR",
    "outputId": "bf1ce57a-16f0-42ac-c46b-8898539fbacc"
   },
   "outputs": [
    {
     "data": {
      "text/plain": [
       "(torch.Size([500, 512]), torch.Size([500, 512]))"
      ]
     },
     "execution_count": 22,
     "metadata": {},
     "output_type": "execute_result"
    }
   ],
   "source": [
    "tokens['input_ids'].shape, tokens['attention_mask'].shape"
   ]
  },
  {
   "cell_type": "code",
   "execution_count": null,
   "metadata": {
    "id": "EKrv-FBSViqR",
    "outputId": "3c84efb8-972e-4c4b-98f7-3a9bcfc3e9c0"
   },
   "outputs": [
    {
     "data": {
      "text/plain": [
       "(0.0, 1000.0)"
      ]
     },
     "execution_count": 24,
     "metadata": {},
     "output_type": "execute_result"
    },
    {
     "data": {
      "image/png": "[encoded data removed]",
      "text/plain": [
       "<Figure size 640x480 with 1 Axes>"
      ]
     },
     "metadata": {},
     "output_type": "display_data"
    }
   ],
   "source": [
    "#checking the number of tokens:\n",
    "token_counts = []\n",
    "for _, row in train_df.iterrows():\n",
    "    token_count = len(tokenizer.encode(\n",
    "        row['comments'],\n",
    "        max_length = 20000,\n",
    "        truncation = True,\n",
    "    ))\n",
    "    token_counts.append(token_count)\n",
    "\n",
    "sns.histplot(token_counts)\n",
    "plt.xlim([0, 1000])"
   ]
  },
  {
   "cell_type": "code",
   "execution_count": null,
   "metadata": {
    "id": "2J2xsSyPViqR",
    "outputId": "9ca53d5d-f3ea-4cb8-c1e7-6f7bffa5e0a4"
   },
   "outputs": [
    {
     "data": {
      "text/plain": [
       "torch.Size([10000000])"
      ]
     },
     "execution_count": 63,
     "metadata": {},
     "output_type": "execute_result"
    }
   ],
   "source": [
    "# #reshape input_ids to one dimension (20000)\n",
    "# input_ids = input_ids.flatten()\n",
    "# input_ids.shape"
   ]
  },
  {
   "cell_type": "code",
   "execution_count": null,
   "metadata": {
    "id": "tvos6PMNViqR",
    "outputId": "3c5f4c0c-2a7c-4108-c35b-2ebfda73c067"
   },
   "outputs": [
    {
     "data": {
      "text/plain": [
       "['touched',\n",
       " 'that',\n",
       " 'file',\n",
       " 'to',\n",
       " 'remove',\n",
       " 'the',\n",
       " 'else',\n",
       " ',',\n",
       " 'if',\n",
       " 'don',\n",
       " \"'\",\n",
       " 't',\n",
       " 'want',\n",
       " 'it',\n",
       " ',',\n",
       " 'i',\n",
       " 'reverted',\n",
       " 'all',\n",
       " 'changes',\n",
       " 'to']"
      ]
     },
     "execution_count": 67,
     "metadata": {},
     "output_type": "execute_result"
    }
   ],
   "source": [
    "# tokenizer.convert_ids_to_tokens(tokens[\"input_ids\"].flatten())[20:40]"
   ]
  },
  {
   "cell_type": "code",
   "execution_count": null,
   "metadata": {
    "id": "rOsF6gdWViqR",
    "outputId": "9668851b-42cd-4a4e-cffe-36cced1afbd6"
   },
   "outputs": [
    {
     "name": "stderr",
     "output_type": "stream",
     "text": [
      "Some weights of the model checkpoint at bert-base-uncased were not used when initializing BertModel: ['cls.predictions.transform.dense.weight', 'cls.predictions.decoder.weight', 'cls.seq_relationship.weight', 'cls.predictions.transform.LayerNorm.weight', 'cls.predictions.transform.LayerNorm.bias', 'cls.predictions.bias', 'cls.seq_relationship.bias', 'cls.predictions.transform.dense.bias']\n",
      "- This IS expected if you are initializing BertModel from the checkpoint of a model trained on another task or with another architecture (e.g. initializing a BertForSequenceClassification model from a BertForPreTraining model).\n",
      "- This IS NOT expected if you are initializing BertModel from the checkpoint of a model that you expect to be exactly identical (initializing a BertForSequenceClassification model from a BertForSequenceClassification model).\n"
     ]
    }
   ],
   "source": [
    "model = BertModel.from_pretrained('bert-base-uncased')\n",
    "# sample_batch = next(iter(DataLoader(train_dataset, batch_size=8, num_workers=2)))\n",
    "# sample_batch[\"input_ids\"].shape, sample_batch[\"attention_mask\"].shape"
   ]
  },
  {
   "attachments": {},
   "cell_type": "markdown",
   "metadata": {
    "id": "VmAhx774ViqS"
   },
   "source": [
    "## Creating the model\n",
    "It is redundant if the other one works"
   ]
  },
  {
   "cell_type": "code",
   "execution_count": null,
   "metadata": {
    "id": "WcE3GSRkViqS"
   },
   "outputs": [],
   "source": [
    "# class PRCommentDataModule(pl.LightningDataModule):\n",
    "#     def __init__(self, train_df, test_df, tokenizer, batch_size=32, max_length=512):\n",
    "#         super().__init__()\n",
    "#         self.train_df = train_df\n",
    "#         self.test_df = test_df\n",
    "#         self.tokenizer = tokenizer\n",
    "#         self.batch_size = batch_size\n",
    "#         self.max_length = max_length\n",
    "    \n",
    "#     def setup(self, stage=None):\n",
    "#         self.train_dataset = PRCommentDataset(self.train_df, self.tokenizer, self.max_length)\n",
    "#         self.test_dataset = PRCommentDataset(self.test_df, self.tokenizer, self.max_length)\n",
    "\n",
    "#     def train_dataloader(self):\n",
    "#         return DataLoader(self.train_dataset, batch_size=self.batch_size, shuffle = True, num_workers=4)\n",
    "\n",
    "#     def test_dataloader(self):\n",
    "#         return DataLoader(self.test_dataset, batch_size=self.batch_size, num_workers=4)\n",
    "    \n",
    "\n",
    "    "
   ]
  },
  {
   "cell_type": "code",
   "execution_count": null,
   "metadata": {
    "id": "yS_sjjH4ViqS"
   },
   "outputs": [],
   "source": [
    "\n",
    "# class PRCommentClassifier(pl.LightningModule):\n",
    "#     def __init__(self, n_classes = 11):\n",
    "#         super().__init__()\n",
    "#         self.model = BertModel.from_pretrained('bert-base-uncased', num_labels = n_classes)\n",
    "#         self.n_classes = n_classes\n",
    "    \n",
    "#     def forward(self, input_ids, attention_mask, labels=None):\n",
    "#         output = self.model(input_ids, attention_mask, labels=labels)\n",
    "#         return output.loss.mean(), output.logits\n",
    "#     def training_step(self, batch, batch_idx):\n",
    "#         input_ids = batch[\"input_ids\"]\n",
    "#         attention_mask = batch[\"attention_mask\"]\n",
    "#         labels = batch[\"labels\"]\n",
    "#         loss, logits = self(input_ids, attention_mask, labels)\n",
    "#         acc = accuracy_score(labels.cpu(), torch.argmax(logits.cpu(), dim=1))\n",
    "#         self.log('train_loss', loss, prog_bar=True)\n",
    "#         self.log('train_acc', acc, prog_bar=True)\n",
    "#         return loss\n",
    "    \n",
    "#     def validation_step(self, batch, batch_idx):\n",
    "#         input_ids = batch[\"input_ids\"]\n",
    "#         attention_mask = batch[\"attention_mask\"]\n",
    "#         labels = batch[\"labels\"]\n",
    "#         loss, logits = self(input_ids, attention_mask, labels)\n",
    "#         acc = accuracy_score(labels.cpu(), torch.argmax(logits.cpu(), dim=1))\n",
    "#         self.log('val_loss', loss, prog_bar=True)\n",
    "#         self.log('val_acc', acc, prog_bar=True)\n",
    "#         return loss\n",
    "    \n",
    "#     def test_step(self, batch, batch_idx):\n",
    "#         input_ids = batch[\"input_ids\"]\n",
    "#         attention_mask = batch[\"attention_mask\"]\n",
    "#         labels = batch[\"labels\"]\n",
    "#         loss, logits = self(input_ids, attention_mask, labels)\n",
    "#         acc = accuracy_score(labels.cpu(), torch.argmax(logits.cpu(), dim=1))\n",
    "#         self.log('test_loss', loss, prog_bar=True)\n",
    "#         self.log('test_acc', acc, prog_bar=True)\n",
    "#         return loss\n",
    "    \n",
    "#     def configure_optimizers(self):\n",
    "#         return AdamW(self.parameters(), lr=2e-5)\n",
    "\n"
   ]
  },
  {
   "attachments": {},
   "cell_type": "markdown",
   "metadata": {
    "id": "gIt7eIzHViqS"
   },
   "source": [
    "## New model"
   ]
  },
  {
   "cell_type": "code",
   "execution_count": null,
   "metadata": {
    "id": "tx1oayZUViqR",
    "outputId": "3938e286-a9d4-4530-83d5-52df7eb2e2d5"
   },
   "outputs": [
    {
     "ename": "NameError",
     "evalue": "name 'tokenizer' is not defined",
     "output_type": "error",
     "traceback": [
      "\u001b[0;31m---------------------------------------------------------------------------\u001b[0m",
      "\u001b[0;31mNameError\u001b[0m                                 Traceback (most recent call last)",
      "Cell \u001b[0;32mIn[7], line 30\u001b[0m\n\u001b[1;32m     14\u001b[0m         encoding \u001b[39m=\u001b[39m \u001b[39mself\u001b[39m\u001b[39m.\u001b[39mtokenizer\u001b[39m.\u001b[39mencode_plus(\n\u001b[1;32m     15\u001b[0m             comment,\n\u001b[1;32m     16\u001b[0m             max_length \u001b[39m=\u001b[39m \u001b[39mself\u001b[39m\u001b[39m.\u001b[39mmax_length,\n\u001b[0;32m   (...)\u001b[0m\n\u001b[1;32m     21\u001b[0m             return_tensors \u001b[39m=\u001b[39m \u001b[39m'\u001b[39m\u001b[39mpt\u001b[39m\u001b[39m'\u001b[39m\n\u001b[1;32m     22\u001b[0m         )\n\u001b[1;32m     24\u001b[0m         \u001b[39mreturn\u001b[39;00m \u001b[39mdict\u001b[39m(\n\u001b[1;32m     25\u001b[0m             comment_text \u001b[39m=\u001b[39m comment,\n\u001b[1;32m     26\u001b[0m             input_ids \u001b[39m=\u001b[39m encoding[\u001b[39m'\u001b[39m\u001b[39minput_ids\u001b[39m\u001b[39m'\u001b[39m]\u001b[39m.\u001b[39mflatten(),\n\u001b[1;32m     27\u001b[0m             attention_mask \u001b[39m=\u001b[39m encoding[\u001b[39m'\u001b[39m\u001b[39mattention_mask\u001b[39m\u001b[39m'\u001b[39m]\u001b[39m.\u001b[39mflatten(),\n\u001b[1;32m     28\u001b[0m             labels\u001b[39m=\u001b[39mtorch\u001b[39m.\u001b[39mtensor(labels, dtype \u001b[39m=\u001b[39m torch\u001b[39m.\u001b[39mlong)\n\u001b[1;32m     29\u001b[0m         )\n\u001b[0;32m---> 30\u001b[0m \u001b[39mprint\u001b[39m(\u001b[39mnext\u001b[39m(\u001b[39miter\u001b[39m(PRCommentDataset(df, tokenizer, max_length\u001b[39m=\u001b[39m\u001b[39m512\u001b[39m))))\n",
      "\u001b[0;31mNameError\u001b[0m: name 'tokenizer' is not defined"
     ]
    }
   ],
   "source": [
    "#having the tokenization in a pytorch Dataset\n",
    "class PRCommentDataset(Dataset):\n",
    "    def __init__(self, df, tokenizer, max_length: 512):\n",
    "        self.df = df\n",
    "        self.tokenizer = tokenizer\n",
    "        self.max_length = max_length\n",
    "\n",
    "    def __len__(self):\n",
    "        return len(self.df)\n",
    "\n",
    "    def __getitem__(self, index):\n",
    "        comment = self.df.loc[index, 'comments']\n",
    "        labels = self.df.loc[index, 'label_encoded']\n",
    "        encoding = self.tokenizer.encode_plus(\n",
    "            comment,\n",
    "            max_length = self.max_length,\n",
    "            padding = 'max_length',\n",
    "            truncation = True,\n",
    "            return_attention_mask = True,\n",
    "            return_token_type_ids = False,\n",
    "            return_tensors = 'pt'\n",
    "        )\n",
    "\n",
    "        return dict(\n",
    "            comment_text = comment,\n",
    "            input_ids = encoding['input_ids'].flatten(),\n",
    "            attention_mask = encoding['attention_mask'].flatten(),\n",
    "            labels=torch.tensor(labels, dtype = torch.long)\n",
    "        )\n",
    "print(next(iter(PRCommentDataset(df, tokenizer, max_length=512))))\n"
   ]
  },
  {
   "cell_type": "code",
   "execution_count": null,
   "metadata": {
    "colab": {
     "base_uri": "https://localhost:8080/"
    },
    "executionInfo": {
     "elapsed": 2355,
     "status": "ok",
     "timestamp": 1684263915920,
     "user": {
      "displayName": "Amirreza Shams",
      "userId": "00511874694037836480"
     },
     "user_tz": 240
    },
    "id": "vaB2_oywViqS",
    "outputId": "dc4c6425-8b5a-482a-dedb-2ec68c8a8670"
   },
   "outputs": [
    {
     "name": "stderr",
     "output_type": "stream",
     "text": [
      "Some weights of the model checkpoint at bert-base-uncased were not used when initializing BertForSequenceClassification: ['cls.seq_relationship.bias', 'cls.seq_relationship.weight', 'cls.predictions.bias', 'cls.predictions.transform.LayerNorm.weight', 'cls.predictions.decoder.weight', 'cls.predictions.transform.dense.bias', 'cls.predictions.transform.dense.weight', 'cls.predictions.transform.LayerNorm.bias']\n",
      "- This IS expected if you are initializing BertForSequenceClassification from the checkpoint of a model trained on another task or with another architecture (e.g. initializing a BertForSequenceClassification model from a BertForPreTraining model).\n",
      "- This IS NOT expected if you are initializing BertForSequenceClassification from the checkpoint of a model that you expect to be exactly identical (initializing a BertForSequenceClassification model from a BertForSequenceClassification model).\n",
      "Some weights of BertForSequenceClassification were not initialized from the model checkpoint at bert-base-uncased and are newly initialized: ['classifier.bias', 'classifier.weight']\n",
      "You should probably TRAIN this model on a down-stream task to be able to use it for predictions and inference.\n"
     ]
    }
   ],
   "source": [
    "tokenizer = AutoTokenizer.from_pretrained('bert-base-uncased')\n",
    "config = BertConfig.from_pretrained('bert-base-uncased') \n",
    "config.num_labels = 10\n",
    "model_pretrained = BertForSequenceClassification.from_pretrained('bert-base-uncased', config=config)\n",
    "dataset = PRCommentDataset(df, tokenizer, max_length=512)\n",
    "\n",
    "# train_dataset, test_dataset = train_test_split(df, test_size=0.2, random_state=42, stratify=df['label_encoded'].values)\n",
    "\n",
    "train_size = int(0.8 * len(dataset))\n",
    "test_size = len(dataset) - train_size\n",
    "train_dataset, test_dataset = random_split(dataset, [train_size, test_size])\n",
    "\n",
    "batch_size = 8\n",
    "train_loader = DataLoader(train_dataset, batch_size=batch_size, shuffle=True)\n",
    "test_loader = DataLoader(test_dataset, batch_size=batch_size)\n",
    "\n",
    "device = torch.device('cuda' if torch.cuda.is_available() else 'cpu')\n",
    "model_pretrained.to(device)\n",
    "\n",
    "optimizer = torch.optim.AdamW(model_pretrained.parameters(), lr=2e-5)\n",
    "epochs = 5"
   ]
  },
  {
   "cell_type": "code",
   "execution_count": null,
   "metadata": {
    "colab": {
     "base_uri": "https://localhost:8080/"
    },
    "executionInfo": {
     "elapsed": 5,
     "status": "ok",
     "timestamp": 1684256048135,
     "user": {
      "displayName": "Amirreza Shams",
      "userId": "00511874694037836480"
     },
     "user_tz": 240
    },
    "id": "uTnMXG_pZx0Z",
    "outputId": "05d16da3-2251-412d-f8b7-f60c2efe185d"
   },
   "outputs": [
    {
     "data": {
      "text/plain": [
       "494927872"
      ]
     },
     "execution_count": 8,
     "metadata": {},
     "output_type": "execute_result"
    }
   ],
   "source": [
    "torch.cuda.memory_reserved()"
   ]
  },
  {
   "cell_type": "code",
   "execution_count": null,
   "metadata": {
    "colab": {
     "base_uri": "https://localhost:8080/",
     "height": 136,
     "referenced_widgets": [
      "e9bbbc6ce1444a939d921286de40c9dc",
      "d4d97d4df69b4fc492add29edbc5b3b4",
      "ec8645887c284099be9a0cca02056f60",
      "f375d0f01d9b432ab36d59cd59f0b2a5",
      "0a6e6108053146a1a163f17ddcbc5fec",
      "ac6b154cbbb0415ea42c7b7346a6d394",
      "f44a21e44a494438991207f66c35ad0d",
      "495e24f1f05b453eba18df298b5a26f3",
      "fbd6b55df6824ba189374d7a504b48d7",
      "bf6a74a998e7423980cfcbf35e84f300",
      "41963726877d430382a6e4d0cdbaf3a0"
     ]
    },
    "executionInfo": {
     "elapsed": 67320,
     "status": "ok",
     "timestamp": 1684263985839,
     "user": {
      "displayName": "Amirreza Shams",
      "userId": "00511874694037836480"
     },
     "user_tz": 240
    },
    "id": "_-mZWPlrViqS",
    "outputId": "433f323e-7762-49ea-944a-44cefd373ea8"
   },
   "outputs": [
    {
     "data": {
      "application/vnd.jupyter.widget-view+json": {
       "model_id": "e9bbbc6ce1444a939d921286de40c9dc",
       "version_major": 2,
       "version_minor": 0
      },
      "text/plain": [
       "  0%|          | 0/5 [00:00<?, ?it/s]"
      ]
     },
     "metadata": {},
     "output_type": "display_data"
    },
    {
     "name": "stdout",
     "output_type": "stream",
     "text": [
      "Epoch: 1, training loss: 2.3982286262512207\n",
      "Epoch: 2, training loss: 2.402910060882568\n",
      "Epoch: 3, training loss: 2.4054079961776735\n",
      "Epoch: 4, training loss: 2.3963714408874512\n",
      "Epoch: 5, training loss: 2.3980671310424806\n"
     ]
    }
   ],
   "source": [
    "# Training\n",
    "criterion = nn.CrossEntropyLoss()\n",
    "for epoch in tqdm(range(epochs)):\n",
    "    model_pretrained.train()\n",
    "    total_loss = 0\n",
    "\n",
    "    for batch in train_loader:\n",
    "        input_ids = batch[\"input_ids\"].to(device)\n",
    "        attention_mask = batch[\"attention_mask\"].to(device)\n",
    "        labels = batch[\"labels\"].to(device)\n",
    "\n",
    "        optimizer.zero_grad()\n",
    "        outputs = model_pretrained(input_ids, attention_mask=attention_mask, labels=labels)\n",
    "        logits = outputs.logits\n",
    "        loss = criterion(logits, labels)\n",
    "        optimizer.step()\n",
    "\n",
    "        total_loss += loss.item()\n",
    "    average_train_loss = total_loss / len(train_loader)\n",
    "    print(f\"Epoch: {epoch+1}, training loss: {average_train_loss}\")"
   ]
  },
  {
   "cell_type": "code",
   "execution_count": null,
   "metadata": {
    "id": "ENtbYFwmViqS"
   },
   "outputs": [],
   "source": [
    "# Evaluation\n",
    "model_pretrained.eval()\n",
    "total_preds = []\n",
    "total_labels = []\n",
    "for batch in test_loader: \n",
    "    input_ids = batch[\"input_ids\"].to(device)\n",
    "    attention_mask = batch[\"attention_mask\"].to(device)\n",
    "    labels = batch[\"labels\"].to(device)\n",
    "\n",
    "with torch.no_grad():\n",
    "    outputs = model_pretrained(input_ids, attention_mask=attention_mask)\n",
    "    preds = torch.argmax(outputs.logits, dim=1)\n",
    "\n",
    "total_preds.extend(preds.cpu().numpy())\n",
    "total_labels.extend(labels.cpu().numpy())"
   ]
  },
  {
   "cell_type": "code",
   "execution_count": null,
   "metadata": {
    "colab": {
     "base_uri": "https://localhost:8080/"
    },
    "executionInfo": {
     "elapsed": 3,
     "status": "ok",
     "timestamp": 1684263262067,
     "user": {
      "displayName": "Amirreza Shams",
      "userId": "00511874694037836480"
     },
     "user_tz": 240
    },
    "id": "FAgPJDe8ViqS",
    "outputId": "c46d66ad-a985-492f-9ffe-bcbb9a05adb4"
   },
   "outputs": [
    {
     "name": "stdout",
     "output_type": "stream",
     "text": [
      "Accuracy: 0.25 Precision: 0.08333333333333333 Recall: 0.3333333333333333 F1-score: 0.13333333333333333\n",
      "[[0 2 0]\n",
      " [0 1 0]\n",
      " [0 1 0]]\n",
      "              precision    recall  f1-score   support\n",
      "\n",
      "           0       0.00      0.00      0.00         0\n",
      "           1       0.00      0.00      0.00         0\n",
      "           2       0.00      0.00      0.00         0\n",
      "           3       0.00      0.00      0.00         2\n",
      "           4       0.00      0.00      0.00         0\n",
      "           5       0.25      1.00      0.40         1\n",
      "           6       0.00      0.00      0.00         0\n",
      "           7       0.00      0.00      0.00         0\n",
      "           8       0.00      0.00      0.00         1\n",
      "           9       0.00      0.00      0.00         0\n",
      "\n",
      "   micro avg       0.25      0.25      0.25         4\n",
      "   macro avg       0.03      0.10      0.04         4\n",
      "weighted avg       0.06      0.25      0.10         4\n",
      "\n"
     ]
    },
    {
     "name": "stderr",
     "output_type": "stream",
     "text": [
      "/usr/local/lib/python3.10/dist-packages/sklearn/metrics/_classification.py:1344: UndefinedMetricWarning: Precision is ill-defined and being set to 0.0 in labels with no predicted samples. Use `zero_division` parameter to control this behavior.\n",
      "  _warn_prf(average, modifier, msg_start, len(result))\n",
      "/usr/local/lib/python3.10/dist-packages/sklearn/metrics/_classification.py:1344: UndefinedMetricWarning: Precision and F-score are ill-defined and being set to 0.0 in labels with no predicted samples. Use `zero_division` parameter to control this behavior.\n",
      "  _warn_prf(average, modifier, msg_start, len(result))\n",
      "/usr/local/lib/python3.10/dist-packages/sklearn/metrics/_classification.py:1344: UndefinedMetricWarning: Recall and F-score are ill-defined and being set to 0.0 in labels with no true samples. Use `zero_division` parameter to control this behavior.\n",
      "  _warn_prf(average, modifier, msg_start, len(result))\n",
      "/usr/local/lib/python3.10/dist-packages/sklearn/metrics/_classification.py:1344: UndefinedMetricWarning: Precision and F-score are ill-defined and being set to 0.0 in labels with no predicted samples. Use `zero_division` parameter to control this behavior.\n",
      "  _warn_prf(average, modifier, msg_start, len(result))\n",
      "/usr/local/lib/python3.10/dist-packages/sklearn/metrics/_classification.py:1344: UndefinedMetricWarning: Recall and F-score are ill-defined and being set to 0.0 in labels with no true samples. Use `zero_division` parameter to control this behavior.\n",
      "  _warn_prf(average, modifier, msg_start, len(result))\n",
      "/usr/local/lib/python3.10/dist-packages/sklearn/metrics/_classification.py:1344: UndefinedMetricWarning: Precision and F-score are ill-defined and being set to 0.0 in labels with no predicted samples. Use `zero_division` parameter to control this behavior.\n",
      "  _warn_prf(average, modifier, msg_start, len(result))\n",
      "/usr/local/lib/python3.10/dist-packages/sklearn/metrics/_classification.py:1344: UndefinedMetricWarning: Recall and F-score are ill-defined and being set to 0.0 in labels with no true samples. Use `zero_division` parameter to control this behavior.\n",
      "  _warn_prf(average, modifier, msg_start, len(result))\n"
     ]
    }
   ],
   "source": [
    "#metrics\n",
    "accuracy = accuracy_score(total_labels, total_preds)\n",
    "precision = precision_score(total_labels, total_preds, average='macro')\n",
    "recall = recall_score(total_labels, total_preds, average='macro') \n",
    "f1 = f1_score(total_labels, total_preds, average='macro')\n",
    "cm = confusion_matrix(total_labels, total_preds)\n",
    "report = classification_report(total_labels, total_preds, labels=list(range(10)))\n",
    "print(f\"Accuracy: {accuracy} Precision: {precision} Recall: {recall} F1-score: {f1}\")\n",
    "print(cm)\n",
    "print(report)\n"
   ]
  },
  {
   "attachments": {},
   "cell_type": "markdown",
   "metadata": {
    "id": "Ebp4Mk9yj1ao"
   },
   "source": [
    "## Another approach"
   ]
  },
  {
   "cell_type": "code",
   "execution_count": 10,
   "metadata": {
    "colab": {
     "base_uri": "https://localhost:8080/",
     "height": 113,
     "referenced_widgets": [
      "87ff1013962f4a0aba19e0f2f2fcb827",
      "3b100faad6404d40b130d98c113f8acb",
      "301677799c2a4a84afbde8e86c1993c1",
      "d4f3492a5c6e4140926857a36d7087c6",
      "883e7c7030c24972b5ebf588a50fad2e",
      "ccdfcd2d62be490fba4e63463af0f6c0",
      "383a1cfd0b5f422da7d02a3a719b4440",
      "d8fcf953bc154380bd2b860df80d15bb",
      "f93be7279627459c84dfe5fe5fd0c99c",
      "c6c79d8a146d4e9baf87c46c81c672cd",
      "ec32c7f28a8b44ecb9296b00a755942c",
      "6f89594a724946e49ba5d373db5e5aea",
      "f619758ded7046a09e89144c597091f8",
      "7f0c59fc496a4481afb24cb4870359dc",
      "9a2de395ffbc40cc985681464f8aa13c",
      "3e5a93868a0e43e68d69047cf104670b",
      "371053cee8db4840957f48850c18a3f5",
      "45c5aabea922489c945036d0929e25e0",
      "10b2815c322544d28dcd577d4f174a9a",
      "20afafff40a5485bbf75c052498519ad",
      "2641cb405d05408e8e8121bc7e6fc973",
      "ae82f8316bf84dac90aa23bf2d3f3ddf",
      "39f6b4b5f88e41ccb460faf719bf6232",
      "9178cb351fd8484f899c0ddfb27733b1",
      "c0f1358915304bafa02139d1735e9de5",
      "d0bd0e1bfc8040b99a7ca1f2ca57f91f",
      "53f24c95cc8548ff990456976ea23426",
      "6cba8cc4e1554d75a2879a0594e0afa0",
      "8dd46ecff4554ade990c0ab0fa25b946",
      "38934e79c129455eb7d8a4d954a59632",
      "7851e10fe67249e49068fd8c5d5ed8af",
      "9ebb87425e1449cc89c93c0381f423c8",
      "c9cd9bda94274a12b55596beca0b264c"
     ]
    },
    "executionInfo": {
     "elapsed": 847,
     "status": "ok",
     "timestamp": 1684860925109,
     "user": {
      "displayName": "Amirreza Shams",
      "userId": "00511874694037836480"
     },
     "user_tz": 240
    },
    "id": "ERldKyT6j3KW",
    "outputId": "dfe286cc-7972-4d04-befe-1ff0c85b7bc2"
   },
   "outputs": [
    {
     "data": {
      "application/vnd.jupyter.widget-view+json": {
       "model_id": "87ff1013962f4a0aba19e0f2f2fcb827",
       "version_major": 2,
       "version_minor": 0
      },
      "text/plain": [
       "Downloading (…)solve/main/vocab.txt:   0%|          | 0.00/213k [00:00<?, ?B/s]"
      ]
     },
     "metadata": {},
     "output_type": "display_data"
    },
    {
     "data": {
      "application/vnd.jupyter.widget-view+json": {
       "model_id": "6f89594a724946e49ba5d373db5e5aea",
       "version_major": 2,
       "version_minor": 0
      },
      "text/plain": [
       "Downloading (…)okenizer_config.json:   0%|          | 0.00/29.0 [00:00<?, ?B/s]"
      ]
     },
     "metadata": {},
     "output_type": "display_data"
    },
    {
     "data": {
      "application/vnd.jupyter.widget-view+json": {
       "model_id": "39f6b4b5f88e41ccb460faf719bf6232",
       "version_major": 2,
       "version_minor": 0
      },
      "text/plain": [
       "Downloading (…)lve/main/config.json:   0%|          | 0.00/570 [00:00<?, ?B/s]"
      ]
     },
     "metadata": {},
     "output_type": "display_data"
    }
   ],
   "source": [
    "#having the tokenization in a pytorch Dataset\n",
    "# le = LabelEncoder()\n",
    "# df['label_encoded'] = le.fit_transform(df['manual_analysis'])\n",
    "\n",
    "tokenizer = BertTokenizer.from_pretrained('bert-base-cased')\n",
    "labels = {'No reason':0, 'Unnecessary':1, 'Replaced': 2, 'Merge Conflict':3,\n",
    "       'Successful':4, 'Stale':5, 'Resolved':6, 'Quality':7, 'Duplicate':8,\n",
    "       'Chaotic':9, 'Not Pr':10}\n",
    "class PRDataset(torch.utils.data.Dataset):\n",
    "    def __init__(self, df):\n",
    "        self.labels = [labels[label] for label in df['manual_analysis']]\n",
    "        self.comment = [tokenizer(comment, padding = 'max_length', max_length = 512, truncation = True,\n",
    "                                  return_tensors = 'pt') for comment in df['comments']]\n",
    "    def classes(self):\n",
    "        return self.labels\n",
    "\n",
    "    def __len__(self):\n",
    "        return len(self.labels)\n",
    "\n",
    "    def get_batch_labels(self, idx):\n",
    "        return np.array(self.labels[idx])\n",
    "\n",
    "    def get_batch_comments(self, idx):\n",
    "        return self.comment[idx]\n",
    "    \n",
    "    def __getitem__(self, idx):\n",
    "\n",
    "        batch_comments = self.get_batch_comments(idx)\n",
    "        batch_y = self.get_batch_labels(idx)\n",
    "\n",
    "        return batch_comments, batch_y\n",
    "        \n"
   ]
  },
  {
   "cell_type": "code",
   "execution_count": 11,
   "metadata": {
    "colab": {
     "base_uri": "https://localhost:8080/"
    },
    "executionInfo": {
     "elapsed": 221,
     "status": "ok",
     "timestamp": 1684860931575,
     "user": {
      "displayName": "Amirreza Shams",
      "userId": "00511874694037836480"
     },
     "user_tz": 240
    },
    "id": "PebvXetIj91r",
    "outputId": "711b7475-72a6-464b-d824-0561e3e4be9c"
   },
   "outputs": [
    {
     "name": "stdout",
     "output_type": "stream",
     "text": [
      "400 50 50\n"
     ]
    }
   ],
   "source": [
    "np.random.seed(112)\n",
    "\n",
    "df_train, df_val, df_test = np.split(df.sample(frac=1, random_state = 42),\n",
    "                                     [int(.8*len(df)), int(.9*len(df))])\n",
    "\n",
    "print(len(df_train),len(df_val), len(df_test))\n"
   ]
  },
  {
   "cell_type": "code",
   "execution_count": 19,
   "metadata": {
    "executionInfo": {
     "elapsed": 118,
     "status": "ok",
     "timestamp": 1684863597729,
     "user": {
      "displayName": "Amirreza Shams",
      "userId": "00511874694037836480"
     },
     "user_tz": 240
    },
    "id": "mLBGST5fkh5c"
   },
   "outputs": [],
   "source": [
    "#Creating the model\n",
    "\n",
    "class BertClassifier(nn.Module):\n",
    "\n",
    "  def __init__(self, dropout = 0.5):\n",
    "      super(BertClassifier, self).__init__()\n",
    "      self.bert = BertModel.from_pretrained('bert-base-cased')\n",
    "      self.dropout = nn.Dropout(dropout)\n",
    "      self.linear = nn.Linear(768, 11)\n",
    "      self.relu = nn.ReLU()\n",
    "  def forward(self, input_id, mask):\n",
    "      _, pooled_output = self.bert(input_ids= input_id, attention_mask=mask,return_dict=False)\n",
    "      # dropout_output = self.dropout(pooled_output)\n",
    "      # linear_output = self.linear(dropout_output)\n",
    "      # final_layer = self.relu(linear_output)\n",
    "      pooled_output = self.dropout(pooled_output)\n",
    "      pooled_output = self.linear(pooled_output)\n",
    "      final_layer = self.relu(pooled_output)\n",
    "      return final_layer\n"
   ]
  },
  {
   "cell_type": "code",
   "execution_count": 23,
   "metadata": {
    "executionInfo": {
     "elapsed": 2,
     "status": "ok",
     "timestamp": 1684863950599,
     "user": {
      "displayName": "Amirreza Shams",
      "userId": "00511874694037836480"
     },
     "user_tz": 240
    },
    "id": "IiVEwVR1lZdF"
   },
   "outputs": [],
   "source": [
    "#Training for pretrained models without any changes\n",
    "def train(model, train_data, val_data, learning_rate, epochs):\n",
    "    train_dataset, val_dataset = PRDataset(train_data), PRDataset(val_data)\n",
    "\n",
    "    train_dataloader = DataLoader(train_dataset, batch_size = 2, shuffle = True)\n",
    "    val_dataloader = DataLoader(val_dataset, batch_size=2)\n",
    "\n",
    "    use_cuda = torch.cuda.is_available()\n",
    "    device = torch.device('cuda' if torch.cuda.is_available() else 'cpu')\n",
    "\n",
    "    criterion = nn.CrossEntropyLoss()\n",
    "    optimizer = Adam(model.parameters(), lr = learning_rate)\n",
    "\n",
    "    model = model.to(device)\n",
    "    criterion = criterion.to(device)\n",
    "    \n",
    "    # if use_cuda:\n",
    "    #     model = model.cuda()\n",
    "    #     criterion = criterion.cuda()\n",
    "    for epoch_num in tqdm(range(epochs)):\n",
    "\n",
    "        total_acc_train = 0\n",
    "        total_loss_train = 0\n",
    "\n",
    "        for train_input, train_label in train_dataloader:\n",
    "\n",
    "            train_label = train_label.to(device)\n",
    "            mask = train_input['attention_mask'].to(device)\n",
    "            input_id = train_input['input_ids'].squeeze(1).to(device)\n",
    "\n",
    "            output = model(input_id, mask)\n",
    "            pooled_output = output.pooler_output\n",
    "\n",
    "            batch_loss = criterion(pooled_output, train_label.long())\n",
    "            total_loss_train += batch_loss.item()\n",
    "            \n",
    "            acc = (pooled_output.argmax(dim=1) == train_label).sum().item()\n",
    "            total_acc_train += acc\n",
    "\n",
    "            model.zero_grad()\n",
    "            batch_loss.backward()\n",
    "            optimizer.step()\n",
    "        \n",
    "        total_acc_val = 0\n",
    "        total_loss_val = 0\n",
    "\n",
    "        with torch.no_grad():\n",
    "            for val_input, val_label in val_dataloader:\n",
    "\n",
    "                val_label = val_label.to(device)\n",
    "                mask = val_input['attention_mask'].to(device)\n",
    "                input_id = val_input['input_ids'].squeeze(1).to(device)\n",
    "\n",
    "                output = model(input_id, mask)\n",
    "                pooled_output = output.pooler_output\n",
    "                batch_loss = criterion(pooled_output, val_label)\n",
    "                total_loss_val += batch_loss.item()\n",
    "                \n",
    "                acc = (pooled_output.argmax(dim=1) == val_label).sum().item()\n",
    "                total_acc_val += acc\n",
    "        \n",
    "        print(\n",
    "            f'Epochs: {epoch_num + 1} | Train Loss: {total_loss_train / len(train_data): .3f} \\\n",
    "            | Train Accuracy: {total_acc_train / len(train_data): .3f} \\\n",
    "            | Val Loss: {total_loss_val / len(val_data): .3f} \\\n",
    "            | Val Accuracy: {total_acc_val / len(val_data): .3f}')\n",
    "              \n",
    "    \n",
    "\n",
    "\n"
   ]
  },
  {
   "cell_type": "code",
   "execution_count": 27,
   "metadata": {
    "executionInfo": {
     "elapsed": 109,
     "status": "ok",
     "timestamp": 1684864379513,
     "user": {
      "displayName": "Amirreza Shams",
      "userId": "00511874694037836480"
     },
     "user_tz": 240
    },
    "id": "qoVm7EoluKM9"
   },
   "outputs": [],
   "source": [
    "#Training for the modified model\n",
    "def train(model, train_data, val_data, learning_rate, epochs):\n",
    "    train_dataset, val_dataset = PRDataset(train_data), PRDataset(val_data)\n",
    "\n",
    "    train_dataloader = DataLoader(train_dataset, batch_size = 2, shuffle = True)\n",
    "    val_dataloader = DataLoader(val_dataset, batch_size=2)\n",
    "\n",
    "    use_cuda = torch.cuda.is_available()\n",
    "    device = torch.device('cuda' if torch.cuda.is_available() else 'cpu')\n",
    "\n",
    "    criterion = nn.CrossEntropyLoss()\n",
    "    optimizer = Adam(model.parameters(), lr = learning_rate)\n",
    "\n",
    "    model = model.to(device)\n",
    "    criterion = criterion.to(device)\n",
    "    \n",
    "    # if use_cuda:\n",
    "    #     model = model.cuda()\n",
    "    #     criterion = criterion.cuda()\n",
    "    for epoch_num in tqdm(range(epochs)):\n",
    "\n",
    "        total_acc_train = 0\n",
    "        total_loss_train = 0\n",
    "\n",
    "        for train_input, train_label in train_dataloader:\n",
    "\n",
    "            train_label = train_label.to(device)\n",
    "            mask = train_input['attention_mask'].to(device)\n",
    "            input_id = train_input['input_ids'].squeeze(1).to(device)\n",
    "\n",
    "            output = model(input_id, mask)\n",
    "            # pooled_output = output.pooler_output\n",
    "            # pooled_output = output[:, 0]\n",
    "\n",
    "            batch_loss = criterion(output, train_label.long())\n",
    "            total_loss_train += batch_loss.item()\n",
    "            \n",
    "            acc = (output.argmax(dim=1) == train_label).sum().item()\n",
    "            total_acc_train += acc\n",
    "\n",
    "            model.zero_grad()\n",
    "            batch_loss.backward()\n",
    "            optimizer.step()\n",
    "        \n",
    "        total_acc_val = 0\n",
    "        total_loss_val = 0\n",
    "\n",
    "        with torch.no_grad():\n",
    "            for val_input, val_label in val_dataloader:\n",
    "\n",
    "                val_label = val_label.to(device).float()\n",
    "                mask = val_input['attention_mask'].to(device)\n",
    "                input_id = val_input['input_ids'].squeeze(1).to(device)\n",
    "\n",
    "                output = model(input_id, mask)\n",
    "                # pooled_output = output[:, 0]\n",
    "                batch_loss = criterion(output, val_label.long())\n",
    "                total_loss_val += batch_loss.item()\n",
    "                \n",
    "                acc = (output.argmax(dim=1) == val_label).sum().item()\n",
    "                total_acc_val += acc\n",
    "        \n",
    "        print(\n",
    "            f'Epochs: {epoch_num + 1} | Train Loss: {total_loss_train / len(train_data): .3f} \\\n",
    "            | Train Accuracy: {total_acc_train / len(train_data): .3f} \\\n",
    "            | Val Loss: {total_loss_val / len(val_data): .3f} \\\n",
    "            | Val Accuracy: {total_acc_val / len(val_data): .3f}')\n",
    "              \n",
    "    \n",
    "\n",
    "\n"
   ]
  },
  {
   "cell_type": "code",
   "execution_count": 14,
   "metadata": {
    "colab": {
     "base_uri": "https://localhost:8080/",
     "height": 341,
     "referenced_widgets": [
      "c4ff962b39384fd1928ea02444b661a8",
      "5c2e0c21a3c245bbbda66a8b19714c7f",
      "0bc7867198bc49188ab1042f5db3f708",
      "17282469594f4a7da87e1e3524b05045",
      "9baf9962c53748ac87b6851b403883e6",
      "c310f83cabf94d7ba29c401c3608e280",
      "944dd1e6360c43fab46d577a9fc36ea7",
      "d7ac72ad382e4fb891c5c36d844981e5",
      "95b86f0d921a4558be5610f910237ddc",
      "f6c42e675a15437e93325f8abd33dbd1",
      "5dcc71dcadff4964988fc065a538c1d0",
      "6e0e13d708134dd4833861cadfbcb8d9",
      "f8032aa1cf1a463ba18c799c04c6bd38",
      "4049eebd980942a094c66171d84137f8",
      "982be2b33974460da60d542a76832022",
      "23b35e405bee4ae3b048cfc3e2b19e7d",
      "82aa0fa594484af3ae7c25c91f2cb45d",
      "1cd4e3611c2e40088d7f5480fb41108f",
      "b42f7677ca8b4152ae9fd4f695920b20",
      "831ef19bb17d4c89b154a48e609d3d68",
      "3aa913345e804469bbc1b06d63494d98",
      "03b7632d759d4381a247ab10807cae12"
     ]
    },
    "executionInfo": {
     "elapsed": 537718,
     "status": "ok",
     "timestamp": 1684861477941,
     "user": {
      "displayName": "Amirreza Shams",
      "userId": "00511874694037836480"
     },
     "user_tz": 240
    },
    "id": "KNYP3l1Km_4S",
    "outputId": "e26f866f-6575-46f7-bcc1-3eff66507410"
   },
   "outputs": [
    {
     "data": {
      "application/vnd.jupyter.widget-view+json": {
       "model_id": "c4ff962b39384fd1928ea02444b661a8",
       "version_major": 2,
       "version_minor": 0
      },
      "text/plain": [
       "Downloading pytorch_model.bin:   0%|          | 0.00/436M [00:00<?, ?B/s]"
      ]
     },
     "metadata": {},
     "output_type": "display_data"
    },
    {
     "name": "stderr",
     "output_type": "stream",
     "text": [
      "Some weights of the model checkpoint at bert-base-cased were not used when initializing BertModel: ['cls.predictions.transform.dense.bias', 'cls.predictions.transform.dense.weight', 'cls.seq_relationship.bias', 'cls.predictions.bias', 'cls.seq_relationship.weight', 'cls.predictions.transform.LayerNorm.weight', 'cls.predictions.transform.LayerNorm.bias', 'cls.predictions.decoder.weight']\n",
      "- This IS expected if you are initializing BertModel from the checkpoint of a model trained on another task or with another architecture (e.g. initializing a BertForSequenceClassification model from a BertForPreTraining model).\n",
      "- This IS NOT expected if you are initializing BertModel from the checkpoint of a model that you expect to be exactly identical (initializing a BertForSequenceClassification model from a BertForSequenceClassification model).\n"
     ]
    },
    {
     "data": {
      "application/vnd.jupyter.widget-view+json": {
       "model_id": "6e0e13d708134dd4833861cadfbcb8d9",
       "version_major": 2,
       "version_minor": 0
      },
      "text/plain": [
       "  0%|          | 0/10 [00:00<?, ?it/s]"
      ]
     },
     "metadata": {},
     "output_type": "display_data"
    },
    {
     "name": "stdout",
     "output_type": "stream",
     "text": [
      "Epochs: 1 | Train Loss:  3.302             | Train Accuracy:  0.000             | Val Loss:  3.177             | Val Accuracy:  0.000\n",
      "Epochs: 2 | Train Loss:  3.163             | Train Accuracy:  0.007             | Val Loss:  3.049             | Val Accuracy:  0.120\n",
      "Epochs: 3 | Train Loss:  3.013             | Train Accuracy:  0.072             | Val Loss:  2.927             | Val Accuracy:  0.120\n",
      "Epochs: 4 | Train Loss:  2.873             | Train Accuracy:  0.152             | Val Loss:  2.797             | Val Accuracy:  0.360\n",
      "Epochs: 5 | Train Loss:  2.765             | Train Accuracy:  0.340             | Val Loss:  2.713             | Val Accuracy:  0.540\n",
      "Epochs: 6 | Train Loss:  2.683             | Train Accuracy:  0.395             | Val Loss:  2.643             | Val Accuracy:  0.520\n",
      "Epochs: 7 | Train Loss:  2.622             | Train Accuracy:  0.425             | Val Loss:  2.592             | Val Accuracy:  0.540\n",
      "Epochs: 8 | Train Loss:  2.575             | Train Accuracy:  0.430             | Val Loss:  2.553             | Val Accuracy:  0.560\n",
      "Epochs: 9 | Train Loss:  2.540             | Train Accuracy:  0.448             | Val Loss:  2.524             | Val Accuracy:  0.560\n",
      "Epochs: 10 | Train Loss:  2.513             | Train Accuracy:  0.448             | Val Loss:  2.500             | Val Accuracy:  0.560\n"
     ]
    }
   ],
   "source": [
    "model = BertModel.from_pretrained('bert-base-cased')\n",
    "train(model, df_train, df_val, 1e-6, 10)"
   ]
  },
  {
   "cell_type": "code",
   "execution_count": 17,
   "metadata": {
    "colab": {
     "base_uri": "https://localhost:8080/",
     "height": 373,
     "referenced_widgets": [
      "02203f70d7fe449b812a86c722e96c4b",
      "d13d8408b6884fbe83d3a50b93a666d1",
      "30b167d622594f8cabce5e83ca87d067",
      "6c7a7e257aef4953af2f31d334c84d8d",
      "b39150ab5fea42beaa007df98d392937",
      "b84936400c1848a48bff113259caf6a2",
      "090ca9cd61d440f2ba7955c94a6dd282",
      "b93e1ccf6d5b41ce987d3c74c97d303e",
      "c3da41d789b6430097a9a1b4e372de99",
      "0f054408da5b43dd8b8e21fac8d562ee",
      "b9df74416ef445788f2c818c7af5f0ac",
      "35262e99a4104e6b824817d1429c4b3c",
      "accd40b5069d4b7398a473f1159eaf0a",
      "8388ca2f987b421fa9bc3fa014a8ac33",
      "0c4c7c4dbc1041b28dd3c6fd3faf78ee",
      "bb5e6ef4375542c3a74229bcf84fa4cb",
      "6e25a65d872d41c2b7177a50f1e6da2f",
      "7df91d8d037c4b1aa33f77f5c5350896",
      "7a986ea7375a411caad4260d65ee3569",
      "b59c351a4aa54b069c18d998e29cd222",
      "362fa28826284d43b775151dae439f38",
      "52fa2789e71242babbb7a4ac3e8d0dd6",
      "bc287de0847e4faca19bf432712d8269",
      "60ebe6c399354f9f94a2edf240551c83",
      "cba98208295f410aaac84acff79d69f0",
      "cd88e7426fd6462fa5cf1080e9ab7882",
      "95c4b5afb81647d18e9fd1002ac42ded",
      "e8cca5f9ef5042c9a710db18ad61cf79",
      "f53fd45708c74b48b6c3dc5603556b9b",
      "68c66de59546435389abc67388acf653",
      "ab2a4d5d532745be87178d8b4e55882d",
      "b5ddc809fb1e4da19bd1e3f4972d971d",
      "83698c416813496192d1ae7de738af52"
     ]
    },
    "executionInfo": {
     "elapsed": 544832,
     "status": "ok",
     "timestamp": 1684863082922,
     "user": {
      "displayName": "Amirreza Shams",
      "userId": "00511874694037836480"
     },
     "user_tz": 240
    },
    "id": "NTONzMuFofyY",
    "outputId": "2db2e9cf-88e3-4bd7-c49b-0ffcb9f8dfd9"
   },
   "outputs": [
    {
     "data": {
      "application/vnd.jupyter.widget-view+json": {
       "model_id": "02203f70d7fe449b812a86c722e96c4b",
       "version_major": 2,
       "version_minor": 0
      },
      "text/plain": [
       "Downloading (…)lve/main/config.json:   0%|          | 0.00/570 [00:00<?, ?B/s]"
      ]
     },
     "metadata": {},
     "output_type": "display_data"
    },
    {
     "data": {
      "application/vnd.jupyter.widget-view+json": {
       "model_id": "35262e99a4104e6b824817d1429c4b3c",
       "version_major": 2,
       "version_minor": 0
      },
      "text/plain": [
       "Downloading pytorch_model.bin:   0%|          | 0.00/440M [00:00<?, ?B/s]"
      ]
     },
     "metadata": {},
     "output_type": "display_data"
    },
    {
     "name": "stderr",
     "output_type": "stream",
     "text": [
      "Some weights of the model checkpoint at bert-base-uncased were not used when initializing BertModel: ['cls.predictions.transform.dense.bias', 'cls.predictions.transform.dense.weight', 'cls.seq_relationship.bias', 'cls.predictions.bias', 'cls.seq_relationship.weight', 'cls.predictions.transform.LayerNorm.weight', 'cls.predictions.transform.LayerNorm.bias', 'cls.predictions.decoder.weight']\n",
      "- This IS expected if you are initializing BertModel from the checkpoint of a model trained on another task or with another architecture (e.g. initializing a BertForSequenceClassification model from a BertForPreTraining model).\n",
      "- This IS NOT expected if you are initializing BertModel from the checkpoint of a model that you expect to be exactly identical (initializing a BertForSequenceClassification model from a BertForSequenceClassification model).\n"
     ]
    },
    {
     "data": {
      "application/vnd.jupyter.widget-view+json": {
       "model_id": "bc287de0847e4faca19bf432712d8269",
       "version_major": 2,
       "version_minor": 0
      },
      "text/plain": [
       "  0%|          | 0/10 [00:00<?, ?it/s]"
      ]
     },
     "metadata": {},
     "output_type": "display_data"
    },
    {
     "name": "stdout",
     "output_type": "stream",
     "text": [
      "Epochs: 1 | Train Loss:  3.277             | Train Accuracy:  0.000             | Val Loss:  3.020             | Val Accuracy:  0.000\n",
      "Epochs: 2 | Train Loss:  3.013             | Train Accuracy:  0.018             | Val Loss:  2.899             | Val Accuracy:  0.100\n",
      "Epochs: 3 | Train Loss:  2.896             | Train Accuracy:  0.085             | Val Loss:  2.836             | Val Accuracy:  0.140\n",
      "Epochs: 4 | Train Loss:  2.822             | Train Accuracy:  0.220             | Val Loss:  2.781             | Val Accuracy:  0.240\n",
      "Epochs: 5 | Train Loss:  2.766             | Train Accuracy:  0.280             | Val Loss:  2.731             | Val Accuracy:  0.480\n",
      "Epochs: 6 | Train Loss:  2.717             | Train Accuracy:  0.350             | Val Loss:  2.685             | Val Accuracy:  0.460\n",
      "Epochs: 7 | Train Loss:  2.675             | Train Accuracy:  0.367             | Val Loss:  2.644             | Val Accuracy:  0.500\n",
      "Epochs: 8 | Train Loss:  2.636             | Train Accuracy:  0.407             | Val Loss:  2.610             | Val Accuracy:  0.520\n",
      "Epochs: 9 | Train Loss:  2.604             | Train Accuracy:  0.407             | Val Loss:  2.578             | Val Accuracy:  0.540\n",
      "Epochs: 10 | Train Loss:  2.576             | Train Accuracy:  0.410             | Val Loss:  2.552             | Val Accuracy:  0.540\n"
     ]
    }
   ],
   "source": [
    "model = BertModel.from_pretrained('bert-base-uncased')\n",
    "train(model, df_train, df_val, 1e-6, 10)"
   ]
  },
  {
   "cell_type": "code",
   "execution_count": 29,
   "metadata": {
    "colab": {
     "base_uri": "https://localhost:8080/",
     "height": 493,
     "referenced_widgets": [
      "dac89acd3a074af68f08079adb33cb77",
      "049fd83806c24d988a08311422e2f770",
      "486904fe9ff241baba128d0263c63f84",
      "4208c1ed1a0e4c9cae212f8acdc7992a",
      "10106db75053437fab25321d0006e981",
      "09a0ba32b60b4cee90da7073b83eeb25",
      "8a8f56f5756142b190b761114b1baa88",
      "420685c3074f4360aa87fbcb2f024657",
      "bd8cab80162d4a98b590b2b36358c67c",
      "147596174bb44685a84bc971292e23fb",
      "bfc5e8ec631a4987848080546c782d73"
     ]
    },
    "executionInfo": {
     "elapsed": 1036154,
     "status": "ok",
     "timestamp": 1684865955696,
     "user": {
      "displayName": "Amirreza Shams",
      "userId": "00511874694037836480"
     },
     "user_tz": 240
    },
    "id": "yThngOz9rx5o",
    "outputId": "d6c8a39c-3e88-4a17-a208-86ac21bbd8f7"
   },
   "outputs": [
    {
     "name": "stderr",
     "output_type": "stream",
     "text": [
      "Some weights of the model checkpoint at bert-base-cased were not used when initializing BertModel: ['cls.predictions.transform.dense.bias', 'cls.predictions.transform.dense.weight', 'cls.seq_relationship.bias', 'cls.predictions.bias', 'cls.seq_relationship.weight', 'cls.predictions.transform.LayerNorm.weight', 'cls.predictions.transform.LayerNorm.bias', 'cls.predictions.decoder.weight']\n",
      "- This IS expected if you are initializing BertModel from the checkpoint of a model trained on another task or with another architecture (e.g. initializing a BertForSequenceClassification model from a BertForPreTraining model).\n",
      "- This IS NOT expected if you are initializing BertModel from the checkpoint of a model that you expect to be exactly identical (initializing a BertForSequenceClassification model from a BertForSequenceClassification model).\n"
     ]
    },
    {
     "data": {
      "application/vnd.jupyter.widget-view+json": {
       "model_id": "dac89acd3a074af68f08079adb33cb77",
       "version_major": 2,
       "version_minor": 0
      },
      "text/plain": [
       "  0%|          | 0/20 [00:00<?, ?it/s]"
      ]
     },
     "metadata": {},
     "output_type": "display_data"
    },
    {
     "name": "stdout",
     "output_type": "stream",
     "text": [
      "Epochs: 1 | Train Loss:  1.210             | Train Accuracy:  0.125             | Val Loss:  1.228             | Val Accuracy:  0.040\n",
      "Epochs: 2 | Train Loss:  1.186             | Train Accuracy:  0.158             | Val Loss:  1.178             | Val Accuracy:  0.160\n",
      "Epochs: 3 | Train Loss:  1.118             | Train Accuracy:  0.242             | Val Loss:  1.047             | Val Accuracy:  0.360\n",
      "Epochs: 4 | Train Loss:  1.032             | Train Accuracy:  0.343             | Val Loss:  0.926             | Val Accuracy:  0.460\n",
      "Epochs: 5 | Train Loss:  0.952             | Train Accuracy:  0.427             | Val Loss:  0.850             | Val Accuracy:  0.520\n",
      "Epochs: 6 | Train Loss:  0.901             | Train Accuracy:  0.472             | Val Loss:  0.840             | Val Accuracy:  0.480\n",
      "Epochs: 7 | Train Loss:  0.867             | Train Accuracy:  0.463             | Val Loss:  0.834             | Val Accuracy:  0.460\n",
      "Epochs: 8 | Train Loss:  0.824             | Train Accuracy:  0.510             | Val Loss:  0.787             | Val Accuracy:  0.500\n",
      "Epochs: 9 | Train Loss:  0.781             | Train Accuracy:  0.540             | Val Loss:  0.827             | Val Accuracy:  0.440\n",
      "Epochs: 10 | Train Loss:  0.746             | Train Accuracy:  0.590             | Val Loss:  0.777             | Val Accuracy:  0.440\n",
      "Epochs: 11 | Train Loss:  0.723             | Train Accuracy:  0.588             | Val Loss:  0.769             | Val Accuracy:  0.520\n",
      "Epochs: 12 | Train Loss:  0.691             | Train Accuracy:  0.623             | Val Loss:  0.789             | Val Accuracy:  0.440\n",
      "Epochs: 13 | Train Loss:  0.651             | Train Accuracy:  0.652             | Val Loss:  0.786             | Val Accuracy:  0.480\n",
      "Epochs: 14 | Train Loss:  0.636             | Train Accuracy:  0.645             | Val Loss:  0.773             | Val Accuracy:  0.480\n",
      "Epochs: 15 | Train Loss:  0.616             | Train Accuracy:  0.685             | Val Loss:  0.770             | Val Accuracy:  0.500\n",
      "Epochs: 16 | Train Loss:  0.586             | Train Accuracy:  0.688             | Val Loss:  0.813             | Val Accuracy:  0.440\n",
      "Epochs: 17 | Train Loss:  0.568             | Train Accuracy:  0.693             | Val Loss:  0.800             | Val Accuracy:  0.480\n",
      "Epochs: 18 | Train Loss:  0.537             | Train Accuracy:  0.720             | Val Loss:  0.799             | Val Accuracy:  0.460\n",
      "Epochs: 19 | Train Loss:  0.512             | Train Accuracy:  0.735             | Val Loss:  0.803             | Val Accuracy:  0.460\n",
      "Epochs: 20 | Train Loss:  0.486             | Train Accuracy:  0.750             | Val Loss:  0.816             | Val Accuracy:  0.400\n"
     ]
    }
   ],
   "source": [
    "model = BertClassifier()\n",
    "train(model, df_train, df_val, 1e-6, 20)"
   ]
  },
  {
   "cell_type": "code",
   "execution_count": 31,
   "metadata": {
    "colab": {
     "base_uri": "https://localhost:8080/"
    },
    "executionInfo": {
     "elapsed": 3810,
     "status": "ok",
     "timestamp": 1684866002478,
     "user": {
      "displayName": "Amirreza Shams",
      "userId": "00511874694037836480"
     },
     "user_tz": 240
    },
    "id": "D-1FtXsbnN2R",
    "outputId": "a15a9133-c378-4b72-f6d5-e2d2c90a6338"
   },
   "outputs": [
    {
     "name": "stdout",
     "output_type": "stream",
     "text": [
      "Test Accuracy:  0.420\n"
     ]
    }
   ],
   "source": [
    "#Evaluation\n",
    "\n",
    "def evaluate(model, test_data):\n",
    "\n",
    "    test = PRDataset(test_data)\n",
    "\n",
    "    test_dataloader = DataLoader(test, batch_size=2)\n",
    "\n",
    "    use_cuda = torch.cuda.is_available()\n",
    "    device = torch.device(\"cuda\" if use_cuda else \"cpu\")\n",
    "\n",
    "    model = model.to(device)\n",
    "    # if use_cuda:\n",
    "\n",
    "    #     model = model.cuda()\n",
    "\n",
    "    total_acc_test = 0\n",
    "    with torch.no_grad():\n",
    "\n",
    "        for test_input, test_label in test_dataloader:\n",
    "\n",
    "              test_label = test_label.to(device)\n",
    "              mask = test_input['attention_mask'].to(device)\n",
    "              input_id = test_input['input_ids'].squeeze(1).to(device)\n",
    "\n",
    "              output = model(input_id, mask)\n",
    "\n",
    "              acc = (output.argmax(dim=1) == test_label).sum().item()\n",
    "              total_acc_test += acc\n",
    "    \n",
    "    print(f'Test Accuracy: {total_acc_test / len(test_data): .3f}')\n",
    "    \n",
    "evaluate(model, df_test)"
   ]
  },
  {
   "cell_type": "code",
   "execution_count": 34,
   "metadata": {
    "colab": {
     "base_uri": "https://localhost:8080/"
    },
    "executionInfo": {
     "elapsed": 3132,
     "status": "ok",
     "timestamp": 1684867077917,
     "user": {
      "displayName": "Amirreza Shams",
      "userId": "00511874694037836480"
     },
     "user_tz": 240
    },
    "id": "XmXTZN1N4iuP",
    "outputId": "fde613e3-2117-4a4f-ad7f-4f4fa8e0c8e0"
   },
   "outputs": [
    {
     "name": "stdout",
     "output_type": "stream",
     "text": [
      "Test Accuracy: 0.400\n",
      "Classification Report:               precision    recall  f1-score   support\n",
      "\n",
      "           0       0.89      0.80      0.84        10\n",
      "           1       0.12      0.15      0.13        13\n",
      "           2       0.00      0.00      0.00         3\n",
      "           3       0.00      0.00      0.00         0\n",
      "           4       0.62      0.67      0.65        15\n",
      "           5       0.00      0.00      0.00         1\n",
      "           7       0.00      0.00      0.00         6\n",
      "           8       0.00      0.00      0.00         1\n",
      "           9       0.00      0.00      0.00         1\n",
      "\n",
      "    accuracy                           0.40        50\n",
      "   macro avg       0.18      0.18      0.18        50\n",
      "weighted avg       0.40      0.40      0.40        50\n",
      "\n"
     ]
    }
   ],
   "source": [
    "from sklearn.metrics import classification_report\n",
    "\n",
    "def evaluate(model, test_data):\n",
    "\n",
    "    test = PRDataset(test_data)\n",
    "\n",
    "    test_dataloader = DataLoader(test, batch_size=2)\n",
    "\n",
    "    use_cuda = torch.cuda.is_available()\n",
    "    device = torch.device(\"cuda\" if use_cuda else \"cpu\")\n",
    "\n",
    "    model = model.to(device)\n",
    "\n",
    "    y_true = []\n",
    "    y_pred = []\n",
    "    total_acc_test = 0\n",
    "\n",
    "    with torch.no_grad():\n",
    "\n",
    "        for test_input, test_label in test_dataloader:\n",
    "\n",
    "            test_label = test_label.to(device)\n",
    "            mask = test_input['attention_mask'].to(device)\n",
    "            input_id = test_input['input_ids'].squeeze(1).to(device)\n",
    "\n",
    "            output = model(input_id, mask)\n",
    "\n",
    "            # Compute predictions\n",
    "            batch_pred = output.argmax(dim=1).cpu().numpy()\n",
    "            batch_true = test_label.cpu().numpy()\n",
    "\n",
    "            y_pred.extend(batch_pred.tolist())\n",
    "            y_true.extend(batch_true.tolist())\n",
    "\n",
    "            # Compute accuracy\n",
    "            acc = (batch_pred == batch_true).sum().item()\n",
    "            total_acc_test += acc\n",
    "\n",
    "    # Compute metrics\n",
    "    accuracy = total_acc_test / len(test_data)\n",
    "    report = classification_report(y_true, y_pred, zero_division=0)\n",
    "\n",
    "    print(f'Test Accuracy: {accuracy:.3f}')\n",
    "    print(f\"Classification Report: {report}\")\n",
    "\n",
    "evaluate(model, df_test)\n"
   ]
  },
  {
   "attachments": {},
   "cell_type": "markdown",
   "metadata": {
    "id": "gM2F_dHnViqS"
   },
   "source": [
    "## Main"
   ]
  },
  {
   "cell_type": "code",
   "execution_count": null,
   "metadata": {
    "id": "_9tvKoYdViqS"
   },
   "outputs": [],
   "source": [
    "torch.save(model.state_dict(), 'bert_model.pth')\n"
   ]
  }
 ],
 "metadata": {
  "accelerator": "GPU",
  "colab": {
   "collapsed_sections": [
    "VmAhx774ViqS",
    "gIt7eIzHViqS"
   ],
   "gpuType": "T4",
   "provenance": []
  },
  "gpuClass": "standard",
  "kernelspec": {
   "display_name": "Python 3 (ipykernel)",
   "language": "python",
   "name": "python3"
  },
  "language_info": {
   "codemirror_mode": {
    "name": "ipython",
    "version": 3
   },
   "file_extension": ".py",
   "mimetype": "text/x-python",
   "name": "python",
   "nbconvert_exporter": "python",
   "pygments_lexer": "ipython3",
   "version": "3.10.2"
  },
  "widgets": {
   "application/vnd.jupyter.widget-state+json": {
    "02203f70d7fe449b812a86c722e96c4b": {
     "model_module": "@jupyter-widgets/controls",
     "model_module_version": "1.5.0",
     "model_name": "HBoxModel",
     "state": {
      "_dom_classes": [],
      "_model_module": "@jupyter-widgets/controls",
      "_model_module_version": "1.5.0",
      "_model_name": "HBoxModel",
      "_view_count": null,
      "_view_module": "@jupyter-widgets/controls",
      "_view_module_version": "1.5.0",
      "_view_name": "HBoxView",
      "box_style": "",
      "children": [
       "IPY_MODEL_d13d8408b6884fbe83d3a50b93a666d1",
       "IPY_MODEL_30b167d622594f8cabce5e83ca87d067",
       "IPY_MODEL_6c7a7e257aef4953af2f31d334c84d8d"
      ],
      "layout": "IPY_MODEL_b39150ab5fea42beaa007df98d392937"
     }
    },
    "03b7632d759d4381a247ab10807cae12": {
     "model_module": "@jupyter-widgets/controls",
     "model_module_version": "1.5.0",
     "model_name": "DescriptionStyleModel",
     "state": {
      "_model_module": "@jupyter-widgets/controls",
      "_model_module_version": "1.5.0",
      "_model_name": "DescriptionStyleModel",
      "_view_count": null,
      "_view_module": "@jupyter-widgets/base",
      "_view_module_version": "1.2.0",
      "_view_name": "StyleView",
      "description_width": ""
     }
    },
    "049fd83806c24d988a08311422e2f770": {
     "model_module": "@jupyter-widgets/controls",
     "model_module_version": "1.5.0",
     "model_name": "HTMLModel",
     "state": {
      "_dom_classes": [],
      "_model_module": "@jupyter-widgets/controls",
      "_model_module_version": "1.5.0",
      "_model_name": "HTMLModel",
      "_view_count": null,
      "_view_module": "@jupyter-widgets/controls",
      "_view_module_version": "1.5.0",
      "_view_name": "HTMLView",
      "description": "",
      "description_tooltip": null,
      "layout": "IPY_MODEL_09a0ba32b60b4cee90da7073b83eeb25",
      "placeholder": "​",
      "style": "IPY_MODEL_8a8f56f5756142b190b761114b1baa88",
      "value": "100%"
     }
    },
    "090ca9cd61d440f2ba7955c94a6dd282": {
     "model_module": "@jupyter-widgets/controls",
     "model_module_version": "1.5.0",
     "model_name": "DescriptionStyleModel",
     "state": {
      "_model_module": "@jupyter-widgets/controls",
      "_model_module_version": "1.5.0",
      "_model_name": "DescriptionStyleModel",
      "_view_count": null,
      "_view_module": "@jupyter-widgets/base",
      "_view_module_version": "1.2.0",
      "_view_name": "StyleView",
      "description_width": ""
     }
    },
    "09a0ba32b60b4cee90da7073b83eeb25": {
     "model_module": "@jupyter-widgets/base",
     "model_module_version": "1.2.0",
     "model_name": "LayoutModel",
     "state": {
      "_model_module": "@jupyter-widgets/base",
      "_model_module_version": "1.2.0",
      "_model_name": "LayoutModel",
      "_view_count": null,
      "_view_module": "@jupyter-widgets/base",
      "_view_module_version": "1.2.0",
      "_view_name": "LayoutView",
      "align_content": null,
      "align_items": null,
      "align_self": null,
      "border": null,
      "bottom": null,
      "display": null,
      "flex": null,
      "flex_flow": null,
      "grid_area": null,
      "grid_auto_columns": null,
      "grid_auto_flow": null,
      "grid_auto_rows": null,
      "grid_column": null,
      "grid_gap": null,
      "grid_row": null,
      "grid_template_areas": null,
      "grid_template_columns": null,
      "grid_template_rows": null,
      "height": null,
      "justify_content": null,
      "justify_items": null,
      "left": null,
      "margin": null,
      "max_height": null,
      "max_width": null,
      "min_height": null,
      "min_width": null,
      "object_fit": null,
      "object_position": null,
      "order": null,
      "overflow": null,
      "overflow_x": null,
      "overflow_y": null,
      "padding": null,
      "right": null,
      "top": null,
      "visibility": null,
      "width": null
     }
    },
    "0a6e6108053146a1a163f17ddcbc5fec": {
     "model_module": "@jupyter-widgets/base",
     "model_module_version": "1.2.0",
     "model_name": "LayoutModel",
     "state": {
      "_model_module": "@jupyter-widgets/base",
      "_model_module_version": "1.2.0",
      "_model_name": "LayoutModel",
      "_view_count": null,
      "_view_module": "@jupyter-widgets/base",
      "_view_module_version": "1.2.0",
      "_view_name": "LayoutView",
      "align_content": null,
      "align_items": null,
      "align_self": null,
      "border": null,
      "bottom": null,
      "display": null,
      "flex": null,
      "flex_flow": null,
      "grid_area": null,
      "grid_auto_columns": null,
      "grid_auto_flow": null,
      "grid_auto_rows": null,
      "grid_column": null,
      "grid_gap": null,
      "grid_row": null,
      "grid_template_areas": null,
      "grid_template_columns": null,
      "grid_template_rows": null,
      "height": null,
      "justify_content": null,
      "justify_items": null,
      "left": null,
      "margin": null,
      "max_height": null,
      "max_width": null,
      "min_height": null,
      "min_width": null,
      "object_fit": null,
      "object_position": null,
      "order": null,
      "overflow": null,
      "overflow_x": null,
      "overflow_y": null,
      "padding": null,
      "right": null,
      "top": null,
      "visibility": null,
      "width": null
     }
    },
    "0bc7867198bc49188ab1042f5db3f708": {
     "model_module": "@jupyter-widgets/controls",
     "model_module_version": "1.5.0",
     "model_name": "FloatProgressModel",
     "state": {
      "_dom_classes": [],
      "_model_module": "@jupyter-widgets/controls",
      "_model_module_version": "1.5.0",
      "_model_name": "FloatProgressModel",
      "_view_count": null,
      "_view_module": "@jupyter-widgets/controls",
      "_view_module_version": "1.5.0",
      "_view_name": "ProgressView",
      "bar_style": "success",
      "description": "",
      "description_tooltip": null,
      "layout": "IPY_MODEL_d7ac72ad382e4fb891c5c36d844981e5",
      "max": 435779157,
      "min": 0,
      "orientation": "horizontal",
      "style": "IPY_MODEL_95b86f0d921a4558be5610f910237ddc",
      "value": 435779157
     }
    },
    "0c4c7c4dbc1041b28dd3c6fd3faf78ee": {
     "model_module": "@jupyter-widgets/controls",
     "model_module_version": "1.5.0",
     "model_name": "HTMLModel",
     "state": {
      "_dom_classes": [],
      "_model_module": "@jupyter-widgets/controls",
      "_model_module_version": "1.5.0",
      "_model_name": "HTMLModel",
      "_view_count": null,
      "_view_module": "@jupyter-widgets/controls",
      "_view_module_version": "1.5.0",
      "_view_name": "HTMLView",
      "description": "",
      "description_tooltip": null,
      "layout": "IPY_MODEL_362fa28826284d43b775151dae439f38",
      "placeholder": "​",
      "style": "IPY_MODEL_52fa2789e71242babbb7a4ac3e8d0dd6",
      "value": " 440M/440M [00:03&lt;00:00, 143MB/s]"
     }
    },
    "0f054408da5b43dd8b8e21fac8d562ee": {
     "model_module": "@jupyter-widgets/base",
     "model_module_version": "1.2.0",
     "model_name": "LayoutModel",
     "state": {
      "_model_module": "@jupyter-widgets/base",
      "_model_module_version": "1.2.0",
      "_model_name": "LayoutModel",
      "_view_count": null,
      "_view_module": "@jupyter-widgets/base",
      "_view_module_version": "1.2.0",
      "_view_name": "LayoutView",
      "align_content": null,
      "align_items": null,
      "align_self": null,
      "border": null,
      "bottom": null,
      "display": null,
      "flex": null,
      "flex_flow": null,
      "grid_area": null,
      "grid_auto_columns": null,
      "grid_auto_flow": null,
      "grid_auto_rows": null,
      "grid_column": null,
      "grid_gap": null,
      "grid_row": null,
      "grid_template_areas": null,
      "grid_template_columns": null,
      "grid_template_rows": null,
      "height": null,
      "justify_content": null,
      "justify_items": null,
      "left": null,
      "margin": null,
      "max_height": null,
      "max_width": null,
      "min_height": null,
      "min_width": null,
      "object_fit": null,
      "object_position": null,
      "order": null,
      "overflow": null,
      "overflow_x": null,
      "overflow_y": null,
      "padding": null,
      "right": null,
      "top": null,
      "visibility": null,
      "width": null
     }
    },
    "10106db75053437fab25321d0006e981": {
     "model_module": "@jupyter-widgets/base",
     "model_module_version": "1.2.0",
     "model_name": "LayoutModel",
     "state": {
      "_model_module": "@jupyter-widgets/base",
      "_model_module_version": "1.2.0",
      "_model_name": "LayoutModel",
      "_view_count": null,
      "_view_module": "@jupyter-widgets/base",
      "_view_module_version": "1.2.0",
      "_view_name": "LayoutView",
      "align_content": null,
      "align_items": null,
      "align_self": null,
      "border": null,
      "bottom": null,
      "display": null,
      "flex": null,
      "flex_flow": null,
      "grid_area": null,
      "grid_auto_columns": null,
      "grid_auto_flow": null,
      "grid_auto_rows": null,
      "grid_column": null,
      "grid_gap": null,
      "grid_row": null,
      "grid_template_areas": null,
      "grid_template_columns": null,
      "grid_template_rows": null,
      "height": null,
      "justify_content": null,
      "justify_items": null,
      "left": null,
      "margin": null,
      "max_height": null,
      "max_width": null,
      "min_height": null,
      "min_width": null,
      "object_fit": null,
      "object_position": null,
      "order": null,
      "overflow": null,
      "overflow_x": null,
      "overflow_y": null,
      "padding": null,
      "right": null,
      "top": null,
      "visibility": null,
      "width": null
     }
    },
    "10b2815c322544d28dcd577d4f174a9a": {
     "model_module": "@jupyter-widgets/base",
     "model_module_version": "1.2.0",
     "model_name": "LayoutModel",
     "state": {
      "_model_module": "@jupyter-widgets/base",
      "_model_module_version": "1.2.0",
      "_model_name": "LayoutModel",
      "_view_count": null,
      "_view_module": "@jupyter-widgets/base",
      "_view_module_version": "1.2.0",
      "_view_name": "LayoutView",
      "align_content": null,
      "align_items": null,
      "align_self": null,
      "border": null,
      "bottom": null,
      "display": null,
      "flex": null,
      "flex_flow": null,
      "grid_area": null,
      "grid_auto_columns": null,
      "grid_auto_flow": null,
      "grid_auto_rows": null,
      "grid_column": null,
      "grid_gap": null,
      "grid_row": null,
      "grid_template_areas": null,
      "grid_template_columns": null,
      "grid_template_rows": null,
      "height": null,
      "justify_content": null,
      "justify_items": null,
      "left": null,
      "margin": null,
      "max_height": null,
      "max_width": null,
      "min_height": null,
      "min_width": null,
      "object_fit": null,
      "object_position": null,
      "order": null,
      "overflow": null,
      "overflow_x": null,
      "overflow_y": null,
      "padding": null,
      "right": null,
      "top": null,
      "visibility": null,
      "width": null
     }
    },
    "147596174bb44685a84bc971292e23fb": {
     "model_module": "@jupyter-widgets/base",
     "model_module_version": "1.2.0",
     "model_name": "LayoutModel",
     "state": {
      "_model_module": "@jupyter-widgets/base",
      "_model_module_version": "1.2.0",
      "_model_name": "LayoutModel",
      "_view_count": null,
      "_view_module": "@jupyter-widgets/base",
      "_view_module_version": "1.2.0",
      "_view_name": "LayoutView",
      "align_content": null,
      "align_items": null,
      "align_self": null,
      "border": null,
      "bottom": null,
      "display": null,
      "flex": null,
      "flex_flow": null,
      "grid_area": null,
      "grid_auto_columns": null,
      "grid_auto_flow": null,
      "grid_auto_rows": null,
      "grid_column": null,
      "grid_gap": null,
      "grid_row": null,
      "grid_template_areas": null,
      "grid_template_columns": null,
      "grid_template_rows": null,
      "height": null,
      "justify_content": null,
      "justify_items": null,
      "left": null,
      "margin": null,
      "max_height": null,
      "max_width": null,
      "min_height": null,
      "min_width": null,
      "object_fit": null,
      "object_position": null,
      "order": null,
      "overflow": null,
      "overflow_x": null,
      "overflow_y": null,
      "padding": null,
      "right": null,
      "top": null,
      "visibility": null,
      "width": null
     }
    },
    "17282469594f4a7da87e1e3524b05045": {
     "model_module": "@jupyter-widgets/controls",
     "model_module_version": "1.5.0",
     "model_name": "HTMLModel",
     "state": {
      "_dom_classes": [],
      "_model_module": "@jupyter-widgets/controls",
      "_model_module_version": "1.5.0",
      "_model_name": "HTMLModel",
      "_view_count": null,
      "_view_module": "@jupyter-widgets/controls",
      "_view_module_version": "1.5.0",
      "_view_name": "HTMLView",
      "description": "",
      "description_tooltip": null,
      "layout": "IPY_MODEL_f6c42e675a15437e93325f8abd33dbd1",
      "placeholder": "​",
      "style": "IPY_MODEL_5dcc71dcadff4964988fc065a538c1d0",
      "value": " 436M/436M [00:04&lt;00:00, 81.0MB/s]"
     }
    },
    "1cd4e3611c2e40088d7f5480fb41108f": {
     "model_module": "@jupyter-widgets/controls",
     "model_module_version": "1.5.0",
     "model_name": "DescriptionStyleModel",
     "state": {
      "_model_module": "@jupyter-widgets/controls",
      "_model_module_version": "1.5.0",
      "_model_name": "DescriptionStyleModel",
      "_view_count": null,
      "_view_module": "@jupyter-widgets/base",
      "_view_module_version": "1.2.0",
      "_view_name": "StyleView",
      "description_width": ""
     }
    },
    "20afafff40a5485bbf75c052498519ad": {
     "model_module": "@jupyter-widgets/controls",
     "model_module_version": "1.5.0",
     "model_name": "ProgressStyleModel",
     "state": {
      "_model_module": "@jupyter-widgets/controls",
      "_model_module_version": "1.5.0",
      "_model_name": "ProgressStyleModel",
      "_view_count": null,
      "_view_module": "@jupyter-widgets/base",
      "_view_module_version": "1.2.0",
      "_view_name": "StyleView",
      "bar_color": null,
      "description_width": ""
     }
    },
    "23b35e405bee4ae3b048cfc3e2b19e7d": {
     "model_module": "@jupyter-widgets/base",
     "model_module_version": "1.2.0",
     "model_name": "LayoutModel",
     "state": {
      "_model_module": "@jupyter-widgets/base",
      "_model_module_version": "1.2.0",
      "_model_name": "LayoutModel",
      "_view_count": null,
      "_view_module": "@jupyter-widgets/base",
      "_view_module_version": "1.2.0",
      "_view_name": "LayoutView",
      "align_content": null,
      "align_items": null,
      "align_self": null,
      "border": null,
      "bottom": null,
      "display": null,
      "flex": null,
      "flex_flow": null,
      "grid_area": null,
      "grid_auto_columns": null,
      "grid_auto_flow": null,
      "grid_auto_rows": null,
      "grid_column": null,
      "grid_gap": null,
      "grid_row": null,
      "grid_template_areas": null,
      "grid_template_columns": null,
      "grid_template_rows": null,
      "height": null,
      "justify_content": null,
      "justify_items": null,
      "left": null,
      "margin": null,
      "max_height": null,
      "max_width": null,
      "min_height": null,
      "min_width": null,
      "object_fit": null,
      "object_position": null,
      "order": null,
      "overflow": null,
      "overflow_x": null,
      "overflow_y": null,
      "padding": null,
      "right": null,
      "top": null,
      "visibility": null,
      "width": null
     }
    },
    "2641cb405d05408e8e8121bc7e6fc973": {
     "model_module": "@jupyter-widgets/base",
     "model_module_version": "1.2.0",
     "model_name": "LayoutModel",
     "state": {
      "_model_module": "@jupyter-widgets/base",
      "_model_module_version": "1.2.0",
      "_model_name": "LayoutModel",
      "_view_count": null,
      "_view_module": "@jupyter-widgets/base",
      "_view_module_version": "1.2.0",
      "_view_name": "LayoutView",
      "align_content": null,
      "align_items": null,
      "align_self": null,
      "border": null,
      "bottom": null,
      "display": null,
      "flex": null,
      "flex_flow": null,
      "grid_area": null,
      "grid_auto_columns": null,
      "grid_auto_flow": null,
      "grid_auto_rows": null,
      "grid_column": null,
      "grid_gap": null,
      "grid_row": null,
      "grid_template_areas": null,
      "grid_template_columns": null,
      "grid_template_rows": null,
      "height": null,
      "justify_content": null,
      "justify_items": null,
      "left": null,
      "margin": null,
      "max_height": null,
      "max_width": null,
      "min_height": null,
      "min_width": null,
      "object_fit": null,
      "object_position": null,
      "order": null,
      "overflow": null,
      "overflow_x": null,
      "overflow_y": null,
      "padding": null,
      "right": null,
      "top": null,
      "visibility": null,
      "width": null
     }
    },
    "301677799c2a4a84afbde8e86c1993c1": {
     "model_module": "@jupyter-widgets/controls",
     "model_module_version": "1.5.0",
     "model_name": "FloatProgressModel",
     "state": {
      "_dom_classes": [],
      "_model_module": "@jupyter-widgets/controls",
      "_model_module_version": "1.5.0",
      "_model_name": "FloatProgressModel",
      "_view_count": null,
      "_view_module": "@jupyter-widgets/controls",
      "_view_module_version": "1.5.0",
      "_view_name": "ProgressView",
      "bar_style": "success",
      "description": "",
      "description_tooltip": null,
      "layout": "IPY_MODEL_d8fcf953bc154380bd2b860df80d15bb",
      "max": 213450,
      "min": 0,
      "orientation": "horizontal",
      "style": "IPY_MODEL_f93be7279627459c84dfe5fe5fd0c99c",
      "value": 213450
     }
    },
    "30b167d622594f8cabce5e83ca87d067": {
     "model_module": "@jupyter-widgets/controls",
     "model_module_version": "1.5.0",
     "model_name": "FloatProgressModel",
     "state": {
      "_dom_classes": [],
      "_model_module": "@jupyter-widgets/controls",
      "_model_module_version": "1.5.0",
      "_model_name": "FloatProgressModel",
      "_view_count": null,
      "_view_module": "@jupyter-widgets/controls",
      "_view_module_version": "1.5.0",
      "_view_name": "ProgressView",
      "bar_style": "success",
      "description": "",
      "description_tooltip": null,
      "layout": "IPY_MODEL_b93e1ccf6d5b41ce987d3c74c97d303e",
      "max": 570,
      "min": 0,
      "orientation": "horizontal",
      "style": "IPY_MODEL_c3da41d789b6430097a9a1b4e372de99",
      "value": 570
     }
    },
    "35262e99a4104e6b824817d1429c4b3c": {
     "model_module": "@jupyter-widgets/controls",
     "model_module_version": "1.5.0",
     "model_name": "HBoxModel",
     "state": {
      "_dom_classes": [],
      "_model_module": "@jupyter-widgets/controls",
      "_model_module_version": "1.5.0",
      "_model_name": "HBoxModel",
      "_view_count": null,
      "_view_module": "@jupyter-widgets/controls",
      "_view_module_version": "1.5.0",
      "_view_name": "HBoxView",
      "box_style": "",
      "children": [
       "IPY_MODEL_accd40b5069d4b7398a473f1159eaf0a",
       "IPY_MODEL_8388ca2f987b421fa9bc3fa014a8ac33",
       "IPY_MODEL_0c4c7c4dbc1041b28dd3c6fd3faf78ee"
      ],
      "layout": "IPY_MODEL_bb5e6ef4375542c3a74229bcf84fa4cb"
     }
    },
    "362fa28826284d43b775151dae439f38": {
     "model_module": "@jupyter-widgets/base",
     "model_module_version": "1.2.0",
     "model_name": "LayoutModel",
     "state": {
      "_model_module": "@jupyter-widgets/base",
      "_model_module_version": "1.2.0",
      "_model_name": "LayoutModel",
      "_view_count": null,
      "_view_module": "@jupyter-widgets/base",
      "_view_module_version": "1.2.0",
      "_view_name": "LayoutView",
      "align_content": null,
      "align_items": null,
      "align_self": null,
      "border": null,
      "bottom": null,
      "display": null,
      "flex": null,
      "flex_flow": null,
      "grid_area": null,
      "grid_auto_columns": null,
      "grid_auto_flow": null,
      "grid_auto_rows": null,
      "grid_column": null,
      "grid_gap": null,
      "grid_row": null,
      "grid_template_areas": null,
      "grid_template_columns": null,
      "grid_template_rows": null,
      "height": null,
      "justify_content": null,
      "justify_items": null,
      "left": null,
      "margin": null,
      "max_height": null,
      "max_width": null,
      "min_height": null,
      "min_width": null,
      "object_fit": null,
      "object_position": null,
      "order": null,
      "overflow": null,
      "overflow_x": null,
      "overflow_y": null,
      "padding": null,
      "right": null,
      "top": null,
      "visibility": null,
      "width": null
     }
    },
    "371053cee8db4840957f48850c18a3f5": {
     "model_module": "@jupyter-widgets/base",
     "model_module_version": "1.2.0",
     "model_name": "LayoutModel",
     "state": {
      "_model_module": "@jupyter-widgets/base",
      "_model_module_version": "1.2.0",
      "_model_name": "LayoutModel",
      "_view_count": null,
      "_view_module": "@jupyter-widgets/base",
      "_view_module_version": "1.2.0",
      "_view_name": "LayoutView",
      "align_content": null,
      "align_items": null,
      "align_self": null,
      "border": null,
      "bottom": null,
      "display": null,
      "flex": null,
      "flex_flow": null,
      "grid_area": null,
      "grid_auto_columns": null,
      "grid_auto_flow": null,
      "grid_auto_rows": null,
      "grid_column": null,
      "grid_gap": null,
      "grid_row": null,
      "grid_template_areas": null,
      "grid_template_columns": null,
      "grid_template_rows": null,
      "height": null,
      "justify_content": null,
      "justify_items": null,
      "left": null,
      "margin": null,
      "max_height": null,
      "max_width": null,
      "min_height": null,
      "min_width": null,
      "object_fit": null,
      "object_position": null,
      "order": null,
      "overflow": null,
      "overflow_x": null,
      "overflow_y": null,
      "padding": null,
      "right": null,
      "top": null,
      "visibility": null,
      "width": null
     }
    },
    "383a1cfd0b5f422da7d02a3a719b4440": {
     "model_module": "@jupyter-widgets/controls",
     "model_module_version": "1.5.0",
     "model_name": "DescriptionStyleModel",
     "state": {
      "_model_module": "@jupyter-widgets/controls",
      "_model_module_version": "1.5.0",
      "_model_name": "DescriptionStyleModel",
      "_view_count": null,
      "_view_module": "@jupyter-widgets/base",
      "_view_module_version": "1.2.0",
      "_view_name": "StyleView",
      "description_width": ""
     }
    },
    "38934e79c129455eb7d8a4d954a59632": {
     "model_module": "@jupyter-widgets/base",
     "model_module_version": "1.2.0",
     "model_name": "LayoutModel",
     "state": {
      "_model_module": "@jupyter-widgets/base",
      "_model_module_version": "1.2.0",
      "_model_name": "LayoutModel",
      "_view_count": null,
      "_view_module": "@jupyter-widgets/base",
      "_view_module_version": "1.2.0",
      "_view_name": "LayoutView",
      "align_content": null,
      "align_items": null,
      "align_self": null,
      "border": null,
      "bottom": null,
      "display": null,
      "flex": null,
      "flex_flow": null,
      "grid_area": null,
      "grid_auto_columns": null,
      "grid_auto_flow": null,
      "grid_auto_rows": null,
      "grid_column": null,
      "grid_gap": null,
      "grid_row": null,
      "grid_template_areas": null,
      "grid_template_columns": null,
      "grid_template_rows": null,
      "height": null,
      "justify_content": null,
      "justify_items": null,
      "left": null,
      "margin": null,
      "max_height": null,
      "max_width": null,
      "min_height": null,
      "min_width": null,
      "object_fit": null,
      "object_position": null,
      "order": null,
      "overflow": null,
      "overflow_x": null,
      "overflow_y": null,
      "padding": null,
      "right": null,
      "top": null,
      "visibility": null,
      "width": null
     }
    },
    "39f6b4b5f88e41ccb460faf719bf6232": {
     "model_module": "@jupyter-widgets/controls",
     "model_module_version": "1.5.0",
     "model_name": "HBoxModel",
     "state": {
      "_dom_classes": [],
      "_model_module": "@jupyter-widgets/controls",
      "_model_module_version": "1.5.0",
      "_model_name": "HBoxModel",
      "_view_count": null,
      "_view_module": "@jupyter-widgets/controls",
      "_view_module_version": "1.5.0",
      "_view_name": "HBoxView",
      "box_style": "",
      "children": [
       "IPY_MODEL_9178cb351fd8484f899c0ddfb27733b1",
       "IPY_MODEL_c0f1358915304bafa02139d1735e9de5",
       "IPY_MODEL_d0bd0e1bfc8040b99a7ca1f2ca57f91f"
      ],
      "layout": "IPY_MODEL_53f24c95cc8548ff990456976ea23426"
     }
    },
    "3aa913345e804469bbc1b06d63494d98": {
     "model_module": "@jupyter-widgets/base",
     "model_module_version": "1.2.0",
     "model_name": "LayoutModel",
     "state": {
      "_model_module": "@jupyter-widgets/base",
      "_model_module_version": "1.2.0",
      "_model_name": "LayoutModel",
      "_view_count": null,
      "_view_module": "@jupyter-widgets/base",
      "_view_module_version": "1.2.0",
      "_view_name": "LayoutView",
      "align_content": null,
      "align_items": null,
      "align_self": null,
      "border": null,
      "bottom": null,
      "display": null,
      "flex": null,
      "flex_flow": null,
      "grid_area": null,
      "grid_auto_columns": null,
      "grid_auto_flow": null,
      "grid_auto_rows": null,
      "grid_column": null,
      "grid_gap": null,
      "grid_row": null,
      "grid_template_areas": null,
      "grid_template_columns": null,
      "grid_template_rows": null,
      "height": null,
      "justify_content": null,
      "justify_items": null,
      "left": null,
      "margin": null,
      "max_height": null,
      "max_width": null,
      "min_height": null,
      "min_width": null,
      "object_fit": null,
      "object_position": null,
      "order": null,
      "overflow": null,
      "overflow_x": null,
      "overflow_y": null,
      "padding": null,
      "right": null,
      "top": null,
      "visibility": null,
      "width": null
     }
    },
    "3b100faad6404d40b130d98c113f8acb": {
     "model_module": "@jupyter-widgets/controls",
     "model_module_version": "1.5.0",
     "model_name": "HTMLModel",
     "state": {
      "_dom_classes": [],
      "_model_module": "@jupyter-widgets/controls",
      "_model_module_version": "1.5.0",
      "_model_name": "HTMLModel",
      "_view_count": null,
      "_view_module": "@jupyter-widgets/controls",
      "_view_module_version": "1.5.0",
      "_view_name": "HTMLView",
      "description": "",
      "description_tooltip": null,
      "layout": "IPY_MODEL_ccdfcd2d62be490fba4e63463af0f6c0",
      "placeholder": "​",
      "style": "IPY_MODEL_383a1cfd0b5f422da7d02a3a719b4440",
      "value": "Downloading (…)solve/main/vocab.txt: 100%"
     }
    },
    "3e5a93868a0e43e68d69047cf104670b": {
     "model_module": "@jupyter-widgets/base",
     "model_module_version": "1.2.0",
     "model_name": "LayoutModel",
     "state": {
      "_model_module": "@jupyter-widgets/base",
      "_model_module_version": "1.2.0",
      "_model_name": "LayoutModel",
      "_view_count": null,
      "_view_module": "@jupyter-widgets/base",
      "_view_module_version": "1.2.0",
      "_view_name": "LayoutView",
      "align_content": null,
      "align_items": null,
      "align_self": null,
      "border": null,
      "bottom": null,
      "display": null,
      "flex": null,
      "flex_flow": null,
      "grid_area": null,
      "grid_auto_columns": null,
      "grid_auto_flow": null,
      "grid_auto_rows": null,
      "grid_column": null,
      "grid_gap": null,
      "grid_row": null,
      "grid_template_areas": null,
      "grid_template_columns": null,
      "grid_template_rows": null,
      "height": null,
      "justify_content": null,
      "justify_items": null,
      "left": null,
      "margin": null,
      "max_height": null,
      "max_width": null,
      "min_height": null,
      "min_width": null,
      "object_fit": null,
      "object_position": null,
      "order": null,
      "overflow": null,
      "overflow_x": null,
      "overflow_y": null,
      "padding": null,
      "right": null,
      "top": null,
      "visibility": null,
      "width": null
     }
    },
    "4049eebd980942a094c66171d84137f8": {
     "model_module": "@jupyter-widgets/controls",
     "model_module_version": "1.5.0",
     "model_name": "FloatProgressModel",
     "state": {
      "_dom_classes": [],
      "_model_module": "@jupyter-widgets/controls",
      "_model_module_version": "1.5.0",
      "_model_name": "FloatProgressModel",
      "_view_count": null,
      "_view_module": "@jupyter-widgets/controls",
      "_view_module_version": "1.5.0",
      "_view_name": "ProgressView",
      "bar_style": "success",
      "description": "",
      "description_tooltip": null,
      "layout": "IPY_MODEL_b42f7677ca8b4152ae9fd4f695920b20",
      "max": 10,
      "min": 0,
      "orientation": "horizontal",
      "style": "IPY_MODEL_831ef19bb17d4c89b154a48e609d3d68",
      "value": 10
     }
    },
    "41963726877d430382a6e4d0cdbaf3a0": {
     "model_module": "@jupyter-widgets/controls",
     "model_module_version": "1.5.0",
     "model_name": "DescriptionStyleModel",
     "state": {
      "_model_module": "@jupyter-widgets/controls",
      "_model_module_version": "1.5.0",
      "_model_name": "DescriptionStyleModel",
      "_view_count": null,
      "_view_module": "@jupyter-widgets/base",
      "_view_module_version": "1.2.0",
      "_view_name": "StyleView",
      "description_width": ""
     }
    },
    "420685c3074f4360aa87fbcb2f024657": {
     "model_module": "@jupyter-widgets/base",
     "model_module_version": "1.2.0",
     "model_name": "LayoutModel",
     "state": {
      "_model_module": "@jupyter-widgets/base",
      "_model_module_version": "1.2.0",
      "_model_name": "LayoutModel",
      "_view_count": null,
      "_view_module": "@jupyter-widgets/base",
      "_view_module_version": "1.2.0",
      "_view_name": "LayoutView",
      "align_content": null,
      "align_items": null,
      "align_self": null,
      "border": null,
      "bottom": null,
      "display": null,
      "flex": null,
      "flex_flow": null,
      "grid_area": null,
      "grid_auto_columns": null,
      "grid_auto_flow": null,
      "grid_auto_rows": null,
      "grid_column": null,
      "grid_gap": null,
      "grid_row": null,
      "grid_template_areas": null,
      "grid_template_columns": null,
      "grid_template_rows": null,
      "height": null,
      "justify_content": null,
      "justify_items": null,
      "left": null,
      "margin": null,
      "max_height": null,
      "max_width": null,
      "min_height": null,
      "min_width": null,
      "object_fit": null,
      "object_position": null,
      "order": null,
      "overflow": null,
      "overflow_x": null,
      "overflow_y": null,
      "padding": null,
      "right": null,
      "top": null,
      "visibility": null,
      "width": null
     }
    },
    "4208c1ed1a0e4c9cae212f8acdc7992a": {
     "model_module": "@jupyter-widgets/controls",
     "model_module_version": "1.5.0",
     "model_name": "HTMLModel",
     "state": {
      "_dom_classes": [],
      "_model_module": "@jupyter-widgets/controls",
      "_model_module_version": "1.5.0",
      "_model_name": "HTMLModel",
      "_view_count": null,
      "_view_module": "@jupyter-widgets/controls",
      "_view_module_version": "1.5.0",
      "_view_name": "HTMLView",
      "description": "",
      "description_tooltip": null,
      "layout": "IPY_MODEL_147596174bb44685a84bc971292e23fb",
      "placeholder": "​",
      "style": "IPY_MODEL_bfc5e8ec631a4987848080546c782d73",
      "value": " 20/20 [17:08&lt;00:00, 51.33s/it]"
     }
    },
    "45c5aabea922489c945036d0929e25e0": {
     "model_module": "@jupyter-widgets/controls",
     "model_module_version": "1.5.0",
     "model_name": "DescriptionStyleModel",
     "state": {
      "_model_module": "@jupyter-widgets/controls",
      "_model_module_version": "1.5.0",
      "_model_name": "DescriptionStyleModel",
      "_view_count": null,
      "_view_module": "@jupyter-widgets/base",
      "_view_module_version": "1.2.0",
      "_view_name": "StyleView",
      "description_width": ""
     }
    },
    "486904fe9ff241baba128d0263c63f84": {
     "model_module": "@jupyter-widgets/controls",
     "model_module_version": "1.5.0",
     "model_name": "FloatProgressModel",
     "state": {
      "_dom_classes": [],
      "_model_module": "@jupyter-widgets/controls",
      "_model_module_version": "1.5.0",
      "_model_name": "FloatProgressModel",
      "_view_count": null,
      "_view_module": "@jupyter-widgets/controls",
      "_view_module_version": "1.5.0",
      "_view_name": "ProgressView",
      "bar_style": "success",
      "description": "",
      "description_tooltip": null,
      "layout": "IPY_MODEL_420685c3074f4360aa87fbcb2f024657",
      "max": 20,
      "min": 0,
      "orientation": "horizontal",
      "style": "IPY_MODEL_bd8cab80162d4a98b590b2b36358c67c",
      "value": 20
     }
    },
    "495e24f1f05b453eba18df298b5a26f3": {
     "model_module": "@jupyter-widgets/base",
     "model_module_version": "1.2.0",
     "model_name": "LayoutModel",
     "state": {
      "_model_module": "@jupyter-widgets/base",
      "_model_module_version": "1.2.0",
      "_model_name": "LayoutModel",
      "_view_count": null,
      "_view_module": "@jupyter-widgets/base",
      "_view_module_version": "1.2.0",
      "_view_name": "LayoutView",
      "align_content": null,
      "align_items": null,
      "align_self": null,
      "border": null,
      "bottom": null,
      "display": null,
      "flex": null,
      "flex_flow": null,
      "grid_area": null,
      "grid_auto_columns": null,
      "grid_auto_flow": null,
      "grid_auto_rows": null,
      "grid_column": null,
      "grid_gap": null,
      "grid_row": null,
      "grid_template_areas": null,
      "grid_template_columns": null,
      "grid_template_rows": null,
      "height": null,
      "justify_content": null,
      "justify_items": null,
      "left": null,
      "margin": null,
      "max_height": null,
      "max_width": null,
      "min_height": null,
      "min_width": null,
      "object_fit": null,
      "object_position": null,
      "order": null,
      "overflow": null,
      "overflow_x": null,
      "overflow_y": null,
      "padding": null,
      "right": null,
      "top": null,
      "visibility": null,
      "width": null
     }
    },
    "52fa2789e71242babbb7a4ac3e8d0dd6": {
     "model_module": "@jupyter-widgets/controls",
     "model_module_version": "1.5.0",
     "model_name": "DescriptionStyleModel",
     "state": {
      "_model_module": "@jupyter-widgets/controls",
      "_model_module_version": "1.5.0",
      "_model_name": "DescriptionStyleModel",
      "_view_count": null,
      "_view_module": "@jupyter-widgets/base",
      "_view_module_version": "1.2.0",
      "_view_name": "StyleView",
      "description_width": ""
     }
    },
    "53f24c95cc8548ff990456976ea23426": {
     "model_module": "@jupyter-widgets/base",
     "model_module_version": "1.2.0",
     "model_name": "LayoutModel",
     "state": {
      "_model_module": "@jupyter-widgets/base",
      "_model_module_version": "1.2.0",
      "_model_name": "LayoutModel",
      "_view_count": null,
      "_view_module": "@jupyter-widgets/base",
      "_view_module_version": "1.2.0",
      "_view_name": "LayoutView",
      "align_content": null,
      "align_items": null,
      "align_self": null,
      "border": null,
      "bottom": null,
      "display": null,
      "flex": null,
      "flex_flow": null,
      "grid_area": null,
      "grid_auto_columns": null,
      "grid_auto_flow": null,
      "grid_auto_rows": null,
      "grid_column": null,
      "grid_gap": null,
      "grid_row": null,
      "grid_template_areas": null,
      "grid_template_columns": null,
      "grid_template_rows": null,
      "height": null,
      "justify_content": null,
      "justify_items": null,
      "left": null,
      "margin": null,
      "max_height": null,
      "max_width": null,
      "min_height": null,
      "min_width": null,
      "object_fit": null,
      "object_position": null,
      "order": null,
      "overflow": null,
      "overflow_x": null,
      "overflow_y": null,
      "padding": null,
      "right": null,
      "top": null,
      "visibility": null,
      "width": null
     }
    },
    "5c2e0c21a3c245bbbda66a8b19714c7f": {
     "model_module": "@jupyter-widgets/controls",
     "model_module_version": "1.5.0",
     "model_name": "HTMLModel",
     "state": {
      "_dom_classes": [],
      "_model_module": "@jupyter-widgets/controls",
      "_model_module_version": "1.5.0",
      "_model_name": "HTMLModel",
      "_view_count": null,
      "_view_module": "@jupyter-widgets/controls",
      "_view_module_version": "1.5.0",
      "_view_name": "HTMLView",
      "description": "",
      "description_tooltip": null,
      "layout": "IPY_MODEL_c310f83cabf94d7ba29c401c3608e280",
      "placeholder": "​",
      "style": "IPY_MODEL_944dd1e6360c43fab46d577a9fc36ea7",
      "value": "Downloading pytorch_model.bin: 100%"
     }
    },
    "5dcc71dcadff4964988fc065a538c1d0": {
     "model_module": "@jupyter-widgets/controls",
     "model_module_version": "1.5.0",
     "model_name": "DescriptionStyleModel",
     "state": {
      "_model_module": "@jupyter-widgets/controls",
      "_model_module_version": "1.5.0",
      "_model_name": "DescriptionStyleModel",
      "_view_count": null,
      "_view_module": "@jupyter-widgets/base",
      "_view_module_version": "1.2.0",
      "_view_name": "StyleView",
      "description_width": ""
     }
    },
    "60ebe6c399354f9f94a2edf240551c83": {
     "model_module": "@jupyter-widgets/controls",
     "model_module_version": "1.5.0",
     "model_name": "HTMLModel",
     "state": {
      "_dom_classes": [],
      "_model_module": "@jupyter-widgets/controls",
      "_model_module_version": "1.5.0",
      "_model_name": "HTMLModel",
      "_view_count": null,
      "_view_module": "@jupyter-widgets/controls",
      "_view_module_version": "1.5.0",
      "_view_name": "HTMLView",
      "description": "",
      "description_tooltip": null,
      "layout": "IPY_MODEL_e8cca5f9ef5042c9a710db18ad61cf79",
      "placeholder": "​",
      "style": "IPY_MODEL_f53fd45708c74b48b6c3dc5603556b9b",
      "value": "100%"
     }
    },
    "68c66de59546435389abc67388acf653": {
     "model_module": "@jupyter-widgets/base",
     "model_module_version": "1.2.0",
     "model_name": "LayoutModel",
     "state": {
      "_model_module": "@jupyter-widgets/base",
      "_model_module_version": "1.2.0",
      "_model_name": "LayoutModel",
      "_view_count": null,
      "_view_module": "@jupyter-widgets/base",
      "_view_module_version": "1.2.0",
      "_view_name": "LayoutView",
      "align_content": null,
      "align_items": null,
      "align_self": null,
      "border": null,
      "bottom": null,
      "display": null,
      "flex": null,
      "flex_flow": null,
      "grid_area": null,
      "grid_auto_columns": null,
      "grid_auto_flow": null,
      "grid_auto_rows": null,
      "grid_column": null,
      "grid_gap": null,
      "grid_row": null,
      "grid_template_areas": null,
      "grid_template_columns": null,
      "grid_template_rows": null,
      "height": null,
      "justify_content": null,
      "justify_items": null,
      "left": null,
      "margin": null,
      "max_height": null,
      "max_width": null,
      "min_height": null,
      "min_width": null,
      "object_fit": null,
      "object_position": null,
      "order": null,
      "overflow": null,
      "overflow_x": null,
      "overflow_y": null,
      "padding": null,
      "right": null,
      "top": null,
      "visibility": null,
      "width": null
     }
    },
    "6c7a7e257aef4953af2f31d334c84d8d": {
     "model_module": "@jupyter-widgets/controls",
     "model_module_version": "1.5.0",
     "model_name": "HTMLModel",
     "state": {
      "_dom_classes": [],
      "_model_module": "@jupyter-widgets/controls",
      "_model_module_version": "1.5.0",
      "_model_name": "HTMLModel",
      "_view_count": null,
      "_view_module": "@jupyter-widgets/controls",
      "_view_module_version": "1.5.0",
      "_view_name": "HTMLView",
      "description": "",
      "description_tooltip": null,
      "layout": "IPY_MODEL_0f054408da5b43dd8b8e21fac8d562ee",
      "placeholder": "​",
      "style": "IPY_MODEL_b9df74416ef445788f2c818c7af5f0ac",
      "value": " 570/570 [00:00&lt;00:00, 17.9kB/s]"
     }
    },
    "6cba8cc4e1554d75a2879a0594e0afa0": {
     "model_module": "@jupyter-widgets/base",
     "model_module_version": "1.2.0",
     "model_name": "LayoutModel",
     "state": {
      "_model_module": "@jupyter-widgets/base",
      "_model_module_version": "1.2.0",
      "_model_name": "LayoutModel",
      "_view_count": null,
      "_view_module": "@jupyter-widgets/base",
      "_view_module_version": "1.2.0",
      "_view_name": "LayoutView",
      "align_content": null,
      "align_items": null,
      "align_self": null,
      "border": null,
      "bottom": null,
      "display": null,
      "flex": null,
      "flex_flow": null,
      "grid_area": null,
      "grid_auto_columns": null,
      "grid_auto_flow": null,
      "grid_auto_rows": null,
      "grid_column": null,
      "grid_gap": null,
      "grid_row": null,
      "grid_template_areas": null,
      "grid_template_columns": null,
      "grid_template_rows": null,
      "height": null,
      "justify_content": null,
      "justify_items": null,
      "left": null,
      "margin": null,
      "max_height": null,
      "max_width": null,
      "min_height": null,
      "min_width": null,
      "object_fit": null,
      "object_position": null,
      "order": null,
      "overflow": null,
      "overflow_x": null,
      "overflow_y": null,
      "padding": null,
      "right": null,
      "top": null,
      "visibility": null,
      "width": null
     }
    },
    "6e0e13d708134dd4833861cadfbcb8d9": {
     "model_module": "@jupyter-widgets/controls",
     "model_module_version": "1.5.0",
     "model_name": "HBoxModel",
     "state": {
      "_dom_classes": [],
      "_model_module": "@jupyter-widgets/controls",
      "_model_module_version": "1.5.0",
      "_model_name": "HBoxModel",
      "_view_count": null,
      "_view_module": "@jupyter-widgets/controls",
      "_view_module_version": "1.5.0",
      "_view_name": "HBoxView",
      "box_style": "",
      "children": [
       "IPY_MODEL_f8032aa1cf1a463ba18c799c04c6bd38",
       "IPY_MODEL_4049eebd980942a094c66171d84137f8",
       "IPY_MODEL_982be2b33974460da60d542a76832022"
      ],
      "layout": "IPY_MODEL_23b35e405bee4ae3b048cfc3e2b19e7d"
     }
    },
    "6e25a65d872d41c2b7177a50f1e6da2f": {
     "model_module": "@jupyter-widgets/base",
     "model_module_version": "1.2.0",
     "model_name": "LayoutModel",
     "state": {
      "_model_module": "@jupyter-widgets/base",
      "_model_module_version": "1.2.0",
      "_model_name": "LayoutModel",
      "_view_count": null,
      "_view_module": "@jupyter-widgets/base",
      "_view_module_version": "1.2.0",
      "_view_name": "LayoutView",
      "align_content": null,
      "align_items": null,
      "align_self": null,
      "border": null,
      "bottom": null,
      "display": null,
      "flex": null,
      "flex_flow": null,
      "grid_area": null,
      "grid_auto_columns": null,
      "grid_auto_flow": null,
      "grid_auto_rows": null,
      "grid_column": null,
      "grid_gap": null,
      "grid_row": null,
      "grid_template_areas": null,
      "grid_template_columns": null,
      "grid_template_rows": null,
      "height": null,
      "justify_content": null,
      "justify_items": null,
      "left": null,
      "margin": null,
      "max_height": null,
      "max_width": null,
      "min_height": null,
      "min_width": null,
      "object_fit": null,
      "object_position": null,
      "order": null,
      "overflow": null,
      "overflow_x": null,
      "overflow_y": null,
      "padding": null,
      "right": null,
      "top": null,
      "visibility": null,
      "width": null
     }
    },
    "6f89594a724946e49ba5d373db5e5aea": {
     "model_module": "@jupyter-widgets/controls",
     "model_module_version": "1.5.0",
     "model_name": "HBoxModel",
     "state": {
      "_dom_classes": [],
      "_model_module": "@jupyter-widgets/controls",
      "_model_module_version": "1.5.0",
      "_model_name": "HBoxModel",
      "_view_count": null,
      "_view_module": "@jupyter-widgets/controls",
      "_view_module_version": "1.5.0",
      "_view_name": "HBoxView",
      "box_style": "",
      "children": [
       "IPY_MODEL_f619758ded7046a09e89144c597091f8",
       "IPY_MODEL_7f0c59fc496a4481afb24cb4870359dc",
       "IPY_MODEL_9a2de395ffbc40cc985681464f8aa13c"
      ],
      "layout": "IPY_MODEL_3e5a93868a0e43e68d69047cf104670b"
     }
    },
    "7851e10fe67249e49068fd8c5d5ed8af": {
     "model_module": "@jupyter-widgets/controls",
     "model_module_version": "1.5.0",
     "model_name": "ProgressStyleModel",
     "state": {
      "_model_module": "@jupyter-widgets/controls",
      "_model_module_version": "1.5.0",
      "_model_name": "ProgressStyleModel",
      "_view_count": null,
      "_view_module": "@jupyter-widgets/base",
      "_view_module_version": "1.2.0",
      "_view_name": "StyleView",
      "bar_color": null,
      "description_width": ""
     }
    },
    "7a986ea7375a411caad4260d65ee3569": {
     "model_module": "@jupyter-widgets/base",
     "model_module_version": "1.2.0",
     "model_name": "LayoutModel",
     "state": {
      "_model_module": "@jupyter-widgets/base",
      "_model_module_version": "1.2.0",
      "_model_name": "LayoutModel",
      "_view_count": null,
      "_view_module": "@jupyter-widgets/base",
      "_view_module_version": "1.2.0",
      "_view_name": "LayoutView",
      "align_content": null,
      "align_items": null,
      "align_self": null,
      "border": null,
      "bottom": null,
      "display": null,
      "flex": null,
      "flex_flow": null,
      "grid_area": null,
      "grid_auto_columns": null,
      "grid_auto_flow": null,
      "grid_auto_rows": null,
      "grid_column": null,
      "grid_gap": null,
      "grid_row": null,
      "grid_template_areas": null,
      "grid_template_columns": null,
      "grid_template_rows": null,
      "height": null,
      "justify_content": null,
      "justify_items": null,
      "left": null,
      "margin": null,
      "max_height": null,
      "max_width": null,
      "min_height": null,
      "min_width": null,
      "object_fit": null,
      "object_position": null,
      "order": null,
      "overflow": null,
      "overflow_x": null,
      "overflow_y": null,
      "padding": null,
      "right": null,
      "top": null,
      "visibility": null,
      "width": null
     }
    },
    "7df91d8d037c4b1aa33f77f5c5350896": {
     "model_module": "@jupyter-widgets/controls",
     "model_module_version": "1.5.0",
     "model_name": "DescriptionStyleModel",
     "state": {
      "_model_module": "@jupyter-widgets/controls",
      "_model_module_version": "1.5.0",
      "_model_name": "DescriptionStyleModel",
      "_view_count": null,
      "_view_module": "@jupyter-widgets/base",
      "_view_module_version": "1.2.0",
      "_view_name": "StyleView",
      "description_width": ""
     }
    },
    "7f0c59fc496a4481afb24cb4870359dc": {
     "model_module": "@jupyter-widgets/controls",
     "model_module_version": "1.5.0",
     "model_name": "FloatProgressModel",
     "state": {
      "_dom_classes": [],
      "_model_module": "@jupyter-widgets/controls",
      "_model_module_version": "1.5.0",
      "_model_name": "FloatProgressModel",
      "_view_count": null,
      "_view_module": "@jupyter-widgets/controls",
      "_view_module_version": "1.5.0",
      "_view_name": "ProgressView",
      "bar_style": "success",
      "description": "",
      "description_tooltip": null,
      "layout": "IPY_MODEL_10b2815c322544d28dcd577d4f174a9a",
      "max": 29,
      "min": 0,
      "orientation": "horizontal",
      "style": "IPY_MODEL_20afafff40a5485bbf75c052498519ad",
      "value": 29
     }
    },
    "82aa0fa594484af3ae7c25c91f2cb45d": {
     "model_module": "@jupyter-widgets/base",
     "model_module_version": "1.2.0",
     "model_name": "LayoutModel",
     "state": {
      "_model_module": "@jupyter-widgets/base",
      "_model_module_version": "1.2.0",
      "_model_name": "LayoutModel",
      "_view_count": null,
      "_view_module": "@jupyter-widgets/base",
      "_view_module_version": "1.2.0",
      "_view_name": "LayoutView",
      "align_content": null,
      "align_items": null,
      "align_self": null,
      "border": null,
      "bottom": null,
      "display": null,
      "flex": null,
      "flex_flow": null,
      "grid_area": null,
      "grid_auto_columns": null,
      "grid_auto_flow": null,
      "grid_auto_rows": null,
      "grid_column": null,
      "grid_gap": null,
      "grid_row": null,
      "grid_template_areas": null,
      "grid_template_columns": null,
      "grid_template_rows": null,
      "height": null,
      "justify_content": null,
      "justify_items": null,
      "left": null,
      "margin": null,
      "max_height": null,
      "max_width": null,
      "min_height": null,
      "min_width": null,
      "object_fit": null,
      "object_position": null,
      "order": null,
      "overflow": null,
      "overflow_x": null,
      "overflow_y": null,
      "padding": null,
      "right": null,
      "top": null,
      "visibility": null,
      "width": null
     }
    },
    "831ef19bb17d4c89b154a48e609d3d68": {
     "model_module": "@jupyter-widgets/controls",
     "model_module_version": "1.5.0",
     "model_name": "ProgressStyleModel",
     "state": {
      "_model_module": "@jupyter-widgets/controls",
      "_model_module_version": "1.5.0",
      "_model_name": "ProgressStyleModel",
      "_view_count": null,
      "_view_module": "@jupyter-widgets/base",
      "_view_module_version": "1.2.0",
      "_view_name": "StyleView",
      "bar_color": null,
      "description_width": ""
     }
    },
    "83698c416813496192d1ae7de738af52": {
     "model_module": "@jupyter-widgets/controls",
     "model_module_version": "1.5.0",
     "model_name": "DescriptionStyleModel",
     "state": {
      "_model_module": "@jupyter-widgets/controls",
      "_model_module_version": "1.5.0",
      "_model_name": "DescriptionStyleModel",
      "_view_count": null,
      "_view_module": "@jupyter-widgets/base",
      "_view_module_version": "1.2.0",
      "_view_name": "StyleView",
      "description_width": ""
     }
    },
    "8388ca2f987b421fa9bc3fa014a8ac33": {
     "model_module": "@jupyter-widgets/controls",
     "model_module_version": "1.5.0",
     "model_name": "FloatProgressModel",
     "state": {
      "_dom_classes": [],
      "_model_module": "@jupyter-widgets/controls",
      "_model_module_version": "1.5.0",
      "_model_name": "FloatProgressModel",
      "_view_count": null,
      "_view_module": "@jupyter-widgets/controls",
      "_view_module_version": "1.5.0",
      "_view_name": "ProgressView",
      "bar_style": "success",
      "description": "",
      "description_tooltip": null,
      "layout": "IPY_MODEL_7a986ea7375a411caad4260d65ee3569",
      "max": 440473133,
      "min": 0,
      "orientation": "horizontal",
      "style": "IPY_MODEL_b59c351a4aa54b069c18d998e29cd222",
      "value": 440473133
     }
    },
    "87ff1013962f4a0aba19e0f2f2fcb827": {
     "model_module": "@jupyter-widgets/controls",
     "model_module_version": "1.5.0",
     "model_name": "HBoxModel",
     "state": {
      "_dom_classes": [],
      "_model_module": "@jupyter-widgets/controls",
      "_model_module_version": "1.5.0",
      "_model_name": "HBoxModel",
      "_view_count": null,
      "_view_module": "@jupyter-widgets/controls",
      "_view_module_version": "1.5.0",
      "_view_name": "HBoxView",
      "box_style": "",
      "children": [
       "IPY_MODEL_3b100faad6404d40b130d98c113f8acb",
       "IPY_MODEL_301677799c2a4a84afbde8e86c1993c1",
       "IPY_MODEL_d4f3492a5c6e4140926857a36d7087c6"
      ],
      "layout": "IPY_MODEL_883e7c7030c24972b5ebf588a50fad2e"
     }
    },
    "883e7c7030c24972b5ebf588a50fad2e": {
     "model_module": "@jupyter-widgets/base",
     "model_module_version": "1.2.0",
     "model_name": "LayoutModel",
     "state": {
      "_model_module": "@jupyter-widgets/base",
      "_model_module_version": "1.2.0",
      "_model_name": "LayoutModel",
      "_view_count": null,
      "_view_module": "@jupyter-widgets/base",
      "_view_module_version": "1.2.0",
      "_view_name": "LayoutView",
      "align_content": null,
      "align_items": null,
      "align_self": null,
      "border": null,
      "bottom": null,
      "display": null,
      "flex": null,
      "flex_flow": null,
      "grid_area": null,
      "grid_auto_columns": null,
      "grid_auto_flow": null,
      "grid_auto_rows": null,
      "grid_column": null,
      "grid_gap": null,
      "grid_row": null,
      "grid_template_areas": null,
      "grid_template_columns": null,
      "grid_template_rows": null,
      "height": null,
      "justify_content": null,
      "justify_items": null,
      "left": null,
      "margin": null,
      "max_height": null,
      "max_width": null,
      "min_height": null,
      "min_width": null,
      "object_fit": null,
      "object_position": null,
      "order": null,
      "overflow": null,
      "overflow_x": null,
      "overflow_y": null,
      "padding": null,
      "right": null,
      "top": null,
      "visibility": null,
      "width": null
     }
    },
    "8a8f56f5756142b190b761114b1baa88": {
     "model_module": "@jupyter-widgets/controls",
     "model_module_version": "1.5.0",
     "model_name": "DescriptionStyleModel",
     "state": {
      "_model_module": "@jupyter-widgets/controls",
      "_model_module_version": "1.5.0",
      "_model_name": "DescriptionStyleModel",
      "_view_count": null,
      "_view_module": "@jupyter-widgets/base",
      "_view_module_version": "1.2.0",
      "_view_name": "StyleView",
      "description_width": ""
     }
    },
    "8dd46ecff4554ade990c0ab0fa25b946": {
     "model_module": "@jupyter-widgets/controls",
     "model_module_version": "1.5.0",
     "model_name": "DescriptionStyleModel",
     "state": {
      "_model_module": "@jupyter-widgets/controls",
      "_model_module_version": "1.5.0",
      "_model_name": "DescriptionStyleModel",
      "_view_count": null,
      "_view_module": "@jupyter-widgets/base",
      "_view_module_version": "1.2.0",
      "_view_name": "StyleView",
      "description_width": ""
     }
    },
    "9178cb351fd8484f899c0ddfb27733b1": {
     "model_module": "@jupyter-widgets/controls",
     "model_module_version": "1.5.0",
     "model_name": "HTMLModel",
     "state": {
      "_dom_classes": [],
      "_model_module": "@jupyter-widgets/controls",
      "_model_module_version": "1.5.0",
      "_model_name": "HTMLModel",
      "_view_count": null,
      "_view_module": "@jupyter-widgets/controls",
      "_view_module_version": "1.5.0",
      "_view_name": "HTMLView",
      "description": "",
      "description_tooltip": null,
      "layout": "IPY_MODEL_6cba8cc4e1554d75a2879a0594e0afa0",
      "placeholder": "​",
      "style": "IPY_MODEL_8dd46ecff4554ade990c0ab0fa25b946",
      "value": "Downloading (…)lve/main/config.json: 100%"
     }
    },
    "944dd1e6360c43fab46d577a9fc36ea7": {
     "model_module": "@jupyter-widgets/controls",
     "model_module_version": "1.5.0",
     "model_name": "DescriptionStyleModel",
     "state": {
      "_model_module": "@jupyter-widgets/controls",
      "_model_module_version": "1.5.0",
      "_model_name": "DescriptionStyleModel",
      "_view_count": null,
      "_view_module": "@jupyter-widgets/base",
      "_view_module_version": "1.2.0",
      "_view_name": "StyleView",
      "description_width": ""
     }
    },
    "95b86f0d921a4558be5610f910237ddc": {
     "model_module": "@jupyter-widgets/controls",
     "model_module_version": "1.5.0",
     "model_name": "ProgressStyleModel",
     "state": {
      "_model_module": "@jupyter-widgets/controls",
      "_model_module_version": "1.5.0",
      "_model_name": "ProgressStyleModel",
      "_view_count": null,
      "_view_module": "@jupyter-widgets/base",
      "_view_module_version": "1.2.0",
      "_view_name": "StyleView",
      "bar_color": null,
      "description_width": ""
     }
    },
    "95c4b5afb81647d18e9fd1002ac42ded": {
     "model_module": "@jupyter-widgets/base",
     "model_module_version": "1.2.0",
     "model_name": "LayoutModel",
     "state": {
      "_model_module": "@jupyter-widgets/base",
      "_model_module_version": "1.2.0",
      "_model_name": "LayoutModel",
      "_view_count": null,
      "_view_module": "@jupyter-widgets/base",
      "_view_module_version": "1.2.0",
      "_view_name": "LayoutView",
      "align_content": null,
      "align_items": null,
      "align_self": null,
      "border": null,
      "bottom": null,
      "display": null,
      "flex": null,
      "flex_flow": null,
      "grid_area": null,
      "grid_auto_columns": null,
      "grid_auto_flow": null,
      "grid_auto_rows": null,
      "grid_column": null,
      "grid_gap": null,
      "grid_row": null,
      "grid_template_areas": null,
      "grid_template_columns": null,
      "grid_template_rows": null,
      "height": null,
      "justify_content": null,
      "justify_items": null,
      "left": null,
      "margin": null,
      "max_height": null,
      "max_width": null,
      "min_height": null,
      "min_width": null,
      "object_fit": null,
      "object_position": null,
      "order": null,
      "overflow": null,
      "overflow_x": null,
      "overflow_y": null,
      "padding": null,
      "right": null,
      "top": null,
      "visibility": null,
      "width": null
     }
    },
    "982be2b33974460da60d542a76832022": {
     "model_module": "@jupyter-widgets/controls",
     "model_module_version": "1.5.0",
     "model_name": "HTMLModel",
     "state": {
      "_dom_classes": [],
      "_model_module": "@jupyter-widgets/controls",
      "_model_module_version": "1.5.0",
      "_model_name": "HTMLModel",
      "_view_count": null,
      "_view_module": "@jupyter-widgets/controls",
      "_view_module_version": "1.5.0",
      "_view_name": "HTMLView",
      "description": "",
      "description_tooltip": null,
      "layout": "IPY_MODEL_3aa913345e804469bbc1b06d63494d98",
      "placeholder": "​",
      "style": "IPY_MODEL_03b7632d759d4381a247ab10807cae12",
      "value": " 10/10 [08:43&lt;00:00, 51.93s/it]"
     }
    },
    "9a2de395ffbc40cc985681464f8aa13c": {
     "model_module": "@jupyter-widgets/controls",
     "model_module_version": "1.5.0",
     "model_name": "HTMLModel",
     "state": {
      "_dom_classes": [],
      "_model_module": "@jupyter-widgets/controls",
      "_model_module_version": "1.5.0",
      "_model_name": "HTMLModel",
      "_view_count": null,
      "_view_module": "@jupyter-widgets/controls",
      "_view_module_version": "1.5.0",
      "_view_name": "HTMLView",
      "description": "",
      "description_tooltip": null,
      "layout": "IPY_MODEL_2641cb405d05408e8e8121bc7e6fc973",
      "placeholder": "​",
      "style": "IPY_MODEL_ae82f8316bf84dac90aa23bf2d3f3ddf",
      "value": " 29.0/29.0 [00:00&lt;00:00, 1.11kB/s]"
     }
    },
    "9baf9962c53748ac87b6851b403883e6": {
     "model_module": "@jupyter-widgets/base",
     "model_module_version": "1.2.0",
     "model_name": "LayoutModel",
     "state": {
      "_model_module": "@jupyter-widgets/base",
      "_model_module_version": "1.2.0",
      "_model_name": "LayoutModel",
      "_view_count": null,
      "_view_module": "@jupyter-widgets/base",
      "_view_module_version": "1.2.0",
      "_view_name": "LayoutView",
      "align_content": null,
      "align_items": null,
      "align_self": null,
      "border": null,
      "bottom": null,
      "display": null,
      "flex": null,
      "flex_flow": null,
      "grid_area": null,
      "grid_auto_columns": null,
      "grid_auto_flow": null,
      "grid_auto_rows": null,
      "grid_column": null,
      "grid_gap": null,
      "grid_row": null,
      "grid_template_areas": null,
      "grid_template_columns": null,
      "grid_template_rows": null,
      "height": null,
      "justify_content": null,
      "justify_items": null,
      "left": null,
      "margin": null,
      "max_height": null,
      "max_width": null,
      "min_height": null,
      "min_width": null,
      "object_fit": null,
      "object_position": null,
      "order": null,
      "overflow": null,
      "overflow_x": null,
      "overflow_y": null,
      "padding": null,
      "right": null,
      "top": null,
      "visibility": null,
      "width": null
     }
    },
    "9ebb87425e1449cc89c93c0381f423c8": {
     "model_module": "@jupyter-widgets/base",
     "model_module_version": "1.2.0",
     "model_name": "LayoutModel",
     "state": {
      "_model_module": "@jupyter-widgets/base",
      "_model_module_version": "1.2.0",
      "_model_name": "LayoutModel",
      "_view_count": null,
      "_view_module": "@jupyter-widgets/base",
      "_view_module_version": "1.2.0",
      "_view_name": "LayoutView",
      "align_content": null,
      "align_items": null,
      "align_self": null,
      "border": null,
      "bottom": null,
      "display": null,
      "flex": null,
      "flex_flow": null,
      "grid_area": null,
      "grid_auto_columns": null,
      "grid_auto_flow": null,
      "grid_auto_rows": null,
      "grid_column": null,
      "grid_gap": null,
      "grid_row": null,
      "grid_template_areas": null,
      "grid_template_columns": null,
      "grid_template_rows": null,
      "height": null,
      "justify_content": null,
      "justify_items": null,
      "left": null,
      "margin": null,
      "max_height": null,
      "max_width": null,
      "min_height": null,
      "min_width": null,
      "object_fit": null,
      "object_position": null,
      "order": null,
      "overflow": null,
      "overflow_x": null,
      "overflow_y": null,
      "padding": null,
      "right": null,
      "top": null,
      "visibility": null,
      "width": null
     }
    },
    "ab2a4d5d532745be87178d8b4e55882d": {
     "model_module": "@jupyter-widgets/controls",
     "model_module_version": "1.5.0",
     "model_name": "ProgressStyleModel",
     "state": {
      "_model_module": "@jupyter-widgets/controls",
      "_model_module_version": "1.5.0",
      "_model_name": "ProgressStyleModel",
      "_view_count": null,
      "_view_module": "@jupyter-widgets/base",
      "_view_module_version": "1.2.0",
      "_view_name": "StyleView",
      "bar_color": null,
      "description_width": ""
     }
    },
    "ac6b154cbbb0415ea42c7b7346a6d394": {
     "model_module": "@jupyter-widgets/base",
     "model_module_version": "1.2.0",
     "model_name": "LayoutModel",
     "state": {
      "_model_module": "@jupyter-widgets/base",
      "_model_module_version": "1.2.0",
      "_model_name": "LayoutModel",
      "_view_count": null,
      "_view_module": "@jupyter-widgets/base",
      "_view_module_version": "1.2.0",
      "_view_name": "LayoutView",
      "align_content": null,
      "align_items": null,
      "align_self": null,
      "border": null,
      "bottom": null,
      "display": null,
      "flex": null,
      "flex_flow": null,
      "grid_area": null,
      "grid_auto_columns": null,
      "grid_auto_flow": null,
      "grid_auto_rows": null,
      "grid_column": null,
      "grid_gap": null,
      "grid_row": null,
      "grid_template_areas": null,
      "grid_template_columns": null,
      "grid_template_rows": null,
      "height": null,
      "justify_content": null,
      "justify_items": null,
      "left": null,
      "margin": null,
      "max_height": null,
      "max_width": null,
      "min_height": null,
      "min_width": null,
      "object_fit": null,
      "object_position": null,
      "order": null,
      "overflow": null,
      "overflow_x": null,
      "overflow_y": null,
      "padding": null,
      "right": null,
      "top": null,
      "visibility": null,
      "width": null
     }
    },
    "accd40b5069d4b7398a473f1159eaf0a": {
     "model_module": "@jupyter-widgets/controls",
     "model_module_version": "1.5.0",
     "model_name": "HTMLModel",
     "state": {
      "_dom_classes": [],
      "_model_module": "@jupyter-widgets/controls",
      "_model_module_version": "1.5.0",
      "_model_name": "HTMLModel",
      "_view_count": null,
      "_view_module": "@jupyter-widgets/controls",
      "_view_module_version": "1.5.0",
      "_view_name": "HTMLView",
      "description": "",
      "description_tooltip": null,
      "layout": "IPY_MODEL_6e25a65d872d41c2b7177a50f1e6da2f",
      "placeholder": "​",
      "style": "IPY_MODEL_7df91d8d037c4b1aa33f77f5c5350896",
      "value": "Downloading pytorch_model.bin: 100%"
     }
    },
    "ae82f8316bf84dac90aa23bf2d3f3ddf": {
     "model_module": "@jupyter-widgets/controls",
     "model_module_version": "1.5.0",
     "model_name": "DescriptionStyleModel",
     "state": {
      "_model_module": "@jupyter-widgets/controls",
      "_model_module_version": "1.5.0",
      "_model_name": "DescriptionStyleModel",
      "_view_count": null,
      "_view_module": "@jupyter-widgets/base",
      "_view_module_version": "1.2.0",
      "_view_name": "StyleView",
      "description_width": ""
     }
    },
    "b39150ab5fea42beaa007df98d392937": {
     "model_module": "@jupyter-widgets/base",
     "model_module_version": "1.2.0",
     "model_name": "LayoutModel",
     "state": {
      "_model_module": "@jupyter-widgets/base",
      "_model_module_version": "1.2.0",
      "_model_name": "LayoutModel",
      "_view_count": null,
      "_view_module": "@jupyter-widgets/base",
      "_view_module_version": "1.2.0",
      "_view_name": "LayoutView",
      "align_content": null,
      "align_items": null,
      "align_self": null,
      "border": null,
      "bottom": null,
      "display": null,
      "flex": null,
      "flex_flow": null,
      "grid_area": null,
      "grid_auto_columns": null,
      "grid_auto_flow": null,
      "grid_auto_rows": null,
      "grid_column": null,
      "grid_gap": null,
      "grid_row": null,
      "grid_template_areas": null,
      "grid_template_columns": null,
      "grid_template_rows": null,
      "height": null,
      "justify_content": null,
      "justify_items": null,
      "left": null,
      "margin": null,
      "max_height": null,
      "max_width": null,
      "min_height": null,
      "min_width": null,
      "object_fit": null,
      "object_position": null,
      "order": null,
      "overflow": null,
      "overflow_x": null,
      "overflow_y": null,
      "padding": null,
      "right": null,
      "top": null,
      "visibility": null,
      "width": null
     }
    },
    "b42f7677ca8b4152ae9fd4f695920b20": {
     "model_module": "@jupyter-widgets/base",
     "model_module_version": "1.2.0",
     "model_name": "LayoutModel",
     "state": {
      "_model_module": "@jupyter-widgets/base",
      "_model_module_version": "1.2.0",
      "_model_name": "LayoutModel",
      "_view_count": null,
      "_view_module": "@jupyter-widgets/base",
      "_view_module_version": "1.2.0",
      "_view_name": "LayoutView",
      "align_content": null,
      "align_items": null,
      "align_self": null,
      "border": null,
      "bottom": null,
      "display": null,
      "flex": null,
      "flex_flow": null,
      "grid_area": null,
      "grid_auto_columns": null,
      "grid_auto_flow": null,
      "grid_auto_rows": null,
      "grid_column": null,
      "grid_gap": null,
      "grid_row": null,
      "grid_template_areas": null,
      "grid_template_columns": null,
      "grid_template_rows": null,
      "height": null,
      "justify_content": null,
      "justify_items": null,
      "left": null,
      "margin": null,
      "max_height": null,
      "max_width": null,
      "min_height": null,
      "min_width": null,
      "object_fit": null,
      "object_position": null,
      "order": null,
      "overflow": null,
      "overflow_x": null,
      "overflow_y": null,
      "padding": null,
      "right": null,
      "top": null,
      "visibility": null,
      "width": null
     }
    },
    "b59c351a4aa54b069c18d998e29cd222": {
     "model_module": "@jupyter-widgets/controls",
     "model_module_version": "1.5.0",
     "model_name": "ProgressStyleModel",
     "state": {
      "_model_module": "@jupyter-widgets/controls",
      "_model_module_version": "1.5.0",
      "_model_name": "ProgressStyleModel",
      "_view_count": null,
      "_view_module": "@jupyter-widgets/base",
      "_view_module_version": "1.2.0",
      "_view_name": "StyleView",
      "bar_color": null,
      "description_width": ""
     }
    },
    "b5ddc809fb1e4da19bd1e3f4972d971d": {
     "model_module": "@jupyter-widgets/base",
     "model_module_version": "1.2.0",
     "model_name": "LayoutModel",
     "state": {
      "_model_module": "@jupyter-widgets/base",
      "_model_module_version": "1.2.0",
      "_model_name": "LayoutModel",
      "_view_count": null,
      "_view_module": "@jupyter-widgets/base",
      "_view_module_version": "1.2.0",
      "_view_name": "LayoutView",
      "align_content": null,
      "align_items": null,
      "align_self": null,
      "border": null,
      "bottom": null,
      "display": null,
      "flex": null,
      "flex_flow": null,
      "grid_area": null,
      "grid_auto_columns": null,
      "grid_auto_flow": null,
      "grid_auto_rows": null,
      "grid_column": null,
      "grid_gap": null,
      "grid_row": null,
      "grid_template_areas": null,
      "grid_template_columns": null,
      "grid_template_rows": null,
      "height": null,
      "justify_content": null,
      "justify_items": null,
      "left": null,
      "margin": null,
      "max_height": null,
      "max_width": null,
      "min_height": null,
      "min_width": null,
      "object_fit": null,
      "object_position": null,
      "order": null,
      "overflow": null,
      "overflow_x": null,
      "overflow_y": null,
      "padding": null,
      "right": null,
      "top": null,
      "visibility": null,
      "width": null
     }
    },
    "b84936400c1848a48bff113259caf6a2": {
     "model_module": "@jupyter-widgets/base",
     "model_module_version": "1.2.0",
     "model_name": "LayoutModel",
     "state": {
      "_model_module": "@jupyter-widgets/base",
      "_model_module_version": "1.2.0",
      "_model_name": "LayoutModel",
      "_view_count": null,
      "_view_module": "@jupyter-widgets/base",
      "_view_module_version": "1.2.0",
      "_view_name": "LayoutView",
      "align_content": null,
      "align_items": null,
      "align_self": null,
      "border": null,
      "bottom": null,
      "display": null,
      "flex": null,
      "flex_flow": null,
      "grid_area": null,
      "grid_auto_columns": null,
      "grid_auto_flow": null,
      "grid_auto_rows": null,
      "grid_column": null,
      "grid_gap": null,
      "grid_row": null,
      "grid_template_areas": null,
      "grid_template_columns": null,
      "grid_template_rows": null,
      "height": null,
      "justify_content": null,
      "justify_items": null,
      "left": null,
      "margin": null,
      "max_height": null,
      "max_width": null,
      "min_height": null,
      "min_width": null,
      "object_fit": null,
      "object_position": null,
      "order": null,
      "overflow": null,
      "overflow_x": null,
      "overflow_y": null,
      "padding": null,
      "right": null,
      "top": null,
      "visibility": null,
      "width": null
     }
    },
    "b93e1ccf6d5b41ce987d3c74c97d303e": {
     "model_module": "@jupyter-widgets/base",
     "model_module_version": "1.2.0",
     "model_name": "LayoutModel",
     "state": {
      "_model_module": "@jupyter-widgets/base",
      "_model_module_version": "1.2.0",
      "_model_name": "LayoutModel",
      "_view_count": null,
      "_view_module": "@jupyter-widgets/base",
      "_view_module_version": "1.2.0",
      "_view_name": "LayoutView",
      "align_content": null,
      "align_items": null,
      "align_self": null,
      "border": null,
      "bottom": null,
      "display": null,
      "flex": null,
      "flex_flow": null,
      "grid_area": null,
      "grid_auto_columns": null,
      "grid_auto_flow": null,
      "grid_auto_rows": null,
      "grid_column": null,
      "grid_gap": null,
      "grid_row": null,
      "grid_template_areas": null,
      "grid_template_columns": null,
      "grid_template_rows": null,
      "height": null,
      "justify_content": null,
      "justify_items": null,
      "left": null,
      "margin": null,
      "max_height": null,
      "max_width": null,
      "min_height": null,
      "min_width": null,
      "object_fit": null,
      "object_position": null,
      "order": null,
      "overflow": null,
      "overflow_x": null,
      "overflow_y": null,
      "padding": null,
      "right": null,
      "top": null,
      "visibility": null,
      "width": null
     }
    },
    "b9df74416ef445788f2c818c7af5f0ac": {
     "model_module": "@jupyter-widgets/controls",
     "model_module_version": "1.5.0",
     "model_name": "DescriptionStyleModel",
     "state": {
      "_model_module": "@jupyter-widgets/controls",
      "_model_module_version": "1.5.0",
      "_model_name": "DescriptionStyleModel",
      "_view_count": null,
      "_view_module": "@jupyter-widgets/base",
      "_view_module_version": "1.2.0",
      "_view_name": "StyleView",
      "description_width": ""
     }
    },
    "bb5e6ef4375542c3a74229bcf84fa4cb": {
     "model_module": "@jupyter-widgets/base",
     "model_module_version": "1.2.0",
     "model_name": "LayoutModel",
     "state": {
      "_model_module": "@jupyter-widgets/base",
      "_model_module_version": "1.2.0",
      "_model_name": "LayoutModel",
      "_view_count": null,
      "_view_module": "@jupyter-widgets/base",
      "_view_module_version": "1.2.0",
      "_view_name": "LayoutView",
      "align_content": null,
      "align_items": null,
      "align_self": null,
      "border": null,
      "bottom": null,
      "display": null,
      "flex": null,
      "flex_flow": null,
      "grid_area": null,
      "grid_auto_columns": null,
      "grid_auto_flow": null,
      "grid_auto_rows": null,
      "grid_column": null,
      "grid_gap": null,
      "grid_row": null,
      "grid_template_areas": null,
      "grid_template_columns": null,
      "grid_template_rows": null,
      "height": null,
      "justify_content": null,
      "justify_items": null,
      "left": null,
      "margin": null,
      "max_height": null,
      "max_width": null,
      "min_height": null,
      "min_width": null,
      "object_fit": null,
      "object_position": null,
      "order": null,
      "overflow": null,
      "overflow_x": null,
      "overflow_y": null,
      "padding": null,
      "right": null,
      "top": null,
      "visibility": null,
      "width": null
     }
    },
    "bc287de0847e4faca19bf432712d8269": {
     "model_module": "@jupyter-widgets/controls",
     "model_module_version": "1.5.0",
     "model_name": "HBoxModel",
     "state": {
      "_dom_classes": [],
      "_model_module": "@jupyter-widgets/controls",
      "_model_module_version": "1.5.0",
      "_model_name": "HBoxModel",
      "_view_count": null,
      "_view_module": "@jupyter-widgets/controls",
      "_view_module_version": "1.5.0",
      "_view_name": "HBoxView",
      "box_style": "",
      "children": [
       "IPY_MODEL_60ebe6c399354f9f94a2edf240551c83",
       "IPY_MODEL_cba98208295f410aaac84acff79d69f0",
       "IPY_MODEL_cd88e7426fd6462fa5cf1080e9ab7882"
      ],
      "layout": "IPY_MODEL_95c4b5afb81647d18e9fd1002ac42ded"
     }
    },
    "bd8cab80162d4a98b590b2b36358c67c": {
     "model_module": "@jupyter-widgets/controls",
     "model_module_version": "1.5.0",
     "model_name": "ProgressStyleModel",
     "state": {
      "_model_module": "@jupyter-widgets/controls",
      "_model_module_version": "1.5.0",
      "_model_name": "ProgressStyleModel",
      "_view_count": null,
      "_view_module": "@jupyter-widgets/base",
      "_view_module_version": "1.2.0",
      "_view_name": "StyleView",
      "bar_color": null,
      "description_width": ""
     }
    },
    "bf6a74a998e7423980cfcbf35e84f300": {
     "model_module": "@jupyter-widgets/base",
     "model_module_version": "1.2.0",
     "model_name": "LayoutModel",
     "state": {
      "_model_module": "@jupyter-widgets/base",
      "_model_module_version": "1.2.0",
      "_model_name": "LayoutModel",
      "_view_count": null,
      "_view_module": "@jupyter-widgets/base",
      "_view_module_version": "1.2.0",
      "_view_name": "LayoutView",
      "align_content": null,
      "align_items": null,
      "align_self": null,
      "border": null,
      "bottom": null,
      "display": null,
      "flex": null,
      "flex_flow": null,
      "grid_area": null,
      "grid_auto_columns": null,
      "grid_auto_flow": null,
      "grid_auto_rows": null,
      "grid_column": null,
      "grid_gap": null,
      "grid_row": null,
      "grid_template_areas": null,
      "grid_template_columns": null,
      "grid_template_rows": null,
      "height": null,
      "justify_content": null,
      "justify_items": null,
      "left": null,
      "margin": null,
      "max_height": null,
      "max_width": null,
      "min_height": null,
      "min_width": null,
      "object_fit": null,
      "object_position": null,
      "order": null,
      "overflow": null,
      "overflow_x": null,
      "overflow_y": null,
      "padding": null,
      "right": null,
      "top": null,
      "visibility": null,
      "width": null
     }
    },
    "bfc5e8ec631a4987848080546c782d73": {
     "model_module": "@jupyter-widgets/controls",
     "model_module_version": "1.5.0",
     "model_name": "DescriptionStyleModel",
     "state": {
      "_model_module": "@jupyter-widgets/controls",
      "_model_module_version": "1.5.0",
      "_model_name": "DescriptionStyleModel",
      "_view_count": null,
      "_view_module": "@jupyter-widgets/base",
      "_view_module_version": "1.2.0",
      "_view_name": "StyleView",
      "description_width": ""
     }
    },
    "c0f1358915304bafa02139d1735e9de5": {
     "model_module": "@jupyter-widgets/controls",
     "model_module_version": "1.5.0",
     "model_name": "FloatProgressModel",
     "state": {
      "_dom_classes": [],
      "_model_module": "@jupyter-widgets/controls",
      "_model_module_version": "1.5.0",
      "_model_name": "FloatProgressModel",
      "_view_count": null,
      "_view_module": "@jupyter-widgets/controls",
      "_view_module_version": "1.5.0",
      "_view_name": "ProgressView",
      "bar_style": "success",
      "description": "",
      "description_tooltip": null,
      "layout": "IPY_MODEL_38934e79c129455eb7d8a4d954a59632",
      "max": 570,
      "min": 0,
      "orientation": "horizontal",
      "style": "IPY_MODEL_7851e10fe67249e49068fd8c5d5ed8af",
      "value": 570
     }
    },
    "c310f83cabf94d7ba29c401c3608e280": {
     "model_module": "@jupyter-widgets/base",
     "model_module_version": "1.2.0",
     "model_name": "LayoutModel",
     "state": {
      "_model_module": "@jupyter-widgets/base",
      "_model_module_version": "1.2.0",
      "_model_name": "LayoutModel",
      "_view_count": null,
      "_view_module": "@jupyter-widgets/base",
      "_view_module_version": "1.2.0",
      "_view_name": "LayoutView",
      "align_content": null,
      "align_items": null,
      "align_self": null,
      "border": null,
      "bottom": null,
      "display": null,
      "flex": null,
      "flex_flow": null,
      "grid_area": null,
      "grid_auto_columns": null,
      "grid_auto_flow": null,
      "grid_auto_rows": null,
      "grid_column": null,
      "grid_gap": null,
      "grid_row": null,
      "grid_template_areas": null,
      "grid_template_columns": null,
      "grid_template_rows": null,
      "height": null,
      "justify_content": null,
      "justify_items": null,
      "left": null,
      "margin": null,
      "max_height": null,
      "max_width": null,
      "min_height": null,
      "min_width": null,
      "object_fit": null,
      "object_position": null,
      "order": null,
      "overflow": null,
      "overflow_x": null,
      "overflow_y": null,
      "padding": null,
      "right": null,
      "top": null,
      "visibility": null,
      "width": null
     }
    },
    "c3da41d789b6430097a9a1b4e372de99": {
     "model_module": "@jupyter-widgets/controls",
     "model_module_version": "1.5.0",
     "model_name": "ProgressStyleModel",
     "state": {
      "_model_module": "@jupyter-widgets/controls",
      "_model_module_version": "1.5.0",
      "_model_name": "ProgressStyleModel",
      "_view_count": null,
      "_view_module": "@jupyter-widgets/base",
      "_view_module_version": "1.2.0",
      "_view_name": "StyleView",
      "bar_color": null,
      "description_width": ""
     }
    },
    "c4ff962b39384fd1928ea02444b661a8": {
     "model_module": "@jupyter-widgets/controls",
     "model_module_version": "1.5.0",
     "model_name": "HBoxModel",
     "state": {
      "_dom_classes": [],
      "_model_module": "@jupyter-widgets/controls",
      "_model_module_version": "1.5.0",
      "_model_name": "HBoxModel",
      "_view_count": null,
      "_view_module": "@jupyter-widgets/controls",
      "_view_module_version": "1.5.0",
      "_view_name": "HBoxView",
      "box_style": "",
      "children": [
       "IPY_MODEL_5c2e0c21a3c245bbbda66a8b19714c7f",
       "IPY_MODEL_0bc7867198bc49188ab1042f5db3f708",
       "IPY_MODEL_17282469594f4a7da87e1e3524b05045"
      ],
      "layout": "IPY_MODEL_9baf9962c53748ac87b6851b403883e6"
     }
    },
    "c6c79d8a146d4e9baf87c46c81c672cd": {
     "model_module": "@jupyter-widgets/base",
     "model_module_version": "1.2.0",
     "model_name": "LayoutModel",
     "state": {
      "_model_module": "@jupyter-widgets/base",
      "_model_module_version": "1.2.0",
      "_model_name": "LayoutModel",
      "_view_count": null,
      "_view_module": "@jupyter-widgets/base",
      "_view_module_version": "1.2.0",
      "_view_name": "LayoutView",
      "align_content": null,
      "align_items": null,
      "align_self": null,
      "border": null,
      "bottom": null,
      "display": null,
      "flex": null,
      "flex_flow": null,
      "grid_area": null,
      "grid_auto_columns": null,
      "grid_auto_flow": null,
      "grid_auto_rows": null,
      "grid_column": null,
      "grid_gap": null,
      "grid_row": null,
      "grid_template_areas": null,
      "grid_template_columns": null,
      "grid_template_rows": null,
      "height": null,
      "justify_content": null,
      "justify_items": null,
      "left": null,
      "margin": null,
      "max_height": null,
      "max_width": null,
      "min_height": null,
      "min_width": null,
      "object_fit": null,
      "object_position": null,
      "order": null,
      "overflow": null,
      "overflow_x": null,
      "overflow_y": null,
      "padding": null,
      "right": null,
      "top": null,
      "visibility": null,
      "width": null
     }
    },
    "c9cd9bda94274a12b55596beca0b264c": {
     "model_module": "@jupyter-widgets/controls",
     "model_module_version": "1.5.0",
     "model_name": "DescriptionStyleModel",
     "state": {
      "_model_module": "@jupyter-widgets/controls",
      "_model_module_version": "1.5.0",
      "_model_name": "DescriptionStyleModel",
      "_view_count": null,
      "_view_module": "@jupyter-widgets/base",
      "_view_module_version": "1.2.0",
      "_view_name": "StyleView",
      "description_width": ""
     }
    },
    "cba98208295f410aaac84acff79d69f0": {
     "model_module": "@jupyter-widgets/controls",
     "model_module_version": "1.5.0",
     "model_name": "FloatProgressModel",
     "state": {
      "_dom_classes": [],
      "_model_module": "@jupyter-widgets/controls",
      "_model_module_version": "1.5.0",
      "_model_name": "FloatProgressModel",
      "_view_count": null,
      "_view_module": "@jupyter-widgets/controls",
      "_view_module_version": "1.5.0",
      "_view_name": "ProgressView",
      "bar_style": "success",
      "description": "",
      "description_tooltip": null,
      "layout": "IPY_MODEL_68c66de59546435389abc67388acf653",
      "max": 10,
      "min": 0,
      "orientation": "horizontal",
      "style": "IPY_MODEL_ab2a4d5d532745be87178d8b4e55882d",
      "value": 10
     }
    },
    "ccdfcd2d62be490fba4e63463af0f6c0": {
     "model_module": "@jupyter-widgets/base",
     "model_module_version": "1.2.0",
     "model_name": "LayoutModel",
     "state": {
      "_model_module": "@jupyter-widgets/base",
      "_model_module_version": "1.2.0",
      "_model_name": "LayoutModel",
      "_view_count": null,
      "_view_module": "@jupyter-widgets/base",
      "_view_module_version": "1.2.0",
      "_view_name": "LayoutView",
      "align_content": null,
      "align_items": null,
      "align_self": null,
      "border": null,
      "bottom": null,
      "display": null,
      "flex": null,
      "flex_flow": null,
      "grid_area": null,
      "grid_auto_columns": null,
      "grid_auto_flow": null,
      "grid_auto_rows": null,
      "grid_column": null,
      "grid_gap": null,
      "grid_row": null,
      "grid_template_areas": null,
      "grid_template_columns": null,
      "grid_template_rows": null,
      "height": null,
      "justify_content": null,
      "justify_items": null,
      "left": null,
      "margin": null,
      "max_height": null,
      "max_width": null,
      "min_height": null,
      "min_width": null,
      "object_fit": null,
      "object_position": null,
      "order": null,
      "overflow": null,
      "overflow_x": null,
      "overflow_y": null,
      "padding": null,
      "right": null,
      "top": null,
      "visibility": null,
      "width": null
     }
    },
    "cd88e7426fd6462fa5cf1080e9ab7882": {
     "model_module": "@jupyter-widgets/controls",
     "model_module_version": "1.5.0",
     "model_name": "HTMLModel",
     "state": {
      "_dom_classes": [],
      "_model_module": "@jupyter-widgets/controls",
      "_model_module_version": "1.5.0",
      "_model_name": "HTMLModel",
      "_view_count": null,
      "_view_module": "@jupyter-widgets/controls",
      "_view_module_version": "1.5.0",
      "_view_name": "HTMLView",
      "description": "",
      "description_tooltip": null,
      "layout": "IPY_MODEL_b5ddc809fb1e4da19bd1e3f4972d971d",
      "placeholder": "​",
      "style": "IPY_MODEL_83698c416813496192d1ae7de738af52",
      "value": " 10/10 [08:49&lt;00:00, 51.78s/it]"
     }
    },
    "d0bd0e1bfc8040b99a7ca1f2ca57f91f": {
     "model_module": "@jupyter-widgets/controls",
     "model_module_version": "1.5.0",
     "model_name": "HTMLModel",
     "state": {
      "_dom_classes": [],
      "_model_module": "@jupyter-widgets/controls",
      "_model_module_version": "1.5.0",
      "_model_name": "HTMLModel",
      "_view_count": null,
      "_view_module": "@jupyter-widgets/controls",
      "_view_module_version": "1.5.0",
      "_view_name": "HTMLView",
      "description": "",
      "description_tooltip": null,
      "layout": "IPY_MODEL_9ebb87425e1449cc89c93c0381f423c8",
      "placeholder": "​",
      "style": "IPY_MODEL_c9cd9bda94274a12b55596beca0b264c",
      "value": " 570/570 [00:00&lt;00:00, 14.4kB/s]"
     }
    },
    "d13d8408b6884fbe83d3a50b93a666d1": {
     "model_module": "@jupyter-widgets/controls",
     "model_module_version": "1.5.0",
     "model_name": "HTMLModel",
     "state": {
      "_dom_classes": [],
      "_model_module": "@jupyter-widgets/controls",
      "_model_module_version": "1.5.0",
      "_model_name": "HTMLModel",
      "_view_count": null,
      "_view_module": "@jupyter-widgets/controls",
      "_view_module_version": "1.5.0",
      "_view_name": "HTMLView",
      "description": "",
      "description_tooltip": null,
      "layout": "IPY_MODEL_b84936400c1848a48bff113259caf6a2",
      "placeholder": "​",
      "style": "IPY_MODEL_090ca9cd61d440f2ba7955c94a6dd282",
      "value": "Downloading (…)lve/main/config.json: 100%"
     }
    },
    "d4d97d4df69b4fc492add29edbc5b3b4": {
     "model_module": "@jupyter-widgets/controls",
     "model_module_version": "1.5.0",
     "model_name": "HTMLModel",
     "state": {
      "_dom_classes": [],
      "_model_module": "@jupyter-widgets/controls",
      "_model_module_version": "1.5.0",
      "_model_name": "HTMLModel",
      "_view_count": null,
      "_view_module": "@jupyter-widgets/controls",
      "_view_module_version": "1.5.0",
      "_view_name": "HTMLView",
      "description": "",
      "description_tooltip": null,
      "layout": "IPY_MODEL_ac6b154cbbb0415ea42c7b7346a6d394",
      "placeholder": "​",
      "style": "IPY_MODEL_f44a21e44a494438991207f66c35ad0d",
      "value": "100%"
     }
    },
    "d4f3492a5c6e4140926857a36d7087c6": {
     "model_module": "@jupyter-widgets/controls",
     "model_module_version": "1.5.0",
     "model_name": "HTMLModel",
     "state": {
      "_dom_classes": [],
      "_model_module": "@jupyter-widgets/controls",
      "_model_module_version": "1.5.0",
      "_model_name": "HTMLModel",
      "_view_count": null,
      "_view_module": "@jupyter-widgets/controls",
      "_view_module_version": "1.5.0",
      "_view_name": "HTMLView",
      "description": "",
      "description_tooltip": null,
      "layout": "IPY_MODEL_c6c79d8a146d4e9baf87c46c81c672cd",
      "placeholder": "​",
      "style": "IPY_MODEL_ec32c7f28a8b44ecb9296b00a755942c",
      "value": " 213k/213k [00:00&lt;00:00, 2.88MB/s]"
     }
    },
    "d7ac72ad382e4fb891c5c36d844981e5": {
     "model_module": "@jupyter-widgets/base",
     "model_module_version": "1.2.0",
     "model_name": "LayoutModel",
     "state": {
      "_model_module": "@jupyter-widgets/base",
      "_model_module_version": "1.2.0",
      "_model_name": "LayoutModel",
      "_view_count": null,
      "_view_module": "@jupyter-widgets/base",
      "_view_module_version": "1.2.0",
      "_view_name": "LayoutView",
      "align_content": null,
      "align_items": null,
      "align_self": null,
      "border": null,
      "bottom": null,
      "display": null,
      "flex": null,
      "flex_flow": null,
      "grid_area": null,
      "grid_auto_columns": null,
      "grid_auto_flow": null,
      "grid_auto_rows": null,
      "grid_column": null,
      "grid_gap": null,
      "grid_row": null,
      "grid_template_areas": null,
      "grid_template_columns": null,
      "grid_template_rows": null,
      "height": null,
      "justify_content": null,
      "justify_items": null,
      "left": null,
      "margin": null,
      "max_height": null,
      "max_width": null,
      "min_height": null,
      "min_width": null,
      "object_fit": null,
      "object_position": null,
      "order": null,
      "overflow": null,
      "overflow_x": null,
      "overflow_y": null,
      "padding": null,
      "right": null,
      "top": null,
      "visibility": null,
      "width": null
     }
    },
    "d8fcf953bc154380bd2b860df80d15bb": {
     "model_module": "@jupyter-widgets/base",
     "model_module_version": "1.2.0",
     "model_name": "LayoutModel",
     "state": {
      "_model_module": "@jupyter-widgets/base",
      "_model_module_version": "1.2.0",
      "_model_name": "LayoutModel",
      "_view_count": null,
      "_view_module": "@jupyter-widgets/base",
      "_view_module_version": "1.2.0",
      "_view_name": "LayoutView",
      "align_content": null,
      "align_items": null,
      "align_self": null,
      "border": null,
      "bottom": null,
      "display": null,
      "flex": null,
      "flex_flow": null,
      "grid_area": null,
      "grid_auto_columns": null,
      "grid_auto_flow": null,
      "grid_auto_rows": null,
      "grid_column": null,
      "grid_gap": null,
      "grid_row": null,
      "grid_template_areas": null,
      "grid_template_columns": null,
      "grid_template_rows": null,
      "height": null,
      "justify_content": null,
      "justify_items": null,
      "left": null,
      "margin": null,
      "max_height": null,
      "max_width": null,
      "min_height": null,
      "min_width": null,
      "object_fit": null,
      "object_position": null,
      "order": null,
      "overflow": null,
      "overflow_x": null,
      "overflow_y": null,
      "padding": null,
      "right": null,
      "top": null,
      "visibility": null,
      "width": null
     }
    },
    "dac89acd3a074af68f08079adb33cb77": {
     "model_module": "@jupyter-widgets/controls",
     "model_module_version": "1.5.0",
     "model_name": "HBoxModel",
     "state": {
      "_dom_classes": [],
      "_model_module": "@jupyter-widgets/controls",
      "_model_module_version": "1.5.0",
      "_model_name": "HBoxModel",
      "_view_count": null,
      "_view_module": "@jupyter-widgets/controls",
      "_view_module_version": "1.5.0",
      "_view_name": "HBoxView",
      "box_style": "",
      "children": [
       "IPY_MODEL_049fd83806c24d988a08311422e2f770",
       "IPY_MODEL_486904fe9ff241baba128d0263c63f84",
       "IPY_MODEL_4208c1ed1a0e4c9cae212f8acdc7992a"
      ],
      "layout": "IPY_MODEL_10106db75053437fab25321d0006e981"
     }
    },
    "e8cca5f9ef5042c9a710db18ad61cf79": {
     "model_module": "@jupyter-widgets/base",
     "model_module_version": "1.2.0",
     "model_name": "LayoutModel",
     "state": {
      "_model_module": "@jupyter-widgets/base",
      "_model_module_version": "1.2.0",
      "_model_name": "LayoutModel",
      "_view_count": null,
      "_view_module": "@jupyter-widgets/base",
      "_view_module_version": "1.2.0",
      "_view_name": "LayoutView",
      "align_content": null,
      "align_items": null,
      "align_self": null,
      "border": null,
      "bottom": null,
      "display": null,
      "flex": null,
      "flex_flow": null,
      "grid_area": null,
      "grid_auto_columns": null,
      "grid_auto_flow": null,
      "grid_auto_rows": null,
      "grid_column": null,
      "grid_gap": null,
      "grid_row": null,
      "grid_template_areas": null,
      "grid_template_columns": null,
      "grid_template_rows": null,
      "height": null,
      "justify_content": null,
      "justify_items": null,
      "left": null,
      "margin": null,
      "max_height": null,
      "max_width": null,
      "min_height": null,
      "min_width": null,
      "object_fit": null,
      "object_position": null,
      "order": null,
      "overflow": null,
      "overflow_x": null,
      "overflow_y": null,
      "padding": null,
      "right": null,
      "top": null,
      "visibility": null,
      "width": null
     }
    },
    "e9bbbc6ce1444a939d921286de40c9dc": {
     "model_module": "@jupyter-widgets/controls",
     "model_module_version": "1.5.0",
     "model_name": "HBoxModel",
     "state": {
      "_dom_classes": [],
      "_model_module": "@jupyter-widgets/controls",
      "_model_module_version": "1.5.0",
      "_model_name": "HBoxModel",
      "_view_count": null,
      "_view_module": "@jupyter-widgets/controls",
      "_view_module_version": "1.5.0",
      "_view_name": "HBoxView",
      "box_style": "",
      "children": [
       "IPY_MODEL_d4d97d4df69b4fc492add29edbc5b3b4",
       "IPY_MODEL_ec8645887c284099be9a0cca02056f60",
       "IPY_MODEL_f375d0f01d9b432ab36d59cd59f0b2a5"
      ],
      "layout": "IPY_MODEL_0a6e6108053146a1a163f17ddcbc5fec"
     }
    },
    "ec32c7f28a8b44ecb9296b00a755942c": {
     "model_module": "@jupyter-widgets/controls",
     "model_module_version": "1.5.0",
     "model_name": "DescriptionStyleModel",
     "state": {
      "_model_module": "@jupyter-widgets/controls",
      "_model_module_version": "1.5.0",
      "_model_name": "DescriptionStyleModel",
      "_view_count": null,
      "_view_module": "@jupyter-widgets/base",
      "_view_module_version": "1.2.0",
      "_view_name": "StyleView",
      "description_width": ""
     }
    },
    "ec8645887c284099be9a0cca02056f60": {
     "model_module": "@jupyter-widgets/controls",
     "model_module_version": "1.5.0",
     "model_name": "FloatProgressModel",
     "state": {
      "_dom_classes": [],
      "_model_module": "@jupyter-widgets/controls",
      "_model_module_version": "1.5.0",
      "_model_name": "FloatProgressModel",
      "_view_count": null,
      "_view_module": "@jupyter-widgets/controls",
      "_view_module_version": "1.5.0",
      "_view_name": "ProgressView",
      "bar_style": "success",
      "description": "",
      "description_tooltip": null,
      "layout": "IPY_MODEL_495e24f1f05b453eba18df298b5a26f3",
      "max": 5,
      "min": 0,
      "orientation": "horizontal",
      "style": "IPY_MODEL_fbd6b55df6824ba189374d7a504b48d7",
      "value": 5
     }
    },
    "f375d0f01d9b432ab36d59cd59f0b2a5": {
     "model_module": "@jupyter-widgets/controls",
     "model_module_version": "1.5.0",
     "model_name": "HTMLModel",
     "state": {
      "_dom_classes": [],
      "_model_module": "@jupyter-widgets/controls",
      "_model_module_version": "1.5.0",
      "_model_name": "HTMLModel",
      "_view_count": null,
      "_view_module": "@jupyter-widgets/controls",
      "_view_module_version": "1.5.0",
      "_view_name": "HTMLView",
      "description": "",
      "description_tooltip": null,
      "layout": "IPY_MODEL_bf6a74a998e7423980cfcbf35e84f300",
      "placeholder": "​",
      "style": "IPY_MODEL_41963726877d430382a6e4d0cdbaf3a0",
      "value": " 5/5 [01:07&lt;00:00, 13.42s/it]"
     }
    },
    "f44a21e44a494438991207f66c35ad0d": {
     "model_module": "@jupyter-widgets/controls",
     "model_module_version": "1.5.0",
     "model_name": "DescriptionStyleModel",
     "state": {
      "_model_module": "@jupyter-widgets/controls",
      "_model_module_version": "1.5.0",
      "_model_name": "DescriptionStyleModel",
      "_view_count": null,
      "_view_module": "@jupyter-widgets/base",
      "_view_module_version": "1.2.0",
      "_view_name": "StyleView",
      "description_width": ""
     }
    },
    "f53fd45708c74b48b6c3dc5603556b9b": {
     "model_module": "@jupyter-widgets/controls",
     "model_module_version": "1.5.0",
     "model_name": "DescriptionStyleModel",
     "state": {
      "_model_module": "@jupyter-widgets/controls",
      "_model_module_version": "1.5.0",
      "_model_name": "DescriptionStyleModel",
      "_view_count": null,
      "_view_module": "@jupyter-widgets/base",
      "_view_module_version": "1.2.0",
      "_view_name": "StyleView",
      "description_width": ""
     }
    },
    "f619758ded7046a09e89144c597091f8": {
     "model_module": "@jupyter-widgets/controls",
     "model_module_version": "1.5.0",
     "model_name": "HTMLModel",
     "state": {
      "_dom_classes": [],
      "_model_module": "@jupyter-widgets/controls",
      "_model_module_version": "1.5.0",
      "_model_name": "HTMLModel",
      "_view_count": null,
      "_view_module": "@jupyter-widgets/controls",
      "_view_module_version": "1.5.0",
      "_view_name": "HTMLView",
      "description": "",
      "description_tooltip": null,
      "layout": "IPY_MODEL_371053cee8db4840957f48850c18a3f5",
      "placeholder": "​",
      "style": "IPY_MODEL_45c5aabea922489c945036d0929e25e0",
      "value": "Downloading (…)okenizer_config.json: 100%"
     }
    },
    "f6c42e675a15437e93325f8abd33dbd1": {
     "model_module": "@jupyter-widgets/base",
     "model_module_version": "1.2.0",
     "model_name": "LayoutModel",
     "state": {
      "_model_module": "@jupyter-widgets/base",
      "_model_module_version": "1.2.0",
      "_model_name": "LayoutModel",
      "_view_count": null,
      "_view_module": "@jupyter-widgets/base",
      "_view_module_version": "1.2.0",
      "_view_name": "LayoutView",
      "align_content": null,
      "align_items": null,
      "align_self": null,
      "border": null,
      "bottom": null,
      "display": null,
      "flex": null,
      "flex_flow": null,
      "grid_area": null,
      "grid_auto_columns": null,
      "grid_auto_flow": null,
      "grid_auto_rows": null,
      "grid_column": null,
      "grid_gap": null,
      "grid_row": null,
      "grid_template_areas": null,
      "grid_template_columns": null,
      "grid_template_rows": null,
      "height": null,
      "justify_content": null,
      "justify_items": null,
      "left": null,
      "margin": null,
      "max_height": null,
      "max_width": null,
      "min_height": null,
      "min_width": null,
      "object_fit": null,
      "object_position": null,
      "order": null,
      "overflow": null,
      "overflow_x": null,
      "overflow_y": null,
      "padding": null,
      "right": null,
      "top": null,
      "visibility": null,
      "width": null
     }
    },
    "f8032aa1cf1a463ba18c799c04c6bd38": {
     "model_module": "@jupyter-widgets/controls",
     "model_module_version": "1.5.0",
     "model_name": "HTMLModel",
     "state": {
      "_dom_classes": [],
      "_model_module": "@jupyter-widgets/controls",
      "_model_module_version": "1.5.0",
      "_model_name": "HTMLModel",
      "_view_count": null,
      "_view_module": "@jupyter-widgets/controls",
      "_view_module_version": "1.5.0",
      "_view_name": "HTMLView",
      "description": "",
      "description_tooltip": null,
      "layout": "IPY_MODEL_82aa0fa594484af3ae7c25c91f2cb45d",
      "placeholder": "​",
      "style": "IPY_MODEL_1cd4e3611c2e40088d7f5480fb41108f",
      "value": "100%"
     }
    },
    "f93be7279627459c84dfe5fe5fd0c99c": {
     "model_module": "@jupyter-widgets/controls",
     "model_module_version": "1.5.0",
     "model_name": "ProgressStyleModel",
     "state": {
      "_model_module": "@jupyter-widgets/controls",
      "_model_module_version": "1.5.0",
      "_model_name": "ProgressStyleModel",
      "_view_count": null,
      "_view_module": "@jupyter-widgets/base",
      "_view_module_version": "1.2.0",
      "_view_name": "StyleView",
      "bar_color": null,
      "description_width": ""
     }
    },
    "fbd6b55df6824ba189374d7a504b48d7": {
     "model_module": "@jupyter-widgets/controls",
     "model_module_version": "1.5.0",
     "model_name": "ProgressStyleModel",
     "state": {
      "_model_module": "@jupyter-widgets/controls",
      "_model_module_version": "1.5.0",
      "_model_name": "ProgressStyleModel",
      "_view_count": null,
      "_view_module": "@jupyter-widgets/base",
      "_view_module_version": "1.2.0",
      "_view_name": "StyleView",
      "bar_color": null,
      "description_width": ""
     }
    }
   }
  }
 },
 "nbformat": 4,
 "nbformat_minor": 4
}
