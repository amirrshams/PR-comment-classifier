{
 "cells": [
  {
   "attachments": {},
   "cell_type": "markdown",
   "metadata": {},
   "source": [
    "In this body of work, i will try to categorize about 400k non-merged pull requests.\n",
    "First, we need to import the libraries."
   ]
  },
  {
   "cell_type": "code",
   "execution_count": 1,
   "metadata": {},
   "outputs": [],
   "source": [
    "from transformers import AutoTokenizer, AutoModelForMaskedLM, BertTokenizer, BertModel, AdamW, get_linear_schedule_with_warmup\n",
    "import pandas as pd\n",
    "import torch\n",
    "import torch.nn as nn\n",
    "from torch.utils.data import Dataset, DataLoader\n",
    "import numpy as np\n",
    "\n",
    "from sklearn.model_selection import train_test_split\n",
    "from sklearn.metrics import classification_report, multilabel_confusion_matrix\n",
    "from sklearn.preprocessing import LabelEncoder\n",
    "\n",
    "import re\n",
    "import ast\n",
    "pd.set_option('display.max_columns', None)\n",
    "import matplotlib.pyplot as plt\n",
    "import seaborn as sns\n",
    "\n",
    "import pytorch_lightning as pl\n",
    "from torchmetrics.functional import accuracy, f1_score, auroc\n",
    "from pytorch_lightning.callbacks import ModelCheckpoint, EarlyStopping\n",
    "from pytorch_lightning.loggers import TensorBoardLogger\n",
    "from sklearn.metrics import accuracy_score\n",
    "\n",
    "\n",
    "from tqdm.auto import tqdm\n"
   ]
  },
  {
   "cell_type": "code",
   "execution_count": 3,
   "metadata": {},
   "outputs": [],
   "source": [
    "#reading the data\n",
    "df = pd.read_csv('/Users/amirrshams/Library/CloudStorage/OneDrive-UniversityofWaterloo/Thesis/Dataset/Dataset/Non_Merged/Sample/Sample_2_500_manual.csv')"
   ]
  },
  {
   "cell_type": "code",
   "execution_count": 4,
   "metadata": {},
   "outputs": [
    {
     "data": {
      "text/html": [
       "<div>\n",
       "<style scoped>\n",
       "    .dataframe tbody tr th:only-of-type {\n",
       "        vertical-align: middle;\n",
       "    }\n",
       "\n",
       "    .dataframe tbody tr th {\n",
       "        vertical-align: top;\n",
       "    }\n",
       "\n",
       "    .dataframe thead th {\n",
       "        text-align: right;\n",
       "    }\n",
       "</style>\n",
       "<table border=\"1\" class=\"dataframe\">\n",
       "  <thead>\n",
       "    <tr style=\"text-align: right;\">\n",
       "      <th></th>\n",
       "      <th>Unnamed: 0</th>\n",
       "      <th>repo_id</th>\n",
       "      <th>status</th>\n",
       "      <th>pr_id</th>\n",
       "      <th>pullreq_id</th>\n",
       "      <th>api_url</th>\n",
       "      <th>url</th>\n",
       "      <th>pr_url</th>\n",
       "      <th>pr_api_url</th>\n",
       "      <th>author_id</th>\n",
       "      <th>author_desc_body</th>\n",
       "      <th>closer_id</th>\n",
       "      <th>comments_counts</th>\n",
       "      <th>comments</th>\n",
       "      <th>commit_counts</th>\n",
       "      <th>code_changes_counts</th>\n",
       "      <th>created_at</th>\n",
       "      <th>closed_at</th>\n",
       "      <th>author_country</th>\n",
       "      <th>closer_country</th>\n",
       "      <th>author_continent</th>\n",
       "      <th>same_country</th>\n",
       "      <th>author_eth</th>\n",
       "      <th>closer_eth</th>\n",
       "      <th>same_eth</th>\n",
       "      <th>prs_white</th>\n",
       "      <th>prs_api</th>\n",
       "      <th>prs_black</th>\n",
       "      <th>prs_hispanic</th>\n",
       "      <th>pri_white</th>\n",
       "      <th>pri_black</th>\n",
       "      <th>pri_api</th>\n",
       "      <th>pri_hispanic</th>\n",
       "      <th>prs_eth_8</th>\n",
       "      <th>prs_eth_7</th>\n",
       "      <th>prs_eth_9</th>\n",
       "      <th>prs_eth_diff</th>\n",
       "      <th>prs_eth_diff_2</th>\n",
       "      <th>manual_analysis</th>\n",
       "      <th>Notes</th>\n",
       "      <th>Keyword</th>\n",
       "    </tr>\n",
       "  </thead>\n",
       "  <tbody>\n",
       "    <tr>\n",
       "      <th>0</th>\n",
       "      <td>42465</td>\n",
       "      <td>634</td>\n",
       "      <td>not-merged</td>\n",
       "      <td>1709840</td>\n",
       "      <td>8432</td>\n",
       "      <td>https://api.github.com/repos/symfony/symfony</td>\n",
       "      <td>https://github.com/symfony/symfony</td>\n",
       "      <td>https://github.com/symfony/symfony/pull/8432</td>\n",
       "      <td>https://api.github.com/repos/symfony/symfony/p...</td>\n",
       "      <td>entering</td>\n",
       "      <td>| Q | A |\\n| --- | --- |\\n| Bug fix? | no |\\n|...</td>\n",
       "      <td>NaN</td>\n",
       "      <td>3</td>\n",
       "      <td>['@entering why did you add the original tab?\\...</td>\n",
       "      <td>3</td>\n",
       "      <td>1</td>\n",
       "      <td>2013-07-07T10:21:21Z</td>\n",
       "      <td>2013-07-07T15:48:42Z</td>\n",
       "      <td>germany</td>\n",
       "      <td>france</td>\n",
       "      <td>Europe</td>\n",
       "      <td>0</td>\n",
       "      <td>Unknown</td>\n",
       "      <td>White</td>\n",
       "      <td>0</td>\n",
       "      <td>0.583243</td>\n",
       "      <td>0.016764</td>\n",
       "      <td>0.001686</td>\n",
       "      <td>0.388724</td>\n",
       "      <td>0.958822</td>\n",
       "      <td>0.015781</td>\n",
       "      <td>0.005251</td>\n",
       "      <td>0.019089</td>\n",
       "      <td>Unknown</td>\n",
       "      <td>Unknown</td>\n",
       "      <td>Unknown</td>\n",
       "      <td>Unknown</td>\n",
       "      <td>Unknown</td>\n",
       "      <td>No reason</td>\n",
       "      <td>no keyword here, by looking at the history it ...</td>\n",
       "      <td>NaN</td>\n",
       "    </tr>\n",
       "    <tr>\n",
       "      <th>1</th>\n",
       "      <td>741644</td>\n",
       "      <td>41674</td>\n",
       "      <td>not-merged</td>\n",
       "      <td>364962</td>\n",
       "      <td>8</td>\n",
       "      <td>https://api.github.com/repos/Barbatos/ioq3-for...</td>\n",
       "      <td>https://github.com/Barbatos/ioq3-for-UrbanTerr...</td>\n",
       "      <td>https://github.com/Barbatos/ioq3-for-UrbanTerr...</td>\n",
       "      <td>https://api.github.com/repos/Barbatos/ioq3-for...</td>\n",
       "      <td>ghostmod</td>\n",
       "      <td>Additions Private bigText control, Additions t...</td>\n",
       "      <td>NaN</td>\n",
       "      <td>1</td>\n",
       "      <td>['Thank you for the pull request. We would lik...</td>\n",
       "      <td>7</td>\n",
       "      <td>5</td>\n",
       "      <td>2012-09-10T11:29:56Z</td>\n",
       "      <td>2012-10-14T14:11:22Z</td>\n",
       "      <td>united states</td>\n",
       "      <td>united states</td>\n",
       "      <td>North America</td>\n",
       "      <td>1</td>\n",
       "      <td>Unknown</td>\n",
       "      <td>White</td>\n",
       "      <td>0</td>\n",
       "      <td>0.891456</td>\n",
       "      <td>0.016254</td>\n",
       "      <td>0.036790</td>\n",
       "      <td>0.055501</td>\n",
       "      <td>0.998299</td>\n",
       "      <td>0.000572</td>\n",
       "      <td>0.000146</td>\n",
       "      <td>0.000951</td>\n",
       "      <td>Unknown</td>\n",
       "      <td>White</td>\n",
       "      <td>Unknown</td>\n",
       "      <td>White</td>\n",
       "      <td>White</td>\n",
       "      <td>Unnecessary</td>\n",
       "      <td>NaN</td>\n",
       "      <td>\"Decided not to integrate\"</td>\n",
       "    </tr>\n",
       "    <tr>\n",
       "      <th>2</th>\n",
       "      <td>1937105</td>\n",
       "      <td>7704341</td>\n",
       "      <td>not-merged</td>\n",
       "      <td>8714711</td>\n",
       "      <td>3120</td>\n",
       "      <td>https://api.github.com/repos/neovim/neovim</td>\n",
       "      <td>https://github.com/neovim/neovim</td>\n",
       "      <td>https://github.com/neovim/neovim/pull/3120</td>\n",
       "      <td>https://api.github.com/repos/neovim/neovim/pul...</td>\n",
       "      <td>Yamakaky</td>\n",
       "      <td>This PR is meant to bring XDG support to neovi...</td>\n",
       "      <td>NaN</td>\n",
       "      <td>35</td>\n",
       "      <td>['The [tmp] commit will be squashed before mer...</td>\n",
       "      <td>15</td>\n",
       "      <td>2</td>\n",
       "      <td>2015-07-31T15:03:00Z</td>\n",
       "      <td>2015-08-19T18:07:40Z</td>\n",
       "      <td>france</td>\n",
       "      <td>\\N</td>\n",
       "      <td>Europe</td>\n",
       "      <td>0</td>\n",
       "      <td>White</td>\n",
       "      <td>White</td>\n",
       "      <td>1</td>\n",
       "      <td>0.884086</td>\n",
       "      <td>0.059685</td>\n",
       "      <td>0.035040</td>\n",
       "      <td>0.021189</td>\n",
       "      <td>0.929338</td>\n",
       "      <td>0.063018</td>\n",
       "      <td>0.001640</td>\n",
       "      <td>0.003318</td>\n",
       "      <td>White</td>\n",
       "      <td>White</td>\n",
       "      <td>Unknown</td>\n",
       "      <td>White</td>\n",
       "      <td>White</td>\n",
       "      <td>Replaced</td>\n",
       "      <td>NaN</td>\n",
       "      <td>NaN</td>\n",
       "    </tr>\n",
       "    <tr>\n",
       "      <th>3</th>\n",
       "      <td>1426992</td>\n",
       "      <td>2855187</td>\n",
       "      <td>not-merged</td>\n",
       "      <td>4176486</td>\n",
       "      <td>7</td>\n",
       "      <td>https://api.github.com/repos/boostorg/interpro...</td>\n",
       "      <td>https://github.com/boostorg/interprocess</td>\n",
       "      <td>https://github.com/boostorg/interprocess/pull/7</td>\n",
       "      <td>https://api.github.com/repos/boostorg/interpro...</td>\n",
       "      <td>ismirlian</td>\n",
       "      <td>Having a variable named hz conflicts with the ...</td>\n",
       "      <td>NaN</td>\n",
       "      <td>1</td>\n",
       "      <td>['Renamed the variable to \"ticks_per_second\" i...</td>\n",
       "      <td>1</td>\n",
       "      <td>1</td>\n",
       "      <td>2014-07-16T21:33:07Z</td>\n",
       "      <td>2014-07-30T14:42:33Z</td>\n",
       "      <td>\\N</td>\n",
       "      <td>\\N</td>\n",
       "      <td>\\N</td>\n",
       "      <td>0</td>\n",
       "      <td>Unknown</td>\n",
       "      <td>White</td>\n",
       "      <td>0</td>\n",
       "      <td>0.893650</td>\n",
       "      <td>0.018823</td>\n",
       "      <td>0.030366</td>\n",
       "      <td>0.055919</td>\n",
       "      <td>0.950273</td>\n",
       "      <td>0.000591</td>\n",
       "      <td>0.001511</td>\n",
       "      <td>0.047625</td>\n",
       "      <td>Unknown</td>\n",
       "      <td>White</td>\n",
       "      <td>Unknown</td>\n",
       "      <td>White</td>\n",
       "      <td>White</td>\n",
       "      <td>Merge Conflict</td>\n",
       "      <td>NaN</td>\n",
       "      <td>NaN</td>\n",
       "    </tr>\n",
       "    <tr>\n",
       "      <th>4</th>\n",
       "      <td>179674</td>\n",
       "      <td>1958</td>\n",
       "      <td>not-merged</td>\n",
       "      <td>5391718</td>\n",
       "      <td>3111</td>\n",
       "      <td>https://api.github.com/repos/infinispan/infini...</td>\n",
       "      <td>https://github.com/infinispan/infinispan</td>\n",
       "      <td>https://github.com/infinispan/infinispan/pull/...</td>\n",
       "      <td>https://api.github.com/repos/infinispan/infini...</td>\n",
       "      <td>galderz</td>\n",
       "      <td>https://issues.jboss.org/browse/ISPN-5029\\n</td>\n",
       "      <td>NaN</td>\n",
       "      <td>3</td>\n",
       "      <td>['```\\n[17:57:54][ERROR] /.../persistence/jdbc...</td>\n",
       "      <td>1</td>\n",
       "      <td>19</td>\n",
       "      <td>2014-11-27T13:56:53Z</td>\n",
       "      <td>2014-12-09T13:49:44Z</td>\n",
       "      <td>switzerland</td>\n",
       "      <td>italy</td>\n",
       "      <td>Europe</td>\n",
       "      <td>0</td>\n",
       "      <td>Unknown</td>\n",
       "      <td>Unknown</td>\n",
       "      <td>0</td>\n",
       "      <td>0.417943</td>\n",
       "      <td>0.020143</td>\n",
       "      <td>0.017398</td>\n",
       "      <td>0.543187</td>\n",
       "      <td>0.931777</td>\n",
       "      <td>0.049968</td>\n",
       "      <td>0.011553</td>\n",
       "      <td>0.004525</td>\n",
       "      <td>Unknown</td>\n",
       "      <td>Unknown</td>\n",
       "      <td>Unknown</td>\n",
       "      <td>Unknown</td>\n",
       "      <td>Unknown</td>\n",
       "      <td>Successful</td>\n",
       "      <td>NaN</td>\n",
       "      <td>NaN</td>\n",
       "    </tr>\n",
       "  </tbody>\n",
       "</table>\n",
       "</div>"
      ],
      "text/plain": [
       "   Unnamed: 0  repo_id      status    pr_id  pullreq_id   \n",
       "0       42465      634  not-merged  1709840        8432  \\\n",
       "1      741644    41674  not-merged   364962           8   \n",
       "2     1937105  7704341  not-merged  8714711        3120   \n",
       "3     1426992  2855187  not-merged  4176486           7   \n",
       "4      179674     1958  not-merged  5391718        3111   \n",
       "\n",
       "                                             api_url   \n",
       "0       https://api.github.com/repos/symfony/symfony  \\\n",
       "1  https://api.github.com/repos/Barbatos/ioq3-for...   \n",
       "2         https://api.github.com/repos/neovim/neovim   \n",
       "3  https://api.github.com/repos/boostorg/interpro...   \n",
       "4  https://api.github.com/repos/infinispan/infini...   \n",
       "\n",
       "                                                 url   \n",
       "0                 https://github.com/symfony/symfony  \\\n",
       "1  https://github.com/Barbatos/ioq3-for-UrbanTerr...   \n",
       "2                   https://github.com/neovim/neovim   \n",
       "3           https://github.com/boostorg/interprocess   \n",
       "4           https://github.com/infinispan/infinispan   \n",
       "\n",
       "                                              pr_url   \n",
       "0       https://github.com/symfony/symfony/pull/8432  \\\n",
       "1  https://github.com/Barbatos/ioq3-for-UrbanTerr...   \n",
       "2         https://github.com/neovim/neovim/pull/3120   \n",
       "3    https://github.com/boostorg/interprocess/pull/7   \n",
       "4  https://github.com/infinispan/infinispan/pull/...   \n",
       "\n",
       "                                          pr_api_url  author_id   \n",
       "0  https://api.github.com/repos/symfony/symfony/p...   entering  \\\n",
       "1  https://api.github.com/repos/Barbatos/ioq3-for...   ghostmod   \n",
       "2  https://api.github.com/repos/neovim/neovim/pul...   Yamakaky   \n",
       "3  https://api.github.com/repos/boostorg/interpro...  ismirlian   \n",
       "4  https://api.github.com/repos/infinispan/infini...    galderz   \n",
       "\n",
       "                                    author_desc_body  closer_id   \n",
       "0  | Q | A |\\n| --- | --- |\\n| Bug fix? | no |\\n|...        NaN  \\\n",
       "1  Additions Private bigText control, Additions t...        NaN   \n",
       "2  This PR is meant to bring XDG support to neovi...        NaN   \n",
       "3  Having a variable named hz conflicts with the ...        NaN   \n",
       "4        https://issues.jboss.org/browse/ISPN-5029\\n        NaN   \n",
       "\n",
       "   comments_counts                                           comments   \n",
       "0                3  ['@entering why did you add the original tab?\\...  \\\n",
       "1                1  ['Thank you for the pull request. We would lik...   \n",
       "2               35  ['The [tmp] commit will be squashed before mer...   \n",
       "3                1  ['Renamed the variable to \"ticks_per_second\" i...   \n",
       "4                3  ['```\\n[17:57:54][ERROR] /.../persistence/jdbc...   \n",
       "\n",
       "   commit_counts  code_changes_counts            created_at   \n",
       "0              3                    1  2013-07-07T10:21:21Z  \\\n",
       "1              7                    5  2012-09-10T11:29:56Z   \n",
       "2             15                    2  2015-07-31T15:03:00Z   \n",
       "3              1                    1  2014-07-16T21:33:07Z   \n",
       "4              1                   19  2014-11-27T13:56:53Z   \n",
       "\n",
       "              closed_at author_country closer_country author_continent   \n",
       "0  2013-07-07T15:48:42Z        germany         france           Europe  \\\n",
       "1  2012-10-14T14:11:22Z  united states  united states    North America   \n",
       "2  2015-08-19T18:07:40Z         france             \\N           Europe   \n",
       "3  2014-07-30T14:42:33Z             \\N             \\N               \\N   \n",
       "4  2014-12-09T13:49:44Z    switzerland          italy           Europe   \n",
       "\n",
       "   same_country author_eth closer_eth  same_eth  prs_white   prs_api   \n",
       "0             0    Unknown      White         0   0.583243  0.016764  \\\n",
       "1             1    Unknown      White         0   0.891456  0.016254   \n",
       "2             0      White      White         1   0.884086  0.059685   \n",
       "3             0    Unknown      White         0   0.893650  0.018823   \n",
       "4             0    Unknown    Unknown         0   0.417943  0.020143   \n",
       "\n",
       "   prs_black  prs_hispanic  pri_white  pri_black   pri_api  pri_hispanic   \n",
       "0   0.001686      0.388724   0.958822   0.015781  0.005251      0.019089  \\\n",
       "1   0.036790      0.055501   0.998299   0.000572  0.000146      0.000951   \n",
       "2   0.035040      0.021189   0.929338   0.063018  0.001640      0.003318   \n",
       "3   0.030366      0.055919   0.950273   0.000591  0.001511      0.047625   \n",
       "4   0.017398      0.543187   0.931777   0.049968  0.011553      0.004525   \n",
       "\n",
       "  prs_eth_8 prs_eth_7 prs_eth_9 prs_eth_diff prs_eth_diff_2 manual_analysis   \n",
       "0   Unknown   Unknown   Unknown      Unknown        Unknown       No reason  \\\n",
       "1   Unknown     White   Unknown        White          White     Unnecessary   \n",
       "2     White     White   Unknown        White          White        Replaced   \n",
       "3   Unknown     White   Unknown        White          White  Merge Conflict   \n",
       "4   Unknown   Unknown   Unknown      Unknown        Unknown      Successful   \n",
       "\n",
       "                                               Notes   \n",
       "0  no keyword here, by looking at the history it ...  \\\n",
       "1                                                NaN   \n",
       "2                                                NaN   \n",
       "3                                                NaN   \n",
       "4                                                NaN   \n",
       "\n",
       "                      Keyword  \n",
       "0                         NaN  \n",
       "1  \"Decided not to integrate\"  \n",
       "2                         NaN  \n",
       "3                         NaN  \n",
       "4                         NaN  "
      ]
     },
     "execution_count": 4,
     "metadata": {},
     "output_type": "execute_result"
    }
   ],
   "source": [
    "df.head()"
   ]
  },
  {
   "cell_type": "code",
   "execution_count": 4,
   "metadata": {},
   "outputs": [],
   "source": [
    "#drop some of the columns\n",
    "df = df.drop(['api_url', ' url', 'pr_url', 'pr_api_url', 'author_id', 'author_desc_body', 'closer_id','commit_counts', 'code_changes_counts', 'created_at', 'closed_at', 'author_country', 'author_continent', 'same_country', 'author_eth', 'closer_eth','closer_country', 'same_eth', 'prs_white', 'prs_black', 'prs_api', 'prs_hispanic', 'pri_white', 'pri_black', 'pri_api', 'pri_hispanic', 'prs_eth_7', 'prs_eth_8', 'prs_eth_9', 'prs_eth_diff', 'prs_eth_diff_2', 'Keyword', 'Notes'], axis=1)"
   ]
  },
  {
   "cell_type": "code",
   "execution_count": 5,
   "metadata": {},
   "outputs": [
    {
     "data": {
      "text/html": [
       "<div>\n",
       "<style scoped>\n",
       "    .dataframe tbody tr th:only-of-type {\n",
       "        vertical-align: middle;\n",
       "    }\n",
       "\n",
       "    .dataframe tbody tr th {\n",
       "        vertical-align: top;\n",
       "    }\n",
       "\n",
       "    .dataframe thead th {\n",
       "        text-align: right;\n",
       "    }\n",
       "</style>\n",
       "<table border=\"1\" class=\"dataframe\">\n",
       "  <thead>\n",
       "    <tr style=\"text-align: right;\">\n",
       "      <th></th>\n",
       "      <th>Unnamed: 0</th>\n",
       "      <th>repo_id</th>\n",
       "      <th>status</th>\n",
       "      <th>pr_id</th>\n",
       "      <th>pullreq_id</th>\n",
       "      <th>comments_counts</th>\n",
       "      <th>comments</th>\n",
       "      <th>manual_analysis</th>\n",
       "    </tr>\n",
       "  </thead>\n",
       "  <tbody>\n",
       "    <tr>\n",
       "      <th>0</th>\n",
       "      <td>42465</td>\n",
       "      <td>634</td>\n",
       "      <td>not-merged</td>\n",
       "      <td>1709840</td>\n",
       "      <td>8432</td>\n",
       "      <td>3</td>\n",
       "      <td>['@entering why did you add the original tab?\\...</td>\n",
       "      <td>No reason</td>\n",
       "    </tr>\n",
       "    <tr>\n",
       "      <th>1</th>\n",
       "      <td>741644</td>\n",
       "      <td>41674</td>\n",
       "      <td>not-merged</td>\n",
       "      <td>364962</td>\n",
       "      <td>8</td>\n",
       "      <td>1</td>\n",
       "      <td>['Thank you for the pull request. We would lik...</td>\n",
       "      <td>Unnecessary</td>\n",
       "    </tr>\n",
       "    <tr>\n",
       "      <th>2</th>\n",
       "      <td>1937105</td>\n",
       "      <td>7704341</td>\n",
       "      <td>not-merged</td>\n",
       "      <td>8714711</td>\n",
       "      <td>3120</td>\n",
       "      <td>35</td>\n",
       "      <td>['The [tmp] commit will be squashed before mer...</td>\n",
       "      <td>Replaced</td>\n",
       "    </tr>\n",
       "    <tr>\n",
       "      <th>3</th>\n",
       "      <td>1426992</td>\n",
       "      <td>2855187</td>\n",
       "      <td>not-merged</td>\n",
       "      <td>4176486</td>\n",
       "      <td>7</td>\n",
       "      <td>1</td>\n",
       "      <td>['Renamed the variable to \"ticks_per_second\" i...</td>\n",
       "      <td>Merge Conflict</td>\n",
       "    </tr>\n",
       "    <tr>\n",
       "      <th>4</th>\n",
       "      <td>179674</td>\n",
       "      <td>1958</td>\n",
       "      <td>not-merged</td>\n",
       "      <td>5391718</td>\n",
       "      <td>3111</td>\n",
       "      <td>3</td>\n",
       "      <td>['```\\n[17:57:54][ERROR] /.../persistence/jdbc...</td>\n",
       "      <td>Successful</td>\n",
       "    </tr>\n",
       "  </tbody>\n",
       "</table>\n",
       "</div>"
      ],
      "text/plain": [
       "   Unnamed: 0  repo_id      status    pr_id  pullreq_id  comments_counts   \n",
       "0       42465      634  not-merged  1709840        8432                3  \\\n",
       "1      741644    41674  not-merged   364962           8                1   \n",
       "2     1937105  7704341  not-merged  8714711        3120               35   \n",
       "3     1426992  2855187  not-merged  4176486           7                1   \n",
       "4      179674     1958  not-merged  5391718        3111                3   \n",
       "\n",
       "                                            comments manual_analysis  \n",
       "0  ['@entering why did you add the original tab?\\...       No reason  \n",
       "1  ['Thank you for the pull request. We would lik...     Unnecessary  \n",
       "2  ['The [tmp] commit will be squashed before mer...        Replaced  \n",
       "3  ['Renamed the variable to \"ticks_per_second\" i...  Merge Conflict  \n",
       "4  ['```\\n[17:57:54][ERROR] /.../persistence/jdbc...      Successful  "
      ]
     },
     "execution_count": 5,
     "metadata": {},
     "output_type": "execute_result"
    }
   ],
   "source": [
    "df.head()"
   ]
  },
  {
   "cell_type": "code",
   "execution_count": 6,
   "metadata": {},
   "outputs": [
    {
     "data": {
      "text/plain": [
       "array(['No reason', 'Unnecessary', 'Replaced', 'Merge Conflict',\n",
       "       'Successful', 'Stale', 'Resolved', 'Quality', 'Duplicate',\n",
       "       'Chaotic'], dtype=object)"
      ]
     },
     "execution_count": 6,
     "metadata": {},
     "output_type": "execute_result"
    }
   ],
   "source": [
    "df['manual_analysis'].unique()"
   ]
  },
  {
   "cell_type": "code",
   "execution_count": 7,
   "metadata": {},
   "outputs": [
    {
     "data": {
      "text/plain": [
       "<Axes: xlabel='manual_analysis'>"
      ]
     },
     "execution_count": 7,
     "metadata": {},
     "output_type": "execute_result"
    },
    {
     "data": {
      "image/png": "[encoded data removed]",
      "text/plain": [
       "<Figure size 640x480 with 1 Axes>"
      ]
     },
     "metadata": {},
     "output_type": "display_data"
    }
   ],
   "source": [
    "labels = df['manual_analysis']\n",
    "labels.value_counts().plot(kind='bar')"
   ]
  },
  {
   "attachments": {},
   "cell_type": "markdown",
   "metadata": {},
   "source": [
    "### cleaning the comments texts"
   ]
  },
  {
   "cell_type": "code",
   "execution_count": 8,
   "metadata": {},
   "outputs": [],
   "source": [
    "def text_preprocess(text):\n",
    "    text = re.sub(r'@[A-Za-z0-9]+','',text) #remove @mentions\n",
    "    text = re.sub(r'#','',text) #remove # symbol\n",
    "    text = re.sub(r'https?:\\/\\/\\S+','',text) #remove the hyper link\n",
    "    text = re.sub(r'\\n','',text) #remove \\n\n",
    "    text = re.sub(r'www\\S+', '', text) #remove www\n",
    "    return text\n",
    "df['comments'] = df['comments'].apply(lambda x: ast.literal_eval(x))\n",
    "df['comments'] = df['comments'].apply(lambda x: [text_preprocess(t) for t in x])\n",
    "df['comments'] = df['comments'].apply(lambda x: ' '.join(x))\n",
    "df['comments'] = df['comments'].apply(lambda x: x if len(x) > 0 else '[No comments]')"
   ]
  },
  {
   "cell_type": "code",
   "execution_count": 9,
   "metadata": {},
   "outputs": [
    {
     "name": "stdout",
     "output_type": "stream",
     "text": [
      "The [tmp] commit will be squashed before merge. I think nvim should still fallback on ~/.nvim/nvimrc and then ~/.nvimrc. How does this handle that? Let's just get everyone up to speed on what `XDG_RUNTIME_DIR` is and what the requirements on it are:- Used for non-essential, user-specific data files such as sockets, named pipes, etc.- Defaults to nothing, warnings should be issued if not set or equivalents provided.- Must be owned by the user.- Access mode must be `0700`.- Filesystem fully featured by standards of OS.- Must be on the local filesystem.- May be subject to periodic cleanup.- Modified every 6 hours or set sticky bit if persistence is desired.- Can only exist for the duration of the user's login.- Shouldn't store large files as it may be mounted as a tmpfs.Generally you don't create this directory, something like logind would.  However if you do not use logind, you have to create it with the requirements listed above.  Why do you think so? NeoVim is still not stable so it does not need to have backward compatibility with itself. Neither it needs to be backward compatible with Vim on this matter (it already is not). And making such changes as early as possible creates a good opportunity to throw away some legacy.I think that making such fallbacks is adding more code for no real reason. It is not much work to move configuration files to the new location.  From NeoVim POV only those requirements are essential:1. 0700, owned by the current user, not shared, allows creating files and directories without any group and other access.2. Inside FS sockets and directories can be created and created with 0n00 on their own.First are security requirements, second are functional requirements. Other requirements you listed is XDG specification requirements or common implementation details. When seeking directory to use you can test any requirement from the list, except for the shared status of the directory. I think the following should be added to this PR:1) OSX and windows fallbacks need to be implemented for all XDG vars2)  should be modified to create sockets in $XDG_RUNTIME_DIR > Why do you think so? -I Because otherwise this will break every existing setup on merge. I think the better approach is to add this as an alternative first and remove the fallback later once the change is properly communicated and the changes are tested in the wild. And no, I don't think people read _Following HEAD_ in the wiki (I don't think people will read anything, at all).> NeoVim ... does not need to have backward compatibility with itself.I disagree, at least in this case. > I think that making such fallbacks is adding more code for no real reason. It is not much work to move configuration files to the new location.Yes, we agreed to that in 78. Especially if we get this in before 0.1. > I don't think people will read anything, at all).I agree, but we need to play the alpha card here. Unless the fallback code is trivial, I don't want to spend a lot of time on it. We have _very few_ users, really. We have more important things to work on than back-compat for a pre-alpha software. If we get XDG right, I think most will be more than happy with that.Rust likely had more users than we do, and they broke things every month.>  should be modified to create sockets in $XDG_RUNTIME_DIR:+1:  By they way, XDG support is going to be another strong out-of-the-box improvement, because we can enable backup/undo without dropping files everywhere.  I'm not on windows so this PR is for unix only. See win_defs.h > If we get XDG right, I think most will be more than happy with that.Sure, I just worry some plugins might insta-break with this, and well, I'm a softie. > Sure, I just worry some plugins might insta-break with this, If it turns into a plugin disaster, we can revert and revisit. Ok? In those cases it will probably be the plugin's fault, really, most likely for hardcodding paths. Anyway, I don't think it's terribly likely to have many issues, but plugins that might need to modify the runtimepath (like plugin managers) have a higher chance of failing. If someone could test this, it would be great (I might do it later if none else cares). BTW, I don't see why the travis build fails, the logs looks clean. What's wrong ? Did you try running the functional test locally? It seems to steal at that point  Regarding XDG_RUNTIME_DIR. From > Weston creates its unix socket file (for example, wayland-0) in the directory specified by the required environment variable $XDG_RUNTIME_DIR. Clients use the same variable to find that socket. This is provided using systemd by some distributions (Fedora, Arch since June 2012 or Exherbo). Ubuntu began providing it in Quantal. It is not provided by Gentoo.> > If you are using a distro that does set $XDG_RUNTIME_DIR for you, you can skip this part. Otherwise, you must set it using your shell profile capability. > ... -I Yes, you're correct.  What I posted was mostly just a summary of what it defines from the specification itself.  Of course software need only be concerned with parts of it.For other Operating Systems, it could be interpreted differently.For the purposes of neovim, all it needs is to create a `TMPDIR/neovim` directory that is owned by the user with `0700` permissions.  `TMPDIR` is a common environment to check for but otherwise assumes `/tmp`, this is not part of any standard/specification afaik, but convention._[Here]( is a small list of software and their XDG Basedir support status._ This needs to create the `$XDG_DATA_HOME/nvim` dir if doesn't exist. I just tried the patches and it errors out on exit because it can't find where to put the viminfo file. Where in the code should I add this ? I reviewed the most common plugin managers, and I found:- pathogen shouldn't have any problems with this- vim-plug shouldn't either- Vundle shouldn't either- VAM assumes '~/vim': - NeoBundle also assumes it as a default:  > Where in the code should I add this ?I would suggest to use `write_viminfo` function from ex_cmds.c. Though you may wait until 2506: this way you will not have to add any code because I already create directory there. This PR has only tests left, but a lot of them. Latest variant with populating &runtimepath from various XDG_ variables is 280c5365d5128a4b1e6419b2ead6c4fe25c5f5ed. Pathogen is not a plugin manager. > pathogen is not a plugin manager-I I know, and I knew someone would comment on it. But it falls within the category I wanted to test, and it was simpler to describe it like this.  About plugins not fine with `~/.config/nvim`: I have saw some and they are neither fine with1. `~/.nvim`.2. Vim installed on Windows.3. According to the documentation: Vim installed on Amiga, OS/2, Macintosh, RISC-OS and VMS (literally everything, but linux).: because they hardcode `~/.vim`.All plugin managers listed as not fine with the change allow configuring directories, _correctly written_ plugins should either iterate over `&runtimepath` or use `expand('<sfile>:…')`. Note: VAM by default _first_ checks whether it can install plugins to the location where it is installed on its own (and assumes that it is installed in pathogen style), so if user is not using system-wide VAM and also did not configure it to use some specific directory it is completely OK to just do `mv --no-target-directory ~/.nvim ~/.config/nvim`. Commit bf4a342e77c659f71eb5f16106b22337480e5a54 adds escaping commas. I am wondering whether anybody is actually supporting using `XDG_*_DIRS` for default &runtimepath. -I > I am wondering whether anybody is actually supporting using XDG_*_DIRS for default &runtimepath.I'm a little confused by your phrasing: are you saying that people wouldn't use this? Up until recently I wasn't aware of a use case for XDG_*_DIRS, but now...I set `XDG_DATA_DIRS=/usr/local/share:/home/michael/.racket/6.2/share` so i3-dmenu-desktop can pick up `/home/michael/.racket/6.2/share/applications/drracket.desktop`. I do this because `XDG_DATA_HOME` is already set to `~/.local/share`, and IIRC it can only contain a single directory path.Admittedly, I can't think of a practical use case specific to nvim, since instead of dealing with environment variables, a user could just append to `&rtp` directly. Consider it food for thought I guess. As mentioned in  , after the mechanics are decided here, this PR will require:1. Documentation. All references to ~/.vim and ~/.nvim should be found and corrected.2. Functional tests that exercise the default values _and_ test that user overrides are respected.We can probably move forward without deciding Windows defaults at the moment, but we'll need to address that shortly thereafter. > I'm a little confused by your phrasing: are you saying that people wouldn't use this? Up until recently I wasn't aware of a use case for XDG_*_DIRS, but now...I am just asking whether this decision is supported by the developers.> Admittedly, I can't think of a practical use case specific to nvim, since instead of dealing with environment variables, a user could just append to &rtp directly. Consider it food for thought I guess.This change is here to support XDG base directory specification. XDG_CONFIG_DIRS is there because specification requires to search configuration there. XDG_DATA_HOME+XDG_DATA_DIRS are there because /usr/share is a data directory and /usr/share/nvim is being used for plugin files (so we are already using directory from XDG_DATA_DIRS for our purposes). > I set XDG_DATA_DIRS=/usr/local/share:/home/michael/.racket/6.2/share so i3-dmenu-desktop can pick up /home/michael/.racket/6.2/share/applications/drracket.desktop. I do this because XDG_DATA_HOME is already set to ~/.local/share, and IIRC it can only contain a single directory path.It is rather strange setting:1. `/usr/share` is missing. It is from defaults and this will break whatever software installed by your system package manager which uses XDG_DATA_DIRS in place of hardcoding prefix=/usr somewhere. If there is such software.2. `~/…` directory is after `/usr/local`. I would expect any user-local directory have greater priority.\n",
      "10106\n",
      "Replaced\n"
     ]
    }
   ],
   "source": [
    "sample_row = df.iloc[2]\n",
    "sample_comment = sample_row.comments\n",
    "sample_lable = sample_row.manual_analysis\n",
    "print(sample_comment)\n",
    "print(len(sample_comment))\n",
    "print(sample_lable)"
   ]
  },
  {
   "cell_type": "code",
   "execution_count": 10,
   "metadata": {},
   "outputs": [],
   "source": [
    "train_df, test_df = train_test_split(df, test_size=0.2, random_state=42, stratify=df.manual_analysis.values)"
   ]
  },
  {
   "attachments": {},
   "cell_type": "markdown",
   "metadata": {},
   "source": [
    "## Creating the model"
   ]
  },
  {
   "cell_type": "code",
   "execution_count": 11,
   "metadata": {},
   "outputs": [],
   "source": [
    "tokenizer = BertTokenizer.from_pretrained('bert-base-uncased')\n",
    "tokens = tokenizer.batch_encode_plus(\n",
    "    df['comments'],\n",
    "    max_length = 512,\n",
    "    padding = 'max_length',\n",
    "    return_attention_mask = True,\n",
    "    return_token_type_ids = False,\n",
    "    truncation=True,\n",
    "    return_tensors = 'pt'\n",
    ")\n",
    "\n",
    "input_ids = tokens['input_ids']\n",
    "attention_mask = tokens['attention_mask']\n",
    "\n",
    "\n"
   ]
  },
  {
   "cell_type": "code",
   "execution_count": 12,
   "metadata": {},
   "outputs": [
    {
     "data": {
      "text/plain": [
       "(torch.Size([500, 512]), torch.Size([500, 512]))"
      ]
     },
     "execution_count": 12,
     "metadata": {},
     "output_type": "execute_result"
    }
   ],
   "source": [
    "tokens['input_ids'].shape, tokens['attention_mask'].shape"
   ]
  },
  {
   "cell_type": "code",
   "execution_count": 13,
   "metadata": {},
   "outputs": [
    {
     "data": {
      "text/plain": [
       "(0.0, 1000.0)"
      ]
     },
     "execution_count": 13,
     "metadata": {},
     "output_type": "execute_result"
    },
    {
     "data": {
      "image/png": "[encoded data removed]",
      "text/plain": [
       "<Figure size 640x480 with 1 Axes>"
      ]
     },
     "metadata": {},
     "output_type": "display_data"
    }
   ],
   "source": [
    "#checking the number of tokens:\n",
    "token_counts = []\n",
    "for _, row in train_df.iterrows():\n",
    "    token_count = len(tokenizer.encode(\n",
    "        row['comments'],\n",
    "        max_length = 20000,\n",
    "        truncation = True,\n",
    "    ))\n",
    "    token_counts.append(token_count)\n",
    "\n",
    "sns.histplot(token_counts)\n",
    "plt.xlim([0, 1000])"
   ]
  },
  {
   "cell_type": "code",
   "execution_count": 63,
   "metadata": {},
   "outputs": [
    {
     "data": {
      "text/plain": [
       "torch.Size([10000000])"
      ]
     },
     "execution_count": 63,
     "metadata": {},
     "output_type": "execute_result"
    }
   ],
   "source": [
    "# #reshape input_ids to one dimension (20000)\n",
    "# input_ids = input_ids.flatten()\n",
    "# input_ids.shape"
   ]
  },
  {
   "cell_type": "code",
   "execution_count": 67,
   "metadata": {},
   "outputs": [
    {
     "data": {
      "text/plain": [
       "['touched',\n",
       " 'that',\n",
       " 'file',\n",
       " 'to',\n",
       " 'remove',\n",
       " 'the',\n",
       " 'else',\n",
       " ',',\n",
       " 'if',\n",
       " 'don',\n",
       " \"'\",\n",
       " 't',\n",
       " 'want',\n",
       " 'it',\n",
       " ',',\n",
       " 'i',\n",
       " 'reverted',\n",
       " 'all',\n",
       " 'changes',\n",
       " 'to']"
      ]
     },
     "execution_count": 67,
     "metadata": {},
     "output_type": "execute_result"
    }
   ],
   "source": [
    "# tokenizer.convert_ids_to_tokens(tokens[\"input_ids\"].flatten())[20:40]"
   ]
  },
  {
   "cell_type": "code",
   "execution_count": 14,
   "metadata": {},
   "outputs": [],
   "source": [
    "le = LabelEncoder()\n",
    "df['label_encoded'] = le.fit_transform(df['manual_analysis'])"
   ]
  },
  {
   "cell_type": "code",
   "execution_count": 15,
   "metadata": {},
   "outputs": [],
   "source": [
    "#having the tokenization in a pytorch Dataset\n",
    "class PRCommentDataset(Dataset):\n",
    "    def __init__(self, df, tokenizer, max_length: 512):\n",
    "        self.df = df\n",
    "        self.tokenizer = tokenizer\n",
    "        self.max_length = max_length\n",
    "\n",
    "    def __len__(self):\n",
    "        return len(self.comments)\n",
    "\n",
    "    def __getitem__(self, index):\n",
    "        comment = self.df.loc[index, 'comments']\n",
    "        labels = self.df.loc[index, 'label_encoded']\n",
    "        encoding = self.tokenizer.encode_plus(\n",
    "            comment,\n",
    "            max_length = self.max_length,\n",
    "            padding = 'max_length',\n",
    "            truncation = True,\n",
    "            return_attention_mask = True,\n",
    "            return_token_type_ids = False,\n",
    "            return_tensors = 'pt'\n",
    "        )\n",
    "\n",
    "        return dict(\n",
    "            comment_text = comment,\n",
    "            input_ids = encoding['input_ids'].flatten(),\n",
    "            attention_mask = encoding['attention_mask'].flatten(),\n",
    "            labels=torch.tensor(labels, dtype = torch.long)\n",
    "        )\n"
   ]
  },
  {
   "cell_type": "code",
   "execution_count": 16,
   "metadata": {},
   "outputs": [
    {
     "ename": "KeyError",
     "evalue": "350",
     "output_type": "error",
     "traceback": [
      "\u001b[0;31m---------------------------------------------------------------------------\u001b[0m",
      "\u001b[0;31mKeyError\u001b[0m                                  Traceback (most recent call last)",
      "File \u001b[0;32m~/miniforge3/envs/m1_gpu/lib/python3.9/site-packages/pandas/core/indexes/base.py:3652\u001b[0m, in \u001b[0;36mIndex.get_loc\u001b[0;34m(self, key)\u001b[0m\n\u001b[1;32m   3651\u001b[0m \u001b[39mtry\u001b[39;00m:\n\u001b[0;32m-> 3652\u001b[0m     \u001b[39mreturn\u001b[39;00m \u001b[39mself\u001b[39;49m\u001b[39m.\u001b[39;49m_engine\u001b[39m.\u001b[39;49mget_loc(casted_key)\n\u001b[1;32m   3653\u001b[0m \u001b[39mexcept\u001b[39;00m \u001b[39mKeyError\u001b[39;00m \u001b[39mas\u001b[39;00m err:\n",
      "File \u001b[0;32m~/miniforge3/envs/m1_gpu/lib/python3.9/site-packages/pandas/_libs/index.pyx:147\u001b[0m, in \u001b[0;36mpandas._libs.index.IndexEngine.get_loc\u001b[0;34m()\u001b[0m\n",
      "File \u001b[0;32m~/miniforge3/envs/m1_gpu/lib/python3.9/site-packages/pandas/_libs/index.pyx:176\u001b[0m, in \u001b[0;36mpandas._libs.index.IndexEngine.get_loc\u001b[0;34m()\u001b[0m\n",
      "File \u001b[0;32mpandas/_libs/hashtable_class_helper.pxi:2606\u001b[0m, in \u001b[0;36mpandas._libs.hashtable.Int64HashTable.get_item\u001b[0;34m()\u001b[0m\n",
      "File \u001b[0;32mpandas/_libs/hashtable_class_helper.pxi:2630\u001b[0m, in \u001b[0;36mpandas._libs.hashtable.Int64HashTable.get_item\u001b[0;34m()\u001b[0m\n",
      "\u001b[0;31mKeyError\u001b[0m: 350",
      "\nThe above exception was the direct cause of the following exception:\n",
      "\u001b[0;31mKeyError\u001b[0m                                  Traceback (most recent call last)",
      "Cell \u001b[0;32mIn[16], line 3\u001b[0m\n\u001b[1;32m      1\u001b[0m train_dataset \u001b[39m=\u001b[39m PRCommentDataset(train_df, tokenizer, max_length\u001b[39m=\u001b[39m\u001b[39m512\u001b[39m)\n\u001b[0;32m----> 3\u001b[0m sample_item \u001b[39m=\u001b[39m train_dataset[\u001b[39m350\u001b[39;49m]\n\u001b[1;32m      4\u001b[0m sample_item\u001b[39m.\u001b[39mkeys()\n",
      "Cell \u001b[0;32mIn[15], line 12\u001b[0m, in \u001b[0;36mPRCommentDataset.__getitem__\u001b[0;34m(self, index)\u001b[0m\n\u001b[1;32m     11\u001b[0m \u001b[39mdef\u001b[39;00m \u001b[39m__getitem__\u001b[39m(\u001b[39mself\u001b[39m, index):\n\u001b[0;32m---> 12\u001b[0m     comment \u001b[39m=\u001b[39m \u001b[39mself\u001b[39;49m\u001b[39m.\u001b[39;49mdf\u001b[39m.\u001b[39;49mloc[index, \u001b[39m'\u001b[39;49m\u001b[39mcomments\u001b[39;49m\u001b[39m'\u001b[39;49m]\n\u001b[1;32m     13\u001b[0m     labels \u001b[39m=\u001b[39m \u001b[39mself\u001b[39m\u001b[39m.\u001b[39mdf\u001b[39m.\u001b[39mloc[index, \u001b[39m'\u001b[39m\u001b[39mlabel_encoded\u001b[39m\u001b[39m'\u001b[39m]\n\u001b[1;32m     14\u001b[0m     encoding \u001b[39m=\u001b[39m \u001b[39mself\u001b[39m\u001b[39m.\u001b[39mtokenizer\u001b[39m.\u001b[39mencode_plus(\n\u001b[1;32m     15\u001b[0m         comment,\n\u001b[1;32m     16\u001b[0m         max_length \u001b[39m=\u001b[39m \u001b[39mself\u001b[39m\u001b[39m.\u001b[39mmax_length,\n\u001b[0;32m   (...)\u001b[0m\n\u001b[1;32m     21\u001b[0m         return_tensors \u001b[39m=\u001b[39m \u001b[39m'\u001b[39m\u001b[39mpt\u001b[39m\u001b[39m'\u001b[39m\n\u001b[1;32m     22\u001b[0m     )\n",
      "File \u001b[0;32m~/miniforge3/envs/m1_gpu/lib/python3.9/site-packages/pandas/core/indexing.py:1096\u001b[0m, in \u001b[0;36m_LocationIndexer.__getitem__\u001b[0;34m(self, key)\u001b[0m\n\u001b[1;32m   1094\u001b[0m     key \u001b[39m=\u001b[39m \u001b[39mtuple\u001b[39m(com\u001b[39m.\u001b[39mapply_if_callable(x, \u001b[39mself\u001b[39m\u001b[39m.\u001b[39mobj) \u001b[39mfor\u001b[39;00m x \u001b[39min\u001b[39;00m key)\n\u001b[1;32m   1095\u001b[0m     \u001b[39mif\u001b[39;00m \u001b[39mself\u001b[39m\u001b[39m.\u001b[39m_is_scalar_access(key):\n\u001b[0;32m-> 1096\u001b[0m         \u001b[39mreturn\u001b[39;00m \u001b[39mself\u001b[39;49m\u001b[39m.\u001b[39;49mobj\u001b[39m.\u001b[39;49m_get_value(\u001b[39m*\u001b[39;49mkey, takeable\u001b[39m=\u001b[39;49m\u001b[39mself\u001b[39;49m\u001b[39m.\u001b[39;49m_takeable)\n\u001b[1;32m   1097\u001b[0m     \u001b[39mreturn\u001b[39;00m \u001b[39mself\u001b[39m\u001b[39m.\u001b[39m_getitem_tuple(key)\n\u001b[1;32m   1098\u001b[0m \u001b[39melse\u001b[39;00m:\n\u001b[1;32m   1099\u001b[0m     \u001b[39m# we by definition only have the 0th axis\u001b[39;00m\n",
      "File \u001b[0;32m~/miniforge3/envs/m1_gpu/lib/python3.9/site-packages/pandas/core/frame.py:3887\u001b[0m, in \u001b[0;36mDataFrame._get_value\u001b[0;34m(self, index, col, takeable)\u001b[0m\n\u001b[1;32m   3881\u001b[0m engine \u001b[39m=\u001b[39m \u001b[39mself\u001b[39m\u001b[39m.\u001b[39mindex\u001b[39m.\u001b[39m_engine\n\u001b[1;32m   3883\u001b[0m \u001b[39mif\u001b[39;00m \u001b[39mnot\u001b[39;00m \u001b[39misinstance\u001b[39m(\u001b[39mself\u001b[39m\u001b[39m.\u001b[39mindex, MultiIndex):\n\u001b[1;32m   3884\u001b[0m     \u001b[39m# CategoricalIndex: Trying to use the engine fastpath may give incorrect\u001b[39;00m\n\u001b[1;32m   3885\u001b[0m     \u001b[39m#  results if our categories are integers that dont match our codes\u001b[39;00m\n\u001b[1;32m   3886\u001b[0m     \u001b[39m# IntervalIndex: IntervalTree has no get_loc\u001b[39;00m\n\u001b[0;32m-> 3887\u001b[0m     row \u001b[39m=\u001b[39m \u001b[39mself\u001b[39;49m\u001b[39m.\u001b[39;49mindex\u001b[39m.\u001b[39;49mget_loc(index)\n\u001b[1;32m   3888\u001b[0m     \u001b[39mreturn\u001b[39;00m series\u001b[39m.\u001b[39m_values[row]\n\u001b[1;32m   3890\u001b[0m \u001b[39m# For MultiIndex going through engine effectively restricts us to\u001b[39;00m\n\u001b[1;32m   3891\u001b[0m \u001b[39m#  same-length tuples; see test_get_set_value_no_partial_indexing\u001b[39;00m\n",
      "File \u001b[0;32m~/miniforge3/envs/m1_gpu/lib/python3.9/site-packages/pandas/core/indexes/base.py:3654\u001b[0m, in \u001b[0;36mIndex.get_loc\u001b[0;34m(self, key)\u001b[0m\n\u001b[1;32m   3652\u001b[0m     \u001b[39mreturn\u001b[39;00m \u001b[39mself\u001b[39m\u001b[39m.\u001b[39m_engine\u001b[39m.\u001b[39mget_loc(casted_key)\n\u001b[1;32m   3653\u001b[0m \u001b[39mexcept\u001b[39;00m \u001b[39mKeyError\u001b[39;00m \u001b[39mas\u001b[39;00m err:\n\u001b[0;32m-> 3654\u001b[0m     \u001b[39mraise\u001b[39;00m \u001b[39mKeyError\u001b[39;00m(key) \u001b[39mfrom\u001b[39;00m \u001b[39merr\u001b[39;00m\n\u001b[1;32m   3655\u001b[0m \u001b[39mexcept\u001b[39;00m \u001b[39mTypeError\u001b[39;00m:\n\u001b[1;32m   3656\u001b[0m     \u001b[39m# If we have a listlike key, _check_indexing_error will raise\u001b[39;00m\n\u001b[1;32m   3657\u001b[0m     \u001b[39m#  InvalidIndexError. Otherwise we fall through and re-raise\u001b[39;00m\n\u001b[1;32m   3658\u001b[0m     \u001b[39m#  the TypeError.\u001b[39;00m\n\u001b[1;32m   3659\u001b[0m     \u001b[39mself\u001b[39m\u001b[39m.\u001b[39m_check_indexing_error(key)\n",
      "\u001b[0;31mKeyError\u001b[0m: 350"
     ]
    }
   ],
   "source": [
    "train_dataset = PRCommentDataset(train_df, tokenizer, max_length=512)\n",
    "\n",
    "sample_item = train_dataset[350]\n",
    "sample_item.keys()"
   ]
  },
  {
   "cell_type": "code",
   "execution_count": 135,
   "metadata": {},
   "outputs": [
    {
     "data": {
      "text/plain": [
       "'Cutting at ~ is the most sensible way of dealing with /NICKs containing ~. Simply rejecting the nick is far too sane and expected. The correct behavior of /NICK foo~bar is _clearly_ to change the nickname to \"foo\", not to indicate that the nickname is erroneous.'"
      ]
     },
     "execution_count": 135,
     "metadata": {},
     "output_type": "execute_result"
    }
   ],
   "source": [
    "sample_item['comment_text']\n"
   ]
  },
  {
   "cell_type": "code",
   "execution_count": 139,
   "metadata": {},
   "outputs": [
    {
     "data": {
      "text/plain": [
       "torch.Size([134144])"
      ]
     },
     "execution_count": 139,
     "metadata": {},
     "output_type": "execute_result"
    }
   ],
   "source": [
    "sample_item['input_ids'].shape"
   ]
  },
  {
   "cell_type": "code",
   "execution_count": 140,
   "metadata": {},
   "outputs": [
    {
     "name": "stderr",
     "output_type": "stream",
     "text": [
      "Some weights of the model checkpoint at bert-base-uncased were not used when initializing BertModel: ['cls.predictions.transform.LayerNorm.weight', 'cls.predictions.bias', 'cls.predictions.decoder.weight', 'cls.seq_relationship.bias', 'cls.predictions.transform.LayerNorm.bias', 'cls.predictions.transform.dense.weight', 'cls.seq_relationship.weight', 'cls.predictions.transform.dense.bias']\n",
      "- This IS expected if you are initializing BertModel from the checkpoint of a model trained on another task or with another architecture (e.g. initializing a BertForSequenceClassification model from a BertForPreTraining model).\n",
      "- This IS NOT expected if you are initializing BertModel from the checkpoint of a model that you expect to be exactly identical (initializing a BertForSequenceClassification model from a BertForSequenceClassification model).\n",
      "Traceback (most recent call last):\n",
      "  File \"<string>\", line 1, in <module>\n",
      "  File \"/Users/amirrshams/miniforge3/envs/m1_gpu/lib/python3.9/multiprocessing/spawn.py\", line 116, in spawn_main\n",
      "    exitcode = _main(fd, parent_sentinel)\n",
      "  File \"/Users/amirrshams/miniforge3/envs/m1_gpu/lib/python3.9/multiprocessing/spawn.py\", line 126, in _main\n",
      "    self = reduction.pickle.load(from_parent)\n",
      "AttributeError: Can't get attribute 'PRCommentClassification' on <module '__main__' (built-in)>\n"
     ]
    },
    {
     "ename": "KeyboardInterrupt",
     "evalue": "",
     "output_type": "error",
     "traceback": [
      "\u001b[0;31m---------------------------------------------------------------------------\u001b[0m",
      "\u001b[0;31mKeyboardInterrupt\u001b[0m                         Traceback (most recent call last)",
      "Cell \u001b[0;32mIn[140], line 2\u001b[0m\n\u001b[1;32m      1\u001b[0m model \u001b[39m=\u001b[39m BertModel\u001b[39m.\u001b[39mfrom_pretrained(\u001b[39m'\u001b[39m\u001b[39mbert-base-uncased\u001b[39m\u001b[39m'\u001b[39m)\n\u001b[0;32m----> 2\u001b[0m sample_batch \u001b[39m=\u001b[39m \u001b[39mnext\u001b[39m(\u001b[39miter\u001b[39;49m(DataLoader(train_dataset, batch_size\u001b[39m=\u001b[39;49m\u001b[39m8\u001b[39;49m, num_workers\u001b[39m=\u001b[39;49m\u001b[39m2\u001b[39;49m)))\n\u001b[1;32m      3\u001b[0m sample_batch[\u001b[39m\"\u001b[39m\u001b[39minput_ids\u001b[39m\u001b[39m\"\u001b[39m]\u001b[39m.\u001b[39mshape, sample_batch[\u001b[39m\"\u001b[39m\u001b[39mattention_mask\u001b[39m\u001b[39m\"\u001b[39m]\u001b[39m.\u001b[39mshape\n",
      "File \u001b[0;32m~/miniforge3/envs/m1_gpu/lib/python3.9/site-packages/torch/utils/data/dataloader.py:435\u001b[0m, in \u001b[0;36m__iter__\u001b[0;34m(self)\u001b[0m\n\u001b[1;32m    428\u001b[0m \u001b[39mdef\u001b[39;00m \u001b[39m__iter__\u001b[39m(\u001b[39mself\u001b[39m) \u001b[39m-\u001b[39m\u001b[39m>\u001b[39m \u001b[39m'\u001b[39m\u001b[39m_BaseDataLoaderIter\u001b[39m\u001b[39m'\u001b[39m:\n\u001b[1;32m    429\u001b[0m     \u001b[39m# When using a single worker the returned iterator should be\u001b[39;00m\n\u001b[1;32m    430\u001b[0m     \u001b[39m# created everytime to avoid reseting its state\u001b[39;00m\n\u001b[1;32m    431\u001b[0m     \u001b[39m# However, in the case of a multiple workers iterator\u001b[39;00m\n\u001b[1;32m    432\u001b[0m     \u001b[39m# the iterator is only created once in the lifetime of the\u001b[39;00m\n\u001b[1;32m    433\u001b[0m     \u001b[39m# DataLoader object so that workers can be reused\u001b[39;00m\n\u001b[1;32m    434\u001b[0m     \u001b[39mif\u001b[39;00m \u001b[39mself\u001b[39m\u001b[39m.\u001b[39mpersistent_workers \u001b[39mand\u001b[39;00m \u001b[39mself\u001b[39m\u001b[39m.\u001b[39mnum_workers \u001b[39m>\u001b[39m \u001b[39m0\u001b[39m:\n\u001b[0;32m--> 435\u001b[0m         \u001b[39mif\u001b[39;00m \u001b[39mself\u001b[39m\u001b[39m.\u001b[39m_iterator \u001b[39mis\u001b[39;00m \u001b[39mNone\u001b[39;00m:\n\u001b[1;32m    436\u001b[0m             \u001b[39mself\u001b[39m\u001b[39m.\u001b[39m_iterator \u001b[39m=\u001b[39m \u001b[39mself\u001b[39m\u001b[39m.\u001b[39m_get_iterator()\n\u001b[1;32m    437\u001b[0m         \u001b[39melse\u001b[39;00m:\n",
      "File \u001b[0;32m~/miniforge3/envs/m1_gpu/lib/python3.9/site-packages/torch/utils/data/dataloader.py:381\u001b[0m, in \u001b[0;36m_get_iterator\u001b[0;34m(self)\u001b[0m\n\u001b[1;32m    377\u001b[0m \u001b[39mself\u001b[39m\u001b[39m.\u001b[39m_iterator \u001b[39m=\u001b[39m \u001b[39mNone\u001b[39;00m\n\u001b[1;32m    379\u001b[0m \u001b[39mself\u001b[39m\u001b[39m.\u001b[39mcheck_worker_number_rationality()\n\u001b[0;32m--> 381\u001b[0m torch\u001b[39m.\u001b[39mset_vital(\u001b[39m'\u001b[39m\u001b[39mDataloader\u001b[39m\u001b[39m'\u001b[39m, \u001b[39m'\u001b[39m\u001b[39menabled\u001b[39m\u001b[39m'\u001b[39m, \u001b[39m'\u001b[39m\u001b[39mTrue\u001b[39m\u001b[39m'\u001b[39m)\n",
      "File \u001b[0;32m~/miniforge3/envs/m1_gpu/lib/python3.9/site-packages/torch/utils/data/dataloader.py:1034\u001b[0m, in \u001b[0;36m__init__\u001b[0;34m(self, loader)\u001b[0m\n\u001b[1;32m   1025\u001b[0m \u001b[39m# Need to `cancel_join_thread` here!\u001b[39;00m\n\u001b[1;32m   1026\u001b[0m \u001b[39m# See sections (2) and (3b) above.\u001b[39;00m\n\u001b[1;32m   1027\u001b[0m index_queue\u001b[39m.\u001b[39mcancel_join_thread()\n\u001b[1;32m   1028\u001b[0m w \u001b[39m=\u001b[39m multiprocessing_context\u001b[39m.\u001b[39mProcess(\n\u001b[1;32m   1029\u001b[0m     target\u001b[39m=\u001b[39m_utils\u001b[39m.\u001b[39mworker\u001b[39m.\u001b[39m_worker_loop,\n\u001b[1;32m   1030\u001b[0m     args\u001b[39m=\u001b[39m(\u001b[39mself\u001b[39m\u001b[39m.\u001b[39m_dataset_kind, \u001b[39mself\u001b[39m\u001b[39m.\u001b[39m_dataset, index_queue,\n\u001b[1;32m   1031\u001b[0m           \u001b[39mself\u001b[39m\u001b[39m.\u001b[39m_worker_result_queue, \u001b[39mself\u001b[39m\u001b[39m.\u001b[39m_workers_done_event,\n\u001b[1;32m   1032\u001b[0m           \u001b[39mself\u001b[39m\u001b[39m.\u001b[39m_auto_collation, \u001b[39mself\u001b[39m\u001b[39m.\u001b[39m_collate_fn, \u001b[39mself\u001b[39m\u001b[39m.\u001b[39m_drop_last,\n\u001b[1;32m   1033\u001b[0m           \u001b[39mself\u001b[39m\u001b[39m.\u001b[39m_base_seed, \u001b[39mself\u001b[39m\u001b[39m.\u001b[39m_worker_init_fn, i, \u001b[39mself\u001b[39m\u001b[39m.\u001b[39m_num_workers,\n\u001b[0;32m-> 1034\u001b[0m           \u001b[39mself\u001b[39m\u001b[39m.\u001b[39m_persistent_workers, \u001b[39mself\u001b[39m\u001b[39m.\u001b[39m_shared_seed))\n\u001b[1;32m   1035\u001b[0m w\u001b[39m.\u001b[39mdaemon \u001b[39m=\u001b[39m \u001b[39mTrue\u001b[39;00m\n\u001b[1;32m   1036\u001b[0m \u001b[39m# NB: Process.start() actually take some time as it needs to\u001b[39;00m\n\u001b[1;32m   1037\u001b[0m \u001b[39m#     start a process and pass the arguments over via a pipe.\u001b[39;00m\n\u001b[1;32m   1038\u001b[0m \u001b[39m#     Therefore, we only add a worker to self._workers list after\u001b[39;00m\n\u001b[1;32m   1039\u001b[0m \u001b[39m#     it started, so that we do not call .join() if program dies\u001b[39;00m\n\u001b[1;32m   1040\u001b[0m \u001b[39m#     before it starts, and __del__ tries to join but will get:\u001b[39;00m\n\u001b[1;32m   1041\u001b[0m \u001b[39m#     AssertionError: can only join a started process.\u001b[39;00m\n",
      "File \u001b[0;32m~/miniforge3/envs/m1_gpu/lib/python3.9/multiprocessing/process.py:121\u001b[0m, in \u001b[0;36mBaseProcess.start\u001b[0;34m(self)\u001b[0m\n\u001b[1;32m    118\u001b[0m \u001b[39massert\u001b[39;00m \u001b[39mnot\u001b[39;00m _current_process\u001b[39m.\u001b[39m_config\u001b[39m.\u001b[39mget(\u001b[39m'\u001b[39m\u001b[39mdaemon\u001b[39m\u001b[39m'\u001b[39m), \\\n\u001b[1;32m    119\u001b[0m        \u001b[39m'\u001b[39m\u001b[39mdaemonic processes are not allowed to have children\u001b[39m\u001b[39m'\u001b[39m\n\u001b[1;32m    120\u001b[0m _cleanup()\n\u001b[0;32m--> 121\u001b[0m \u001b[39mself\u001b[39m\u001b[39m.\u001b[39m_popen \u001b[39m=\u001b[39m \u001b[39mself\u001b[39;49m\u001b[39m.\u001b[39;49m_Popen(\u001b[39mself\u001b[39;49m)\n\u001b[1;32m    122\u001b[0m \u001b[39mself\u001b[39m\u001b[39m.\u001b[39m_sentinel \u001b[39m=\u001b[39m \u001b[39mself\u001b[39m\u001b[39m.\u001b[39m_popen\u001b[39m.\u001b[39msentinel\n\u001b[1;32m    123\u001b[0m \u001b[39m# Avoid a refcycle if the target function holds an indirect\u001b[39;00m\n\u001b[1;32m    124\u001b[0m \u001b[39m# reference to the process object (see bpo-30775)\u001b[39;00m\n",
      "File \u001b[0;32m~/miniforge3/envs/m1_gpu/lib/python3.9/multiprocessing/context.py:224\u001b[0m, in \u001b[0;36mProcess._Popen\u001b[0;34m(process_obj)\u001b[0m\n\u001b[1;32m    222\u001b[0m \u001b[39m@staticmethod\u001b[39m\n\u001b[1;32m    223\u001b[0m \u001b[39mdef\u001b[39;00m \u001b[39m_Popen\u001b[39m(process_obj):\n\u001b[0;32m--> 224\u001b[0m     \u001b[39mreturn\u001b[39;00m _default_context\u001b[39m.\u001b[39;49mget_context()\u001b[39m.\u001b[39;49mProcess\u001b[39m.\u001b[39;49m_Popen(process_obj)\n",
      "File \u001b[0;32m~/miniforge3/envs/m1_gpu/lib/python3.9/multiprocessing/context.py:284\u001b[0m, in \u001b[0;36mSpawnProcess._Popen\u001b[0;34m(process_obj)\u001b[0m\n\u001b[1;32m    281\u001b[0m \u001b[39m@staticmethod\u001b[39m\n\u001b[1;32m    282\u001b[0m \u001b[39mdef\u001b[39;00m \u001b[39m_Popen\u001b[39m(process_obj):\n\u001b[1;32m    283\u001b[0m     \u001b[39mfrom\u001b[39;00m \u001b[39m.\u001b[39;00m\u001b[39mpopen_spawn_posix\u001b[39;00m \u001b[39mimport\u001b[39;00m Popen\n\u001b[0;32m--> 284\u001b[0m     \u001b[39mreturn\u001b[39;00m Popen(process_obj)\n",
      "File \u001b[0;32m~/miniforge3/envs/m1_gpu/lib/python3.9/multiprocessing/popen_spawn_posix.py:32\u001b[0m, in \u001b[0;36mPopen.__init__\u001b[0;34m(self, process_obj)\u001b[0m\n\u001b[1;32m     30\u001b[0m \u001b[39mdef\u001b[39;00m \u001b[39m__init__\u001b[39m(\u001b[39mself\u001b[39m, process_obj):\n\u001b[1;32m     31\u001b[0m     \u001b[39mself\u001b[39m\u001b[39m.\u001b[39m_fds \u001b[39m=\u001b[39m []\n\u001b[0;32m---> 32\u001b[0m     \u001b[39msuper\u001b[39;49m()\u001b[39m.\u001b[39;49m\u001b[39m__init__\u001b[39;49m(process_obj)\n",
      "File \u001b[0;32m~/miniforge3/envs/m1_gpu/lib/python3.9/multiprocessing/popen_fork.py:19\u001b[0m, in \u001b[0;36mPopen.__init__\u001b[0;34m(self, process_obj)\u001b[0m\n\u001b[1;32m     17\u001b[0m \u001b[39mself\u001b[39m\u001b[39m.\u001b[39mreturncode \u001b[39m=\u001b[39m \u001b[39mNone\u001b[39;00m\n\u001b[1;32m     18\u001b[0m \u001b[39mself\u001b[39m\u001b[39m.\u001b[39mfinalizer \u001b[39m=\u001b[39m \u001b[39mNone\u001b[39;00m\n\u001b[0;32m---> 19\u001b[0m \u001b[39mself\u001b[39;49m\u001b[39m.\u001b[39;49m_launch(process_obj)\n",
      "File \u001b[0;32m~/miniforge3/envs/m1_gpu/lib/python3.9/multiprocessing/popen_spawn_posix.py:62\u001b[0m, in \u001b[0;36mPopen._launch\u001b[0;34m(self, process_obj)\u001b[0m\n\u001b[1;32m     60\u001b[0m     \u001b[39mself\u001b[39m\u001b[39m.\u001b[39msentinel \u001b[39m=\u001b[39m parent_r\n\u001b[1;32m     61\u001b[0m     \u001b[39mwith\u001b[39;00m \u001b[39mopen\u001b[39m(parent_w, \u001b[39m'\u001b[39m\u001b[39mwb\u001b[39m\u001b[39m'\u001b[39m, closefd\u001b[39m=\u001b[39m\u001b[39mFalse\u001b[39;00m) \u001b[39mas\u001b[39;00m f:\n\u001b[0;32m---> 62\u001b[0m         f\u001b[39m.\u001b[39;49mwrite(fp\u001b[39m.\u001b[39;49mgetbuffer())\n\u001b[1;32m     63\u001b[0m \u001b[39mfinally\u001b[39;00m:\n\u001b[1;32m     64\u001b[0m     fds_to_close \u001b[39m=\u001b[39m []\n",
      "\u001b[0;31mKeyboardInterrupt\u001b[0m: "
     ]
    }
   ],
   "source": [
    "model = BertModel.from_pretrained('bert-base-uncased')\n",
    "sample_batch = next(iter(DataLoader(train_dataset, batch_size=8, num_workers=2)))\n",
    "sample_batch[\"input_ids\"].shape, sample_batch[\"attention_mask\"].shape"
   ]
  },
  {
   "cell_type": "code",
   "execution_count": 23,
   "metadata": {},
   "outputs": [],
   "source": [
    "class PRCommentDataModule(pl.LightningDataModule):\n",
    "    def __init__(self, train_df, test_df, tokenizer, batch_size=32, max_length=512):\n",
    "        super().__init__()\n",
    "        self.train_df = train_df\n",
    "        self.test_df = test_df\n",
    "        self.tokenizer = tokenizer\n",
    "        self.batch_size = batch_size\n",
    "        self.max_length = max_length\n",
    "    \n",
    "    def setup(self, stage=None):\n",
    "        self.train_dataset = PRCommentDataset(self.train_df, self.tokenizer, self.max_length)\n",
    "        self.test_dataset = PRCommentDataset(self.test_df, self.tokenizer, self.max_length)\n",
    "\n",
    "    def train_dataloader(self):\n",
    "        return DataLoader(self.train_dataset, batch_size=self.batch_size, shuffle = True, num_workers=4)\n",
    "\n",
    "    def test_dataloader(self):\n",
    "        return DataLoader(self.test_dataset, batch_size=self.batch_size, num_workers=4)\n",
    "    \n",
    "    def val_dataloader(self):\n",
    "        return DataLoader(self.test_dataset, batch_size=self.batch_size, num_workers=4)\n",
    "    "
   ]
  },
  {
   "cell_type": "code",
   "execution_count": 18,
   "metadata": {},
   "outputs": [],
   "source": [
    "from typing import Any, Optional\n",
    "\n",
    "\n",
    "from pytorch_lightning.utilities.types import STEP_OUTPUT\n",
    "\n",
    "\n",
    "class PRCommentClassifier(pl.LightningModule):\n",
    "    def __init__(self, n_classes = 11):\n",
    "        super().__init__()\n",
    "        self.model = BertModel.from_pretrained('bert-base-uncased', num_labels = n_classes)\n",
    "        self.n_classes = n_classes\n",
    "    \n",
    "    def forward(self, input_ids, attention_mask, labels=None):\n",
    "        output = self.model(input_ids, attention_mask, labels=labels)\n",
    "        return output.loss, output.logits\n",
    "    def training_step(self, batch, batch_idx):\n",
    "        input_ids = batch[\"input_ids\"]\n",
    "        attention_mask = batch[\"attention_mask\"]\n",
    "        labels = batch[\"labels\"]\n",
    "        loss, logits = self(input_ids, attention_mask, labels)\n",
    "        acc = accuracy_score(labels.cpu(), torch.argmax(logits.cpu(), dim=1))\n",
    "        self.log('train_loss', loss, prog_bar=True)\n",
    "        self.log('train_acc', acc, prog_bar=True)\n",
    "        return loss\n",
    "    \n",
    "    def validation_step(self, batch, batch_idx):\n",
    "        input_ids = batch[\"input_ids\"]\n",
    "        attention_mask = batch[\"attention_mask\"]\n",
    "        labels = batch[\"labels\"]\n",
    "        loss, logits = self(input_ids, attention_mask, labels)\n",
    "        acc = accuracy_score(labels.cpu(), torch.argmax(logits.cpu(), dim=1))\n",
    "        self.log('val_loss', loss, prog_bar=True)\n",
    "        self.log('val_acc', acc, prog_bar=True)\n",
    "        return loss\n",
    "    \n",
    "    def test_step(self, batch, batch_idx):\n",
    "        input_ids = batch[\"input_ids\"]\n",
    "        attention_mask = batch[\"attention_mask\"]\n",
    "        labels = batch[\"labels\"]\n",
    "        loss, logits = self(input_ids, attention_mask, labels)\n",
    "        acc = accuracy_score(labels.cpu(), torch.argmax(logits.cpu(), dim=1))\n",
    "        self.log('test_loss', loss, prog_bar=True)\n",
    "        self.log('test_acc', acc, prog_bar=True)\n",
    "        return loss\n",
    "    \n",
    "    def configure_optimizers(self):\n",
    "        return AdamW(self.parameters(), lr=2e-5)\n",
    "\n"
   ]
  },
  {
   "cell_type": "code",
   "execution_count": 24,
   "metadata": {},
   "outputs": [
    {
     "name": "stderr",
     "output_type": "stream",
     "text": [
      "Some weights of the model checkpoint at bert-base-uncased were not used when initializing BertModel: ['cls.predictions.transform.dense.bias', 'cls.seq_relationship.bias', 'cls.predictions.transform.LayerNorm.weight', 'cls.predictions.bias', 'cls.predictions.transform.LayerNorm.bias', 'cls.seq_relationship.weight', 'cls.predictions.transform.dense.weight', 'cls.predictions.decoder.weight']\n",
      "- This IS expected if you are initializing BertModel from the checkpoint of a model trained on another task or with another architecture (e.g. initializing a BertForSequenceClassification model from a BertForPreTraining model).\n",
      "- This IS NOT expected if you are initializing BertModel from the checkpoint of a model that you expect to be exactly identical (initializing a BertForSequenceClassification model from a BertForSequenceClassification model).\n",
      "GPU available: True (mps), used: True\n",
      "TPU available: False, using: 0 TPU cores\n",
      "IPU available: False, using: 0 IPUs\n",
      "HPU available: False, using: 0 HPUs\n",
      "Missing logger folder: /Users/amirrshams/Library/CloudStorage/OneDrive-UniversityofWaterloo/Thesis/Scripts/NLP/lightning_logs\n",
      "/Users/amirrshams/miniforge3/envs/m1_gpu/lib/python3.9/site-packages/transformers/optimization.py:306: FutureWarning: This implementation of AdamW is deprecated and will be removed in a future version. Use the PyTorch implementation torch.optim.AdamW instead, or set `no_deprecation_warning=True` to disable this warning\n",
      "  warnings.warn(\n",
      "\n",
      "  | Name  | Type      | Params\n",
      "------------------------------------\n",
      "0 | model | BertModel | 109 M \n",
      "------------------------------------\n",
      "109 M     Trainable params\n",
      "0         Non-trainable params\n",
      "109 M     Total params\n",
      "437.929   Total estimated model params size (MB)\n"
     ]
    },
    {
     "data": {
      "application/vnd.jupyter.widget-view+json": {
       "model_id": "198d4e452dcd41228972d506426bda98",
       "version_major": 2,
       "version_minor": 0
      },
      "text/plain": [
       "Sanity Checking: 0it [00:00, ?it/s]"
      ]
     },
     "metadata": {},
     "output_type": "display_data"
    },
    {
     "name": "stderr",
     "output_type": "stream",
     "text": [
      "Traceback (most recent call last):\n",
      "  File \"<string>\", line 1, in <module>\n",
      "  File \"/Users/amirrshams/miniforge3/envs/m1_gpu/lib/python3.9/multiprocessing/spawn.py\", line 116, in spawn_main\n",
      "    exitcode = _main(fd, parent_sentinel)\n",
      "  File \"/Users/amirrshams/miniforge3/envs/m1_gpu/lib/python3.9/multiprocessing/spawn.py\", line 126, in _main\n",
      "    self = reduction.pickle.load(from_parent)\n",
      "AttributeError: Can't get attribute 'PRCommentDataset' on <module '__main__' (built-in)>\n",
      "/Users/amirrshams/miniforge3/envs/m1_gpu/lib/python3.9/site-packages/pytorch_lightning/trainer/call.py:54: UserWarning: Detected KeyboardInterrupt, attempting graceful shutdown...\n",
      "  rank_zero_warn(\"Detected KeyboardInterrupt, attempting graceful shutdown...\")\n",
      "/Users/amirrshams/miniforge3/envs/m1_gpu/lib/python3.9/site-packages/pytorch_lightning/trainer/connectors/checkpoint_connector.py:148: UserWarning: `.test(ckpt_path=None)` was called without a model. The best model of the previous `fit` call will be used. You can pass `.test(ckpt_path='best')` to use the best model or `.test(ckpt_path='last')` to use the last model. If you pass a value, this warning will be silenced.\n",
      "  rank_zero_warn(\n"
     ]
    },
    {
     "ename": "ValueError",
     "evalue": "`.test(ckpt_path=\"best\")` is set but `ModelCheckpoint` is not configured to save the best model.",
     "output_type": "error",
     "traceback": [
      "\u001b[0;31m---------------------------------------------------------------------------\u001b[0m",
      "\u001b[0;31mValueError\u001b[0m                                Traceback (most recent call last)",
      "Cell \u001b[0;32mIn[24], line 8\u001b[0m\n\u001b[1;32m      4\u001b[0m trainer \u001b[39m=\u001b[39m pl\u001b[39m.\u001b[39mTrainer(max_epochs\u001b[39m=\u001b[39m\u001b[39m10\u001b[39m)\n\u001b[1;32m      6\u001b[0m trainer\u001b[39m.\u001b[39mfit(model, data_module)\n\u001b[0;32m----> 8\u001b[0m trainer\u001b[39m.\u001b[39;49mtest()\n",
      "File \u001b[0;32m~/miniforge3/envs/m1_gpu/lib/python3.9/site-packages/pytorch_lightning/trainer/trainer.py:706\u001b[0m, in \u001b[0;36mTrainer.test\u001b[0;34m(self, model, dataloaders, ckpt_path, verbose, datamodule)\u001b[0m\n\u001b[1;32m    704\u001b[0m     model \u001b[39m=\u001b[39m _maybe_unwrap_optimized(model)\n\u001b[1;32m    705\u001b[0m     \u001b[39mself\u001b[39m\u001b[39m.\u001b[39mstrategy\u001b[39m.\u001b[39m_lightning_module \u001b[39m=\u001b[39m model\n\u001b[0;32m--> 706\u001b[0m \u001b[39mreturn\u001b[39;00m call\u001b[39m.\u001b[39;49m_call_and_handle_interrupt(\n\u001b[1;32m    707\u001b[0m     \u001b[39mself\u001b[39;49m, \u001b[39mself\u001b[39;49m\u001b[39m.\u001b[39;49m_test_impl, model, dataloaders, ckpt_path, verbose, datamodule\n\u001b[1;32m    708\u001b[0m )\n",
      "File \u001b[0;32m~/miniforge3/envs/m1_gpu/lib/python3.9/site-packages/pytorch_lightning/trainer/call.py:44\u001b[0m, in \u001b[0;36m_call_and_handle_interrupt\u001b[0;34m(trainer, trainer_fn, *args, **kwargs)\u001b[0m\n\u001b[1;32m     42\u001b[0m         \u001b[39mreturn\u001b[39;00m trainer\u001b[39m.\u001b[39mstrategy\u001b[39m.\u001b[39mlauncher\u001b[39m.\u001b[39mlaunch(trainer_fn, \u001b[39m*\u001b[39margs, trainer\u001b[39m=\u001b[39mtrainer, \u001b[39m*\u001b[39m\u001b[39m*\u001b[39mkwargs)\n\u001b[1;32m     43\u001b[0m     \u001b[39melse\u001b[39;00m:\n\u001b[0;32m---> 44\u001b[0m         \u001b[39mreturn\u001b[39;00m trainer_fn(\u001b[39m*\u001b[39;49margs, \u001b[39m*\u001b[39;49m\u001b[39m*\u001b[39;49mkwargs)\n\u001b[1;32m     46\u001b[0m \u001b[39mexcept\u001b[39;00m _TunerExitException:\n\u001b[1;32m     47\u001b[0m     _call_teardown_hook(trainer)\n",
      "File \u001b[0;32m~/miniforge3/envs/m1_gpu/lib/python3.9/site-packages/pytorch_lightning/trainer/trainer.py:746\u001b[0m, in \u001b[0;36mTrainer._test_impl\u001b[0;34m(self, model, dataloaders, ckpt_path, verbose, datamodule)\u001b[0m\n\u001b[1;32m    743\u001b[0m \u001b[39m# links data to the trainer\u001b[39;00m\n\u001b[1;32m    744\u001b[0m \u001b[39mself\u001b[39m\u001b[39m.\u001b[39m_data_connector\u001b[39m.\u001b[39mattach_data(model, test_dataloaders\u001b[39m=\u001b[39mdataloaders, datamodule\u001b[39m=\u001b[39mdatamodule)\n\u001b[0;32m--> 746\u001b[0m ckpt_path \u001b[39m=\u001b[39m \u001b[39mself\u001b[39;49m\u001b[39m.\u001b[39;49m_checkpoint_connector\u001b[39m.\u001b[39;49m_select_ckpt_path(\n\u001b[1;32m    747\u001b[0m     \u001b[39mself\u001b[39;49m\u001b[39m.\u001b[39;49mstate\u001b[39m.\u001b[39;49mfn, ckpt_path, model_provided\u001b[39m=\u001b[39;49mmodel_provided, model_connected\u001b[39m=\u001b[39;49m\u001b[39mself\u001b[39;49m\u001b[39m.\u001b[39;49mlightning_module \u001b[39mis\u001b[39;49;00m \u001b[39mnot\u001b[39;49;00m \u001b[39mNone\u001b[39;49;00m\n\u001b[1;32m    748\u001b[0m )\n\u001b[1;32m    749\u001b[0m results \u001b[39m=\u001b[39m \u001b[39mself\u001b[39m\u001b[39m.\u001b[39m_run(model, ckpt_path\u001b[39m=\u001b[39mckpt_path)\n\u001b[1;32m    750\u001b[0m \u001b[39m# remove the tensors from the test results\u001b[39;00m\n",
      "File \u001b[0;32m~/miniforge3/envs/m1_gpu/lib/python3.9/site-packages/pytorch_lightning/trainer/connectors/checkpoint_connector.py:107\u001b[0m, in \u001b[0;36m_CheckpointConnector._select_ckpt_path\u001b[0;34m(self, state_fn, ckpt_path, model_provided, model_connected)\u001b[0m\n\u001b[1;32m    105\u001b[0m         ckpt_path \u001b[39m=\u001b[39m \u001b[39mself\u001b[39m\u001b[39m.\u001b[39m_ckpt_path\n\u001b[1;32m    106\u001b[0m \u001b[39melse\u001b[39;00m:\n\u001b[0;32m--> 107\u001b[0m     ckpt_path \u001b[39m=\u001b[39m \u001b[39mself\u001b[39;49m\u001b[39m.\u001b[39;49m_parse_ckpt_path(\n\u001b[1;32m    108\u001b[0m         state_fn,\n\u001b[1;32m    109\u001b[0m         ckpt_path,\n\u001b[1;32m    110\u001b[0m         model_provided\u001b[39m=\u001b[39;49mmodel_provided,\n\u001b[1;32m    111\u001b[0m         model_connected\u001b[39m=\u001b[39;49mmodel_connected,\n\u001b[1;32m    112\u001b[0m     )\n\u001b[1;32m    113\u001b[0m \u001b[39mreturn\u001b[39;00m ckpt_path\n",
      "File \u001b[0;32m~/miniforge3/envs/m1_gpu/lib/python3.9/site-packages/pytorch_lightning/trainer/connectors/checkpoint_connector.py:174\u001b[0m, in \u001b[0;36m_CheckpointConnector._parse_ckpt_path\u001b[0;34m(self, state_fn, ckpt_path, model_provided, model_connected)\u001b[0m\n\u001b[1;32m    169\u001b[0m     \u001b[39mif\u001b[39;00m \u001b[39mself\u001b[39m\u001b[39m.\u001b[39mtrainer\u001b[39m.\u001b[39mfast_dev_run:\n\u001b[1;32m    170\u001b[0m         \u001b[39mraise\u001b[39;00m \u001b[39mValueError\u001b[39;00m(\n\u001b[1;32m    171\u001b[0m             \u001b[39mf\u001b[39m\u001b[39m'\u001b[39m\u001b[39mYou cannot execute `.\u001b[39m\u001b[39m{\u001b[39;00mfn\u001b[39m}\u001b[39;00m\u001b[39m(ckpt_path=\u001b[39m\u001b[39m\"\u001b[39m\u001b[39mbest\u001b[39m\u001b[39m\"\u001b[39m\u001b[39m)` with `fast_dev_run=True`.\u001b[39m\u001b[39m'\u001b[39m\n\u001b[1;32m    172\u001b[0m             \u001b[39mf\u001b[39m\u001b[39m\"\u001b[39m\u001b[39m Please pass an exact checkpoint path to `.\u001b[39m\u001b[39m{\u001b[39;00mfn\u001b[39m}\u001b[39;00m\u001b[39m(ckpt_path=...)`\u001b[39m\u001b[39m\"\u001b[39m\n\u001b[1;32m    173\u001b[0m         )\n\u001b[0;32m--> 174\u001b[0m     \u001b[39mraise\u001b[39;00m \u001b[39mValueError\u001b[39;00m(\n\u001b[1;32m    175\u001b[0m         \u001b[39mf\u001b[39m\u001b[39m'\u001b[39m\u001b[39m`.\u001b[39m\u001b[39m{\u001b[39;00mfn\u001b[39m}\u001b[39;00m\u001b[39m(ckpt_path=\u001b[39m\u001b[39m\"\u001b[39m\u001b[39mbest\u001b[39m\u001b[39m\"\u001b[39m\u001b[39m)` is set but `ModelCheckpoint` is not configured to save the best model.\u001b[39m\u001b[39m'\u001b[39m\n\u001b[1;32m    176\u001b[0m     )\n\u001b[1;32m    177\u001b[0m \u001b[39m# load best weights\u001b[39;00m\n\u001b[1;32m    178\u001b[0m ckpt_path \u001b[39m=\u001b[39m \u001b[39mgetattr\u001b[39m(\u001b[39mself\u001b[39m\u001b[39m.\u001b[39mtrainer\u001b[39m.\u001b[39mcheckpoint_callback, \u001b[39m\"\u001b[39m\u001b[39mbest_model_path\u001b[39m\u001b[39m\"\u001b[39m, \u001b[39mNone\u001b[39;00m)\n",
      "\u001b[0;31mValueError\u001b[0m: `.test(ckpt_path=\"best\")` is set but `ModelCheckpoint` is not configured to save the best model."
     ]
    }
   ],
   "source": [
    "data_module = PRCommentDataModule(train_df, test_df, tokenizer)\n",
    "model = PRCommentClassifier()\n",
    "\n",
    "trainer = pl.Trainer(max_epochs=10)\n",
    "\n",
    "trainer.fit(model, data_module)\n",
    "\n",
    "trainer.test()"
   ]
  },
  {
   "cell_type": "code",
   "execution_count": null,
   "metadata": {},
   "outputs": [],
   "source": [
    "torch.save(model.state_dict(), 'bert_model.pth')\n"
   ]
  }
 ],
 "metadata": {
  "kernelspec": {
   "display_name": "Python 3",
   "language": "python",
   "name": "python3"
  },
  "language_info": {
   "codemirror_mode": {
    "name": "ipython",
    "version": 3
   },
   "file_extension": ".py",
   "mimetype": "text/x-python",
   "name": "python",
   "nbconvert_exporter": "python",
   "pygments_lexer": "ipython3",
   "version": "3.9.16"
  },
  "orig_nbformat": 4
 },
 "nbformat": 4,
 "nbformat_minor": 2
}
